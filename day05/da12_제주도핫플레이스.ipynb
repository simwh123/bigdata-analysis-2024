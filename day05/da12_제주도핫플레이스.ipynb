{
 "cells": [
  {
   "cell_type": "markdown",
   "metadata": {},
   "source": [
    "## 빅데이터 실습\n",
    "\n",
    "### 제주도 핫플레이스 시각화\n",
    "\n",
    "#### 데이터 불러오기"
   ]
  },
  {
   "cell_type": "code",
   "execution_count": null,
   "metadata": {},
   "outputs": [],
   "source": [
    "import matplotlib.pyplot as plt\n",
    "import numpy as np\n",
    "import pandas as pd\n",
    "import seaborn as sns\n",
    "from selenium import webdriver\n",
    "from selenium.webdriver.common.by import By\n",
    "from bs4 import BeautifulSoup\n",
    "import unicodedata  # 유니코드 데이터 처리 모듈\n",
    "import re   # 정규식 처리 모듈\n",
    "import time\n",
    "from PIL import Image,ImageOps\n",
    "from tqdm import tqdm\n",
    "from collections import Counter\n",
    "from wordcloud import WordCloud\n",
    "import platform\n",
    "import folium\n",
    "from folium.plugins import MarkerCluster # 마커클러스터용 클래스 추가\n",
    "import requests # 인터넷에서 받아오는 라이브러리"
   ]
  },
  {
   "cell_type": "code",
   "execution_count": null,
   "metadata": {},
   "outputs": [],
   "source": [
    "# 한글 깨짐 문제 해결\n",
    "from matplotlib import rcParams, font_manager, rc\n",
    "\n",
    "font_path = 'C:/Windows/Fonts/malgun.ttf'\n",
    "font = font_manager.FontProperties(fname=font_path).get_name()\n",
    "rc('font',family=font)\n",
    "rcParams['axes.unicode_minus'] = False"
   ]
  },
  {
   "cell_type": "code",
   "execution_count": null,
   "metadata": {},
   "outputs": [],
   "source": [
    "#불필요한 경고메시지 제거\n",
    "import warnings\n",
    "warnings.filterwarnings('ignore')   "
   ]
  },
  {
   "cell_type": "code",
   "execution_count": null,
   "metadata": {},
   "outputs": [],
   "source": [
    "## 데이터 불러오기\n",
    "rawTotal = pd.read_excel('../day04/data/1_crawling_raw.xlsx')\n",
    "rawTotal"
   ]
  },
  {
   "cell_type": "code",
   "execution_count": null,
   "metadata": {},
   "outputs": [],
   "source": [
    "# 위치정보 확인\n",
    "locCounts = rawTotal['place'].value_counts()\n",
    "locCounts.head(5)"
   ]
  },
  {
   "cell_type": "code",
   "execution_count": null,
   "metadata": {},
   "outputs": [],
   "source": [
    "# DF로 변경\n",
    "dfLocCounts = pd.DataFrame(locCounts)\n",
    "dfLocCounts.head(5)"
   ]
  },
  {
   "cell_type": "code",
   "execution_count": null,
   "metadata": {},
   "outputs": [],
   "source": [
    "dfLocCounts.to_excel('./data/3_location_counts.xlsx')"
   ]
  },
  {
   "cell_type": "code",
   "execution_count": null,
   "metadata": {},
   "outputs": [],
   "source": [
    "Location = list(dfLocCounts.index)\n",
    "Location"
   ]
  },
  {
   "cell_type": "markdown",
   "metadata": {},
   "source": [
    "##### 카카오 OPEN API로 장소 검색\n",
    "- 카카오 개발자 사이트에서 애플리케이션 등록\n",
    "- key를 받음"
   ]
  },
  {
   "cell_type": "code",
   "execution_count": null,
   "metadata": {},
   "outputs": [],
   "source": [
    "shopName = '고래배꼽'\n",
    "## keyword는 가게명,  address는 가게 주소로 검색\n",
    "url = f'https://dapi.kakao.com/v2/local/search/keyword.json?query={shopName}'\n",
    "\n",
    "#header = {'Authorization' : 'KakaoAK 056c8acfa7a0c735d59a6d2d9b97502c'}\n",
    "\n",
    "places = requests.get(url, headers=header).json()['documents'][0]\n",
    "places"
   ]
  },
  {
   "cell_type": "code",
   "execution_count": null,
   "metadata": {},
   "outputs": [],
   "source": [
    "## 장소 검색 함수 findPlace\n",
    "def findPlace(shopName):\n",
    "    # 1. 검색API 주소변수\n",
    "    url = f'https://dapi.kakao.com/v2/local/search/keyword.json?query={shopName}'\n",
    "    # 2. header 구성\n",
    "    header\n",
    "    # 3. API를 웹으로 요청, 결과 리턴\n",
    "    places = requests.get(url, headers=header).json()['documents'][0]\n",
    "    # 4. 필요정보만 추출\n",
    "    realName = places['place_name']\n",
    "    lat = places['y'] # 위도(latitude)\n",
    "    lng = places['x'] # 경도(longgitude)\n",
    "    phoneNumber = places['phone']\n",
    "    realAddress = places['address_name']\n",
    "\n",
    "    return[shopName, realName,phoneNumber,realAddress,lat,lng]"
   ]
  },
  {
   "cell_type": "code",
   "execution_count": null,
   "metadata": {},
   "outputs": [],
   "source": [
    "findPlace('제주 공항')"
   ]
  },
  {
   "cell_type": "code",
   "execution_count": null,
   "metadata": {},
   "outputs": [],
   "source": [
    "# Locations 리스트를 반복문으로 주소가져오는 처리\n",
    "locationResults = []\n",
    "\n",
    "for loc in tqdm(Location):\n",
    "    try:\n",
    "        data = findPlace(loc)\n",
    "        locationResults.append(data)\n",
    "        time.sleep(0.3)\n",
    "    except:\n",
    "        pass"
   ]
  },
  {
   "cell_type": "code",
   "execution_count": null,
   "metadata": {},
   "outputs": [],
   "source": [
    "## list --> DataFrame 변경\n",
    "dfLocationResult = pd.DataFrame(locationResults)"
   ]
  },
  {
   "cell_type": "code",
   "execution_count": null,
   "metadata": {},
   "outputs": [],
   "source": [
    "dfLocationResult.columns=['초기이름','실제이름','전화번호','주소','위도','경도']"
   ]
  },
  {
   "cell_type": "code",
   "execution_count": null,
   "metadata": {},
   "outputs": [],
   "source": [
    "dfLocationResult.to_excel('./data/3_locations.xlsx',index=False)"
   ]
  },
  {
   "cell_type": "markdown",
   "metadata": {},
   "source": [
    "#### 인스타그램 크롤링정보와 카카오API로 주소 검색결과정보 병함"
   ]
  },
  {
   "cell_type": "code",
   "execution_count": null,
   "metadata": {},
   "outputs": [],
   "source": [
    "dfLocCounts.reset_index(inplace=True)"
   ]
  },
  {
   "cell_type": "code",
   "execution_count": null,
   "metadata": {},
   "outputs": [],
   "source": [
    "dfLocationResult.head()"
   ]
  },
  {
   "cell_type": "code",
   "execution_count": null,
   "metadata": {},
   "outputs": [],
   "source": [
    "dfLocCounts.head()"
   ]
  },
  {
   "cell_type": "code",
   "execution_count": null,
   "metadata": {},
   "outputs": [],
   "source": [
    "locationData = pd.merge(left=dfLocationResult,right=dfLocCounts, how='inner',left_on='초기이름',right_on='place')"
   ]
  },
  {
   "cell_type": "code",
   "execution_count": null,
   "metadata": {},
   "outputs": [],
   "source": [
    "locationData.tail()"
   ]
  },
  {
   "cell_type": "code",
   "execution_count": null,
   "metadata": {},
   "outputs": [],
   "source": [
    "# 중복데이터 확인\n",
    "locationData['실제이름'].value_counts()"
   ]
  },
  {
   "cell_type": "code",
   "execution_count": null,
   "metadata": {},
   "outputs": [],
   "source": [
    "# 중복데이터 pivot\n",
    "locationDataFinal = locationData.pivot_table(values='count',index=['실제이름','주소','위도','경도'],aggfunc='sum')"
   ]
  },
  {
   "cell_type": "code",
   "execution_count": null,
   "metadata": {},
   "outputs": [],
   "source": [
    "locationDataFinal.reset_index(inplace=True)"
   ]
  },
  {
   "cell_type": "code",
   "execution_count": null,
   "metadata": {},
   "outputs": [],
   "source": [
    "locationDataFinal.to_excel('./data/3_locations_final.xlsx')"
   ]
  },
  {
   "cell_type": "code",
   "execution_count": null,
   "metadata": {},
   "outputs": [],
   "source": [
    "## 위도, 경도가 object에서 float64로 변경\n",
    "locationDataFinal = locationDataFinal.astype({'위도':'float64','경도':'float64'})"
   ]
  },
  {
   "cell_type": "markdown",
   "metadata": {},
   "source": [
    "##### 지도 시각화\n",
    "- folium 사용    "
   ]
  },
  {
   "cell_type": "code",
   "execution_count": null,
   "metadata": {},
   "outputs": [],
   "source": [
    "locHanlaMt = [33.362050,126.530087]\n",
    "map = folium.Map(location=locHanlaMt,zoom_start=11,tiles='OpenStreetMap')\n",
    "\n",
    "for i in range(len(locationDataFinal)): #709번 반족\n",
    "    name = locationDataFinal['실제이름'][i] # DF 컬럼이름 행값 == i\n",
    "    count = int(locationDataFinal['count'][i])\n",
    "    lat = float(locationDataFinal['위도'][i])\n",
    "    lng = float(locationDataFinal['경도'][i])\n",
    "    folium.CircleMarker(location=[lat,lng],radius=count,color='red',popup=name).add_to(map)\n",
    "map"
   ]
  },
  {
   "cell_type": "code",
   "execution_count": null,
   "metadata": {},
   "outputs": [],
   "source": [
    "map.save('./data/3_jeju_hotplaces.html')"
   ]
  },
  {
   "cell_type": "code",
   "execution_count": null,
   "metadata": {},
   "outputs": [],
   "source": [
    "## 마커 클러스터\n",
    "mapLocation = []\n",
    "mapNames = []\n",
    "for i in range(len(locationDataFinal)):\n",
    "    data = locationDataFinal.iloc[i]    # 행 하나씩 읽어옴\n",
    "    mapLocation.append((float(data['위도']),float(data['경도'])))\n",
    "    mapNames.append(data['실제이름'])\n",
    "\n",
    "locHanlaMt = [33.362050,126.530087]\n",
    "map = folium.Map(location=locHanlaMt, zoom_start=11, tiles='OpenStreetMap')\n",
    "\n",
    "markerCluster = MarkerCluster(locations=mapLocation, popups=mapNames, name='제주 핫플레이스', overlay=True, control=True)\n",
    "markerCluster.add_to(map)\n",
    "folium.LayerControl().add_to(map)\n",
    "\n",
    "map.save('./data/3_jeju_hotplaces_cluster.html')"
   ]
  }
 ],
 "metadata": {
  "kernelspec": {
   "display_name": "Python 3",
   "language": "python",
   "name": "python3"
  },
  "language_info": {
   "codemirror_mode": {
    "name": "ipython",
    "version": 3
   },
   "file_extension": ".py",
   "mimetype": "text/x-python",
   "name": "python",
   "nbconvert_exporter": "python",
   "pygments_lexer": "ipython3",
   "version": "3.12.2"
  }
 },
 "nbformat": 4,
 "nbformat_minor": 2
}
