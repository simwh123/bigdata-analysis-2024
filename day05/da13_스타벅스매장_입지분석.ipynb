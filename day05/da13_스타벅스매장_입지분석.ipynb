{
 "cells": [
  {
   "cell_type": "markdown",
   "metadata": {},
   "source": [
    "## 빅데이터 실습\n",
    "\n",
    "### 스타벅스매장 입지 분석\n",
    "\n",
    "#### 데이터 수집\n",
    "\n",
    "##### 셀레니움 사용 자동화"
   ]
  },
  {
   "cell_type": "code",
   "execution_count": 1,
   "metadata": {},
   "outputs": [],
   "source": [
    "import matplotlib.pyplot as plt\n",
    "import numpy as np\n",
    "import pandas as pd\n",
    "import seaborn as sns\n",
    "from selenium import webdriver\n",
    "from selenium.webdriver.common.by import By\n",
    "from bs4 import BeautifulSoup\n",
    "import unicodedata  # 유니코드 데이터 처리 모듈\n",
    "import re   # 정규식 처리 모듈\n",
    "import time\n",
    "from PIL import Image,ImageOps\n",
    "from tqdm import tqdm\n",
    "from collections import Counter\n",
    "from wordcloud import WordCloud\n",
    "import platform\n",
    "import folium\n",
    "from folium.plugins import MarkerCluster # 마커클러스터용 클래스 추가\n",
    "import requests # 인터넷에서 받아오는 라이브러리"
   ]
  },
  {
   "cell_type": "code",
   "execution_count": 2,
   "metadata": {},
   "outputs": [],
   "source": [
    "# 한글 깨짐 문제 해결\n",
    "from matplotlib import rcParams, font_manager, rc\n",
    "\n",
    "font_path = 'C:/Windows/Fonts/malgun.ttf'\n",
    "font = font_manager.FontProperties(fname=font_path).get_name()\n",
    "rc('font',family=font)\n",
    "rcParams['axes.unicode_minus'] = False"
   ]
  },
  {
   "cell_type": "code",
   "execution_count": 3,
   "metadata": {},
   "outputs": [],
   "source": [
    "#불필요한 경고메시지 제거\n",
    "import warnings\n",
    "warnings.filterwarnings('ignore')   "
   ]
  },
  {
   "cell_type": "code",
   "execution_count": 10,
   "metadata": {},
   "outputs": [],
   "source": [
    "# 웹드라이버 스타벅스 웹사이트 오픈\n",
    "driver = webdriver.Chrome()\n",
    "url = 'https://www.starbucks.co.kr/store/store_map.do?disp=locale'\n",
    "driver.get(url)"
   ]
  },
  {
   "cell_type": "code",
   "execution_count": 14,
   "metadata": {},
   "outputs": [],
   "source": [
    "# 서울링크 클릭\n",
    "path1 = 'div.loca_step1_cont > ul > li:nth-child(1) > a'\n",
    "driver.find_element(By.CSS_SELECTOR, path1).click()"
   ]
  },
  {
   "cell_type": "code",
   "execution_count": null,
   "metadata": {},
   "outputs": [],
   "source": [
    "# 서울클릭 다른 방법\n",
    "''' \n",
    "name = 'set_sido_cd_btn'\n",
    "driver.find_elements(By.CLASS_NAME, name)[0].click()\n",
    "'''"
   ]
  },
  {
   "cell_type": "code",
   "execution_count": 16,
   "metadata": {},
   "outputs": [],
   "source": [
    "# 웹드라이버에서 소스 위치, 전체링크 클릭\n",
    "name = 'set_gugun_cd_btn'\n",
    "driver.find_elements(By.CLASS_NAME, name)[0].click()"
   ]
  },
  {
   "cell_type": "markdown",
   "metadata": {},
   "source": [
    "##### BeautifulSoup로 html 가져오기"
   ]
  },
  {
   "cell_type": "code",
   "execution_count": 45,
   "metadata": {},
   "outputs": [],
   "source": [
    "html = driver.page_source\n",
    "soup = BeautifulSoup(html, 'html.parser')"
   ]
  },
  {
   "cell_type": "code",
   "execution_count": 46,
   "metadata": {},
   "outputs": [],
   "source": [
    "sbseoullist = soup.select('li.quickResultLstCon')"
   ]
  },
  {
   "cell_type": "code",
   "execution_count": null,
   "metadata": {},
   "outputs": [],
   "source": [
    "sbseoullist"
   ]
  },
  {
   "cell_type": "markdown",
   "metadata": {},
   "source": [
    "##### 서울 매장 리스트 DF"
   ]
  },
  {
   "cell_type": "code",
   "execution_count": 59,
   "metadata": {},
   "outputs": [],
   "source": [
    "sbseoulstores = []\n",
    "for i in sbseoullist:\n",
    "    name = i.select('strong')[0].text.strip()   # 가게명\n",
    "    lat = i['data-lat'].strip()     # 위도\n",
    "    lng = i['data-long'].strip()    # 경도\n",
    "    storeType = i.select('i')[0]['class'][0].split('_')[1] # 가게종류(일반, 리저브, DT, WT)\n",
    "    address = str(i.select('p.result_details')[0]).split('<br/>')[0].split('>')[1]\n",
    "    tel = str(i.select('p.result_details')[0]).split('<br/>')[1].split('<')[0]  # 전화번호(1522-3232 대표번호로 변경)\n",
    "    sbseoulstores.append([name,lat,lng,storeType,address,tel])\n"
   ]
  },
  {
   "cell_type": "code",
   "execution_count": 60,
   "metadata": {},
   "outputs": [],
   "source": [
    "dfStarBucksSeoul = pd.DataFrame(sbseoulstores, columns=['매장명','위도','경도','매장타입','주소','전화번호'])"
   ]
  },
  {
   "cell_type": "code",
   "execution_count": 61,
   "metadata": {},
   "outputs": [
    {
     "data": {
      "text/html": [
       "<div>\n",
       "<style scoped>\n",
       "    .dataframe tbody tr th:only-of-type {\n",
       "        vertical-align: middle;\n",
       "    }\n",
       "\n",
       "    .dataframe tbody tr th {\n",
       "        vertical-align: top;\n",
       "    }\n",
       "\n",
       "    .dataframe thead th {\n",
       "        text-align: right;\n",
       "    }\n",
       "</style>\n",
       "<table border=\"1\" class=\"dataframe\">\n",
       "  <thead>\n",
       "    <tr style=\"text-align: right;\">\n",
       "      <th></th>\n",
       "      <th>매장명</th>\n",
       "      <th>위도</th>\n",
       "      <th>경도</th>\n",
       "      <th>매장타입</th>\n",
       "      <th>주소</th>\n",
       "      <th>전화번호</th>\n",
       "    </tr>\n",
       "  </thead>\n",
       "  <tbody>\n",
       "    <tr>\n",
       "      <th>0</th>\n",
       "      <td>역삼아레나빌딩</td>\n",
       "      <td>37.501087</td>\n",
       "      <td>127.043069</td>\n",
       "      <td>general</td>\n",
       "      <td>서울특별시 강남구 언주로 425 (역삼동)</td>\n",
       "      <td>1522-3232</td>\n",
       "    </tr>\n",
       "    <tr>\n",
       "      <th>1</th>\n",
       "      <td>논현역사거리</td>\n",
       "      <td>37.510178</td>\n",
       "      <td>127.022223</td>\n",
       "      <td>general</td>\n",
       "      <td>서울특별시 강남구 강남대로 538 (논현동)</td>\n",
       "      <td>1522-3232</td>\n",
       "    </tr>\n",
       "    <tr>\n",
       "      <th>2</th>\n",
       "      <td>신사역성일빌딩</td>\n",
       "      <td>37.5139309</td>\n",
       "      <td>127.0206057</td>\n",
       "      <td>general</td>\n",
       "      <td>서울특별시 강남구 강남대로 584 (논현동)</td>\n",
       "      <td>1522-3232</td>\n",
       "    </tr>\n",
       "    <tr>\n",
       "      <th>3</th>\n",
       "      <td>국기원사거리</td>\n",
       "      <td>37.499517</td>\n",
       "      <td>127.031495</td>\n",
       "      <td>general</td>\n",
       "      <td>서울특별시 강남구 테헤란로 125 (역삼동)</td>\n",
       "      <td>1522-3232</td>\n",
       "    </tr>\n",
       "    <tr>\n",
       "      <th>4</th>\n",
       "      <td>대치재경빌딩</td>\n",
       "      <td>37.494668</td>\n",
       "      <td>127.062583</td>\n",
       "      <td>general</td>\n",
       "      <td>서울특별시 강남구 남부순환로 2947 (대치동)</td>\n",
       "      <td>1522-3232</td>\n",
       "    </tr>\n",
       "    <tr>\n",
       "      <th>...</th>\n",
       "      <td>...</td>\n",
       "      <td>...</td>\n",
       "      <td>...</td>\n",
       "      <td>...</td>\n",
       "      <td>...</td>\n",
       "      <td>...</td>\n",
       "    </tr>\n",
       "    <tr>\n",
       "      <th>608</th>\n",
       "      <td>사가정역</td>\n",
       "      <td>37.579594</td>\n",
       "      <td>127.087966</td>\n",
       "      <td>general</td>\n",
       "      <td>서울특별시 중랑구 면목로 310</td>\n",
       "      <td>1522-3232</td>\n",
       "    </tr>\n",
       "    <tr>\n",
       "      <th>609</th>\n",
       "      <td>상봉역</td>\n",
       "      <td>37.59689</td>\n",
       "      <td>127.08647</td>\n",
       "      <td>general</td>\n",
       "      <td>서울특별시 중랑구 망우로 307 (상봉동)</td>\n",
       "      <td>1522-3232</td>\n",
       "    </tr>\n",
       "    <tr>\n",
       "      <th>610</th>\n",
       "      <td>묵동</td>\n",
       "      <td>37.615368</td>\n",
       "      <td>127.076633</td>\n",
       "      <td>general</td>\n",
       "      <td>서울특별시 중랑구 동일로 952 (묵동, 로프트원 태릉입구역) 1층</td>\n",
       "      <td>1522-3232</td>\n",
       "    </tr>\n",
       "    <tr>\n",
       "      <th>611</th>\n",
       "      <td>양원역</td>\n",
       "      <td>37.6066536267232</td>\n",
       "      <td>127.106359790053</td>\n",
       "      <td>general</td>\n",
       "      <td>서울특별시 중랑구 양원역로10길 3 (망우동)</td>\n",
       "      <td>1522-3232</td>\n",
       "    </tr>\n",
       "    <tr>\n",
       "      <th>612</th>\n",
       "      <td>중화역</td>\n",
       "      <td>37.60170912407773</td>\n",
       "      <td>127.07841136432036</td>\n",
       "      <td>general</td>\n",
       "      <td>서울특별시 중랑구 봉화산로 35 1층</td>\n",
       "      <td>1522-3232</td>\n",
       "    </tr>\n",
       "  </tbody>\n",
       "</table>\n",
       "<p>613 rows × 6 columns</p>\n",
       "</div>"
      ],
      "text/plain": [
       "         매장명                 위도                  경도     매장타입  \\\n",
       "0    역삼아레나빌딩          37.501087          127.043069  general   \n",
       "1     논현역사거리          37.510178          127.022223  general   \n",
       "2    신사역성일빌딩         37.5139309         127.0206057  general   \n",
       "3     국기원사거리          37.499517          127.031495  general   \n",
       "4     대치재경빌딩          37.494668          127.062583  general   \n",
       "..       ...                ...                 ...      ...   \n",
       "608     사가정역          37.579594          127.087966  general   \n",
       "609      상봉역           37.59689           127.08647  general   \n",
       "610       묵동          37.615368          127.076633  general   \n",
       "611      양원역   37.6066536267232    127.106359790053  general   \n",
       "612      중화역  37.60170912407773  127.07841136432036  general   \n",
       "\n",
       "                                        주소       전화번호  \n",
       "0                  서울특별시 강남구 언주로 425 (역삼동)  1522-3232  \n",
       "1                 서울특별시 강남구 강남대로 538 (논현동)  1522-3232  \n",
       "2                 서울특별시 강남구 강남대로 584 (논현동)  1522-3232  \n",
       "3                 서울특별시 강남구 테헤란로 125 (역삼동)  1522-3232  \n",
       "4               서울특별시 강남구 남부순환로 2947 (대치동)  1522-3232  \n",
       "..                                     ...        ...  \n",
       "608                      서울특별시 중랑구 면목로 310  1522-3232  \n",
       "609                서울특별시 중랑구 망우로 307 (상봉동)  1522-3232  \n",
       "610  서울특별시 중랑구 동일로 952 (묵동, 로프트원 태릉입구역) 1층  1522-3232  \n",
       "611              서울특별시 중랑구 양원역로10길 3 (망우동)  1522-3232  \n",
       "612                   서울특별시 중랑구 봉화산로 35 1층  1522-3232  \n",
       "\n",
       "[613 rows x 6 columns]"
      ]
     },
     "execution_count": 61,
     "metadata": {},
     "output_type": "execute_result"
    }
   ],
   "source": [
    "dfStarBucksSeoul"
   ]
  },
  {
   "cell_type": "code",
   "execution_count": 62,
   "metadata": {},
   "outputs": [],
   "source": [
    "dfStarBucksSeoul.to_excel('./data/starbucks_seoul_list.xlsx')"
   ]
  },
  {
   "cell_type": "code",
   "execution_count": 64,
   "metadata": {},
   "outputs": [],
   "source": [
    "### 서울열린데이터광장 OpenAPI\n",
    "\n",
    "key = '5751755353746c613535496d704867'"
   ]
  },
  {
   "cell_type": "code",
   "execution_count": 65,
   "metadata": {},
   "outputs": [
    {
     "data": {
      "text/plain": [
       "'http://openapi.seoul.go.kr:8088/5751755353746c613535496d704867/json/SdeTlSccoSigW/1/25'"
      ]
     },
     "execution_count": 65,
     "metadata": {},
     "output_type": "execute_result"
    }
   ],
   "source": [
    "url = f'http://openapi.seoul.go.kr:8088/{key}/json/SdeTlSccoSigW/1/25'\n",
    "url"
   ]
  },
  {
   "cell_type": "code",
   "execution_count": null,
   "metadata": {},
   "outputs": [],
   "source": [
    "# 서울시 지도\n",
    "https://github.com/southkorea/seoul-maps/blob/master/juso/2015/json/seoul_municipalities_geo_simple.json"
   ]
  }
 ],
 "metadata": {
  "kernelspec": {
   "display_name": "Python 3",
   "language": "python",
   "name": "python3"
  },
  "language_info": {
   "codemirror_mode": {
    "name": "ipython",
    "version": 3
   },
   "file_extension": ".py",
   "mimetype": "text/x-python",
   "name": "python",
   "nbconvert_exporter": "python",
   "pygments_lexer": "ipython3",
   "version": "3.12.2"
  }
 },
 "nbformat": 4,
 "nbformat_minor": 2
}
