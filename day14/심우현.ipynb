{
 "cells": [
  {
   "cell_type": "code",
   "execution_count": 2,
   "metadata": {},
   "outputs": [],
   "source": [
    "import requests\n",
    "import json\n",
    "import xmltodict\n",
    "import pandas as pd\n",
    "from datetime import datetime\n",
    "import matplotlib.pyplot as plt\n",
    "import numpy as np\n",
    "import seaborn as sns"
   ]
  },
  {
   "cell_type": "code",
   "execution_count": 3,
   "metadata": {},
   "outputs": [],
   "source": [
    "from matplotlib import rcParams, font_manager, rc\n",
    "\n",
    "font_path = 'C:/Windows/Fonts/malgun.ttf'\n",
    "font = font_manager.FontProperties(fname=font_path).get_name()\n",
    "rc('font',family=font)\n",
    "rcParams['axes.unicode_minus'] = False"
   ]
  },
  {
   "cell_type": "code",
   "execution_count": 4,
   "metadata": {},
   "outputs": [],
   "source": [
    "# API 키\n",
    "serviceKey = r'qD9EPBoeW3jjfktf3X%2Ftr3syHNjWfOzloUDZ5WfJwKtsyVCRzFy2v4OfNffjH5ulAtfuFrINMfhraiEFLeVmNQ%3D%3D'"
   ]
  },
  {
   "cell_type": "code",
   "execution_count": 5,
   "metadata": {},
   "outputs": [],
   "source": [
    "# 정보 가져오기\n",
    "baseUrl = 'http://apis.data.go.kr/B551015/API38_1/ticketSalesRanking_1?'\n",
    "parameter = f'serviceKey={serviceKey}&pageNo=1&numOfRows=60'\n",
    "totalUrl = baseUrl + parameter"
   ]
  },
  {
   "cell_type": "code",
   "execution_count": 6,
   "metadata": {},
   "outputs": [
    {
     "data": {
      "text/plain": [
       "'http://apis.data.go.kr/B551015/API38_1/ticketSalesRanking_1?serviceKey=qD9EPBoeW3jjfktf3X%2Ftr3syHNjWfOzloUDZ5WfJwKtsyVCRzFy2v4OfNffjH5ulAtfuFrINMfhraiEFLeVmNQ%3D%3D&pageNo=1&numOfRows=60'"
      ]
     },
     "execution_count": 6,
     "metadata": {},
     "output_type": "execute_result"
    }
   ],
   "source": [
    "totalUrl"
   ]
  },
  {
   "cell_type": "code",
   "execution_count": 7,
   "metadata": {},
   "outputs": [
    {
     "data": {
      "text/plain": [
       "'<?xml version=\"1.0\" encoding=\"UTF-8\" standalone=\"yes\"?><response><header><resultCode>00</resultCode><resultMsg>NORMAL SERVICE.</resultMsg></header><body><items><item><amtOrd>1</amtOrd><exaAmt>0</exaAmt><meet>서울</meet><plcAmt>279883200</plcAmt><qnlAmt>10794303700</qnlAmt><qplAmt>0</qplAmt><rcDate>20020908</rcDate><rcNo>12</rcNo><tlaAmt>0</tlaAmt><totalAmt>11156888600</totalAmt><triAmt>0</triAmt><winAmt>82701700</winAmt></item><item><amtOrd>2</amtOrd><exaAmt>0</exaAmt><meet>서울</meet><plcAmt>201144500</plcAmt><qnlAmt>10764621900</qnlAmt><qplAmt>0</qplAmt><rcDate>20020407</rcDate><rcNo>12</rcNo><tlaAmt>0</tlaAmt><totalAmt>11055846400</totalAmt><triAmt>0</triAmt><winAmt>90080000</winAmt></item><item><amtOrd>3</amtOrd><exaAmt>0</exaAmt><meet>서울</meet><plcAmt>289923400</plcAmt><qnlAmt>10530159600</qnlAmt><qplAmt>0</qplAmt><rcDate>20020915</rcDate><rcNo>13</rcNo><tlaAmt>0</tlaAmt><totalAmt>10918529500</totalAmt><triAmt>0</triAmt><winAmt>98446500</winAmt></item><item><amtOrd>4</amtOrd><exaAmt>0</exaAmt><meet>서울</meet><plcAmt>150472800</plcAmt><qnlAmt>10600735200</qnlAmt><qplAmt>0</qplAmt><rcDate>20020526</rcDate><rcNo>12</rcNo><tlaAmt>0</tlaAmt><totalAmt>10854858600</totalAmt><triAmt>0</triAmt><winAmt>103650600</winAmt></item><item><amtOrd>5</amtOrd><exaAmt>0</exaAmt><meet>서울</meet><plcAmt>193146800</plcAmt><qnlAmt>10517902300</qnlAmt><qplAmt>0</qplAmt><rcDate>20020331</rcDate><rcNo>12</rcNo><tlaAmt>0</tlaAmt><totalAmt>10829078000</totalAmt><triAmt>0</triAmt><winAmt>118028900</winAmt></item><item><amtOrd>6</amtOrd><exaAmt>0</exaAmt><meet>서울</meet><plcAmt>211225200</plcAmt><qnlAmt>10446210200</qnlAmt><qplAmt>0</qplAmt><rcDate>20020317</rcDate><rcNo>12</rcNo><tlaAmt>0</tlaAmt><totalAmt>10752341600</totalAmt><triAmt>0</triAmt><winAmt>94906200</winAmt></item><item><amtOrd>7</amtOrd><exaAmt>0</exaAmt><meet>서울</meet><plcAmt>237792500</plcAmt><qnlAmt>10355419900</qnlAmt><qplAmt>0</qplAmt><rcDate>20020310</rcDate><rcNo>12</rcNo><tlaAmt>0</tlaAmt><totalAmt>10693804100</totalAmt><triAmt>0</triAmt><winAmt>100591700</winAmt></item><item><amtOrd>8</amtOrd><exaAmt>0</exaAmt><meet>서울</meet><plcAmt>197777200</plcAmt><qnlAmt>10255086900</qnlAmt><qplAmt>0</qplAmt><rcDate>20020714</rcDate><rcNo>12</rcNo><tlaAmt>0</tlaAmt><totalAmt>10586176300</totalAmt><triAmt>0</triAmt><winAmt>133312200</winAmt></item><item><amtOrd>9</amtOrd><exaAmt>0</exaAmt><meet>서울</meet><plcAmt>213043100</plcAmt><qnlAmt>10165524300</qnlAmt><qplAmt>0</qplAmt><rcDate>20020512</rcDate><rcNo>12</rcNo><tlaAmt>0</tlaAmt><totalAmt>10475395300</totalAmt><triAmt>0</triAmt><winAmt>96827900</winAmt></item><item><amtOrd>10</amtOrd><exaAmt>0</exaAmt><meet>서울</meet><plcAmt>219365300</plcAmt><qnlAmt>10159936000</qnlAmt><qplAmt>0</qplAmt><rcDate>20011223</rcDate><rcNo>11</rcNo><tlaAmt>0</tlaAmt><totalAmt>10460011400</totalAmt><triAmt>0</triAmt><winAmt>80710100</winAmt></item><item><amtOrd>11</amtOrd><exaAmt>0</exaAmt><meet>서울</meet><plcAmt>195314500</plcAmt><qnlAmt>10158989000</qnlAmt><qplAmt>0</qplAmt><rcDate>20021222</rcDate><rcNo>11</rcNo><tlaAmt>0</tlaAmt><totalAmt>10433772400</totalAmt><triAmt>0</triAmt><winAmt>79468900</winAmt></item><item><amtOrd>12</amtOrd><exaAmt>0</exaAmt><meet>서울</meet><plcAmt>105697500</plcAmt><qnlAmt>10213665400</qnlAmt><qplAmt>0</qplAmt><rcDate>20020519</rcDate><rcNo>12</rcNo><tlaAmt>0</tlaAmt><totalAmt>10400408200</totalAmt><triAmt>0</triAmt><winAmt>81045300</winAmt></item><item><amtOrd>13</amtOrd><exaAmt>0</exaAmt><meet>서울</meet><plcAmt>153373000</plcAmt><qnlAmt>10010758600</qnlAmt><qplAmt>0</qplAmt><rcDate>20020630</rcDate><rcNo>12</rcNo><tlaAmt>0</tlaAmt><totalAmt>10317610400</totalAmt><triAmt>0</triAmt><winAmt>153478800</winAmt></item><item><amtOrd>14</amtOrd><exaAmt>0</exaAmt><meet>서울</meet><plcAmt>123453400</plcAmt><qnlAmt>10105968800</qnlAmt><qplAmt>0</qplAmt><rcDate>20020721</rcDate><rcNo>11</rcNo><tlaAmt>0</tlaAmt><totalAmt>10308636200</totalAmt><triAmt>0</triAmt><winAmt>79214000</winAmt></item><item><amtOrd>15</amtOrd><exaAmt>0</exaAmt><meet>서울</meet><plcAmt>200192100</plcAmt><qnlAmt>9986066600</qnlAmt><qplAmt>0</qplAmt><rcDate>20021215</rcDate><rcNo>11</rcNo><tlaAmt>0</tlaAmt><totalAmt>10267131300</totalAmt><triAmt>0</triAmt><winAmt>80872600</winAmt></item><item><amtOrd>16</amtOrd><exaAmt>0</exaAmt><meet>서울</meet><plcAmt>238480500</plcAmt><qnlAmt>9901859900</qnlAmt><qplAmt>0</qplAmt><rcDate>20020901</rcDate><rcNo>13</rcNo><tlaAmt>0</tlaAmt><totalAmt>10229301700</totalAmt><triAmt>0</triAmt><winAmt>88961300</winAmt></item><item><amtOrd>17</amtOrd><exaAmt>0</exaAmt><meet>서울</meet><plcAmt>139528100</plcAmt><qnlAmt>9951238300</qnlAmt><qplAmt>0</qplAmt><rcDate>20020602</rcDate><rcNo>12</rcNo><tlaAmt>0</tlaAmt><totalAmt>10210684800</totalAmt><triAmt>0</triAmt><winAmt>119918400</winAmt></item><item><amtOrd>18</amtOrd><exaAmt>0</exaAmt><meet>서울</meet><plcAmt>227759300</plcAmt><qnlAmt>9858923200</qnlAmt><qplAmt>0</qplAmt><rcDate>20020728</rcDate><rcNo>12</rcNo><tlaAmt>0</tlaAmt><totalAmt>10181322300</totalAmt><triAmt>0</triAmt><winAmt>94639800</winAmt></item><item><amtOrd>19</amtOrd><exaAmt>0</exaAmt><meet>서울</meet><plcAmt>255194400</plcAmt><qnlAmt>9747353900</qnlAmt><qplAmt>0</qplAmt><rcDate>20020616</rcDate><rcNo>12</rcNo><tlaAmt>0</tlaAmt><totalAmt>10090393100</totalAmt><triAmt>0</triAmt><winAmt>87844800</winAmt></item><item><amtOrd>20</amtOrd><exaAmt>0</exaAmt><meet>서울</meet><plcAmt>231048500</plcAmt><qnlAmt>9716999000</qnlAmt><qplAmt>0</qplAmt><rcDate>20020728</rcDate><rcNo>11</rcNo><tlaAmt>0</tlaAmt><totalAmt>10043863200</totalAmt><triAmt>0</triAmt><winAmt>95815700</winAmt></item><item><amtOrd>21</amtOrd><exaAmt>0</exaAmt><meet>서울</meet><plcAmt>167150200</plcAmt><qnlAmt>9752830500</qnlAmt><qplAmt>0</qplAmt><rcDate>20020721</rcDate><rcNo>12</rcNo><tlaAmt>0</tlaAmt><totalAmt>10010118100</totalAmt><triAmt>0</triAmt><winAmt>90137400</winAmt></item><item><amtOrd>22</amtOrd><exaAmt>0</exaAmt><meet>서울</meet><plcAmt>363102500</plcAmt><qnlAmt>9435577100</qnlAmt><qplAmt>0</qplAmt><rcDate>20020721</rcDate><rcNo>10</rcNo><tlaAmt>0</tlaAmt><totalAmt>9987332400</totalAmt><triAmt>0</triAmt><winAmt>188652800</winAmt></item><item><amtOrd>23</amtOrd><exaAmt>0</exaAmt><meet>서울</meet><plcAmt>308356700</plcAmt><qnlAmt>9522805700</qnlAmt><qplAmt>0</qplAmt><rcDate>20020818</rcDate><rcNo>11</rcNo><tlaAmt>0</tlaAmt><totalAmt>9935038200</totalAmt><triAmt>0</triAmt><winAmt>103875800</winAmt></item><item><amtOrd>24</amtOrd><exaAmt>0</exaAmt><meet>서울</meet><plcAmt>300044300</plcAmt><qnlAmt>9471569000</qnlAmt><qplAmt>0</qplAmt><rcDate>20020303</rcDate><rcNo>12</rcNo><tlaAmt>0</tlaAmt><totalAmt>9868156200</totalAmt><triAmt>0</triAmt><winAmt>96542900</winAmt></item><item><amtOrd>25</amtOrd><exaAmt>0</exaAmt><meet>서울</meet><plcAmt>213029600</plcAmt><qnlAmt>9493892800</qnlAmt><qplAmt>0</qplAmt><rcDate>20020203</rcDate><rcNo>12</rcNo><tlaAmt>0</tlaAmt><totalAmt>9788161000</totalAmt><triAmt>0</triAmt><winAmt>81238600</winAmt></item><item><amtOrd>26</amtOrd><exaAmt>0</exaAmt><meet>서울</meet><plcAmt>213604700</plcAmt><qnlAmt>9451740200</qnlAmt><qplAmt>0</qplAmt><rcDate>20020818</rcDate><rcNo>12</rcNo><tlaAmt>0</tlaAmt><totalAmt>9748966700</totalAmt><triAmt>0</triAmt><winAmt>83621800</winAmt></item><item><amtOrd>27</amtOrd><exaAmt>0</exaAmt><meet>서울</meet><plcAmt>366564500</plcAmt><qnlAmt>9216831300</qnlAmt><qplAmt>0</qplAmt><rcDate>20021006</rcDate><rcNo>10</rcNo><tlaAmt>0</tlaAmt><totalAmt>9710416600</totalAmt><triAmt>0</triAmt><winAmt>127020800</winAmt></item><item><amtOrd>28</amtOrd><exaAmt>0</exaAmt><meet>서울</meet><plcAmt>230985600</plcAmt><qnlAmt>9368918800</qnlAmt><qplAmt>0</qplAmt><rcDate>20020210</rcDate><rcNo>12</rcNo><tlaAmt>0</tlaAmt><totalAmt>9677796600</totalAmt><triAmt>0</triAmt><winAmt>77892200</winAmt></item><item><amtOrd>29</amtOrd><exaAmt>0</exaAmt><meet>서울</meet><plcAmt>111008200</plcAmt><qnlAmt>9456746000</qnlAmt><qplAmt>0</qplAmt><rcDate>20020707</rcDate><rcNo>12</rcNo><tlaAmt>0</tlaAmt><totalAmt>9668315700</totalAmt><triAmt>0</triAmt><winAmt>100561500</winAmt></item><item><amtOrd>30</amtOrd><exaAmt>0</exaAmt><meet>서울</meet><plcAmt>324793100</plcAmt><qnlAmt>9226331800</qnlAmt><qplAmt>0</qplAmt><rcDate>20021110</rcDate><rcNo>10</rcNo><tlaAmt>0</tlaAmt><totalAmt>9658230100</totalAmt><triAmt>0</triAmt><winAmt>107105200</winAmt></item><item><amtOrd>31</amtOrd><exaAmt>0</exaAmt><meet>서울</meet><plcAmt>341901200</plcAmt><qnlAmt>9119345000</qnlAmt><qplAmt>0</qplAmt><rcDate>20020414</rcDate><rcNo>12</rcNo><tlaAmt>0</tlaAmt><totalAmt>9628322700</totalAmt><triAmt>0</triAmt><winAmt>167076500</winAmt></item><item><amtOrd>32</amtOrd><exaAmt>0</exaAmt><meet>서울</meet><plcAmt>187512400</plcAmt><qnlAmt>9357112300</qnlAmt><qplAmt>0</qplAmt><rcDate>20020428</rcDate><rcNo>12</rcNo><tlaAmt>0</tlaAmt><totalAmt>9621890100</totalAmt><triAmt>0</triAmt><winAmt>77265400</winAmt></item><item><amtOrd>33</amtOrd><exaAmt>0</exaAmt><meet>서울</meet><plcAmt>367997600</plcAmt><qnlAmt>9154548300</qnlAmt><qplAmt>0</qplAmt><rcDate>20020519</rcDate><rcNo>10</rcNo><tlaAmt>0</tlaAmt><totalAmt>9614175800</totalAmt><triAmt>0</triAmt><winAmt>91629900</winAmt></item><item><amtOrd>34</amtOrd><exaAmt>0</exaAmt><meet>서울</meet><plcAmt>313930500</plcAmt><qnlAmt>9128704500</qnlAmt><qplAmt>0</qplAmt><rcDate>20020623</rcDate><rcNo>10</rcNo><tlaAmt>0</tlaAmt><totalAmt>9562735600</totalAmt><triAmt>0</triAmt><winAmt>120100600</winAmt></item><item><amtOrd>35</amtOrd><exaAmt>0</exaAmt><meet>서울</meet><plcAmt>206029000</plcAmt><qnlAmt>9265790000</qnlAmt><qplAmt>0</qplAmt><rcDate>20011216</rcDate><rcNo>11</rcNo><tlaAmt>0</tlaAmt><totalAmt>9560756200</totalAmt><triAmt>0</triAmt><winAmt>88937200</winAmt></item><item><amtOrd>36</amtOrd><exaAmt>0</exaAmt><meet>서울</meet><plcAmt>252817500</plcAmt><qnlAmt>9200007800</qnlAmt><qplAmt>0</qplAmt><rcDate>20020811</rcDate><rcNo>11</rcNo><tlaAmt>0</tlaAmt><totalAmt>9555581400</totalAmt><triAmt>0</triAmt><winAmt>102756100</winAmt></item><item><amtOrd>37</amtOrd><exaAmt>2016237100</exaAmt><meet>서울</meet><plcAmt>506662700</plcAmt><qnlAmt>6912932200</qnlAmt><qplAmt>0</qplAmt><rcDate>20020727</rcDate><rcNo>11</rcNo><tlaAmt>0</tlaAmt><totalAmt>9529706300</totalAmt><triAmt>0</triAmt><winAmt>93874300</winAmt></item><item><amtOrd>38</amtOrd><exaAmt>0</exaAmt><meet>서울</meet><plcAmt>225361600</plcAmt><qnlAmt>9207805300</qnlAmt><qplAmt>0</qplAmt><rcDate>20020421</rcDate><rcNo>12</rcNo><tlaAmt>0</tlaAmt><totalAmt>9527549700</totalAmt><triAmt>0</triAmt><winAmt>94382800</winAmt></item><item><amtOrd>39</amtOrd><exaAmt>0</exaAmt><meet>서울</meet><plcAmt>338017500</plcAmt><qnlAmt>9060398600</qnlAmt><qplAmt>0</qplAmt><rcDate>20020825</rcDate><rcNo>13</rcNo><tlaAmt>0</tlaAmt><totalAmt>9522022600</totalAmt><triAmt>0</triAmt><winAmt>123606500</winAmt></item><item><amtOrd>40</amtOrd><exaAmt>0</exaAmt><meet>서울</meet><plcAmt>331460200</plcAmt><qnlAmt>9081741600</qnlAmt><qplAmt>0</qplAmt><rcDate>20020317</rcDate><rcNo>11</rcNo><tlaAmt>0</tlaAmt><totalAmt>9503407500</totalAmt><triAmt>0</triAmt><winAmt>90205700</winAmt></item><item><amtOrd>41</amtOrd><exaAmt>0</exaAmt><meet>서울</meet><plcAmt>276883800</plcAmt><qnlAmt>9121109300</qnlAmt><qplAmt>0</qplAmt><rcDate>20020209</rcDate><rcNo>12</rcNo><tlaAmt>0</tlaAmt><totalAmt>9483264100</totalAmt><triAmt>0</triAmt><winAmt>85271000</winAmt></item><item><amtOrd>42</amtOrd><exaAmt>0</exaAmt><meet>서울</meet><plcAmt>372820200</plcAmt><qnlAmt>8982234900</qnlAmt><qplAmt>0</qplAmt><rcDate>20020303</rcDate><rcNo>9</rcNo><tlaAmt>0</tlaAmt><totalAmt>9475148100</totalAmt><triAmt>0</triAmt><winAmt>120093000</winAmt></item><item><amtOrd>43</amtOrd><exaAmt>0</exaAmt><meet>서울</meet><plcAmt>511119300</plcAmt><qnlAmt>8805915100</qnlAmt><qplAmt>0</qplAmt><rcDate>20020609</rcDate><rcNo>10</rcNo><tlaAmt>0</tlaAmt><totalAmt>9451044500</totalAmt><triAmt>0</triAmt><winAmt>134010100</winAmt></item><item><amtOrd>44</amtOrd><exaAmt>0</exaAmt><meet>서울</meet><plcAmt>288665400</plcAmt><qnlAmt>9022625100</qnlAmt><qplAmt>0</qplAmt><rcDate>20020623</rcDate><rcNo>12</rcNo><tlaAmt>0</tlaAmt><totalAmt>9422996100</totalAmt><triAmt>0</triAmt><winAmt>111705600</winAmt></item><item><amtOrd>45</amtOrd><exaAmt>0</exaAmt><meet>서울</meet><plcAmt>279342600</plcAmt><qnlAmt>9007221700</qnlAmt><qplAmt>0</qplAmt><rcDate>20020811</rcDate><rcNo>9</rcNo><tlaAmt>0</tlaAmt><totalAmt>9399890900</totalAmt><triAmt>0</triAmt><winAmt>113326600</winAmt></item><item><amtOrd>46</amtOrd><exaAmt>0</exaAmt><meet>서울</meet><plcAmt>356246100</plcAmt><qnlAmt>8930562800</qnlAmt><qplAmt>0</qplAmt><rcDate>20020727</rcDate><rcNo>12</rcNo><tlaAmt>0</tlaAmt><totalAmt>9399014900</totalAmt><triAmt>0</triAmt><winAmt>112206000</winAmt></item><item><amtOrd>47</amtOrd><exaAmt>0</exaAmt><meet>서울</meet><plcAmt>295711400</plcAmt><qnlAmt>9006241300</qnlAmt><qplAmt>0</qplAmt><rcDate>20021124</rcDate><rcNo>11</rcNo><tlaAmt>0</tlaAmt><totalAmt>9384415000</totalAmt><triAmt>0</triAmt><winAmt>82462300</winAmt></item><item><amtOrd>48</amtOrd><exaAmt>0</exaAmt><meet>서울</meet><plcAmt>196770100</plcAmt><qnlAmt>9045802800</qnlAmt><qplAmt>0</qplAmt><rcDate>20020707</rcDate><rcNo>11</rcNo><tlaAmt>0</tlaAmt><totalAmt>9336464400</totalAmt><triAmt>0</triAmt><winAmt>93891500</winAmt></item><item><amtOrd>49</amtOrd><exaAmt>0</exaAmt><meet>서울</meet><plcAmt>366431700</plcAmt><qnlAmt>8863464000</qnlAmt><qplAmt>0</qplAmt><rcDate>20021208</rcDate><rcNo>9</rcNo><tlaAmt>0</tlaAmt><totalAmt>9323912500</totalAmt><triAmt>0</triAmt><winAmt>94016800</winAmt></item><item><amtOrd>50</amtOrd><exaAmt>0</exaAmt><meet>서울</meet><plcAmt>231996300</plcAmt><qnlAmt>8987130400</qnlAmt><qplAmt>0</qplAmt><rcDate>20020324</rcDate><rcNo>9</rcNo><tlaAmt>0</tlaAmt><totalAmt>9316068000</totalAmt><triAmt>0</triAmt><winAmt>96941300</winAmt></item><item><amtOrd>51</amtOrd><exaAmt>0</exaAmt><meet>서울</meet><plcAmt>279245200</plcAmt><qnlAmt>8936236400</qnlAmt><qplAmt>0</qplAmt><rcDate>20020720</rcDate><rcNo>12</rcNo><tlaAmt>0</tlaAmt><totalAmt>9302178800</totalAmt><triAmt>0</triAmt><winAmt>86697200</winAmt></item><item><amtOrd>52</amtOrd><exaAmt>0</exaAmt><meet>서울</meet><plcAmt>146981000</plcAmt><qnlAmt>8995516900</qnlAmt><qplAmt>0</qplAmt><rcDate>20030511</rcDate><rcNo>12</rcNo><tlaAmt>0</tlaAmt><totalAmt>9244247100</totalAmt><triAmt>0</triAmt><winAmt>101749200</winAmt></item><item><amtOrd>53</amtOrd><exaAmt>0</exaAmt><meet>서울</meet><plcAmt>217436200</plcAmt><qnlAmt>8942343000</qnlAmt><qplAmt>0</qplAmt><rcDate>20030518</rcDate><rcNo>12</rcNo><tlaAmt>0</tlaAmt><totalAmt>9241435500</totalAmt><triAmt>0</triAmt><winAmt>81656300</winAmt></item><item><amtOrd>54</amtOrd><exaAmt>0</exaAmt><meet>서울</meet><plcAmt>214752700</plcAmt><qnlAmt>8942746700</qnlAmt><qplAmt>0</qplAmt><rcDate>20030126</rcDate><rcNo>11</rcNo><tlaAmt>0</tlaAmt><totalAmt>9237394300</totalAmt><triAmt>0</triAmt><winAmt>79894900</winAmt></item><item><amtOrd>55</amtOrd><exaAmt>0</exaAmt><meet>서울</meet><plcAmt>194899800</plcAmt><qnlAmt>8958081500</qnlAmt><qplAmt>0</qplAmt><rcDate>20030413</rcDate><rcNo>12</rcNo><tlaAmt>0</tlaAmt><totalAmt>9236844300</totalAmt><triAmt>0</triAmt><winAmt>83863000</winAmt></item><item><amtOrd>56</amtOrd><exaAmt>0</exaAmt><meet>서울</meet><plcAmt>381499500</plcAmt><qnlAmt>8733282800</qnlAmt><qplAmt>0</qplAmt><rcDate>20020817</rcDate><rcNo>12</rcNo><tlaAmt>0</tlaAmt><totalAmt>9207028300</totalAmt><triAmt>0</triAmt><winAmt>92246000</winAmt></item><item><amtOrd>57</amtOrd><exaAmt>0</exaAmt><meet>서울</meet><plcAmt>143992700</plcAmt><qnlAmt>8990281800</qnlAmt><qplAmt>0</qplAmt><rcDate>20020324</rcDate><rcNo>12</rcNo><tlaAmt>0</tlaAmt><totalAmt>9199667100</totalAmt><triAmt>0</triAmt><winAmt>65392600</winAmt></item><item><amtOrd>58</amtOrd><exaAmt>0</exaAmt><meet>서울</meet><plcAmt>264743000</plcAmt><qnlAmt>8840660300</qnlAmt><qplAmt>0</qplAmt><rcDate>20020811</rcDate><rcNo>12</rcNo><tlaAmt>0</tlaAmt><totalAmt>9182416400</totalAmt><triAmt>0</triAmt><winAmt>77013100</winAmt></item><item><amtOrd>59</amtOrd><exaAmt>0</exaAmt><meet>서울</meet><plcAmt>300253100</plcAmt><qnlAmt>8750420200</qnlAmt><qplAmt>0</qplAmt><rcDate>20021103</rcDate><rcNo>10</rcNo><tlaAmt>0</tlaAmt><totalAmt>9149189500</totalAmt><triAmt>0</triAmt><winAmt>98516200</winAmt></item><item><amtOrd>60</amtOrd><exaAmt>0</exaAmt><meet>서울</meet><plcAmt>471110900</plcAmt><qnlAmt>8548350100</qnlAmt><qplAmt>0</qplAmt><rcDate>20020929</rcDate><rcNo>13</rcNo><tlaAmt>0</tlaAmt><totalAmt>9129409700</totalAmt><triAmt>0</triAmt><winAmt>109948700</winAmt></item></items><numOfRows>60</numOfRows><pageNo>1</pageNo><totalCount>500</totalCount></body></response>'"
      ]
     },
     "execution_count": 7,
     "metadata": {},
     "output_type": "execute_result"
    }
   ],
   "source": [
    "# 텍스트로 읽기\n",
    "res = requests.get(totalUrl)\n",
    "res.status_code\n",
    "res.text"
   ]
  },
  {
   "cell_type": "code",
   "execution_count": 98,
   "metadata": {},
   "outputs": [],
   "source": [
    "# 제이슨으로 읽기\n",
    "json.dumps(xmltodict.parse(res.text))\n",
    "\n",
    "dictTemp = xmltodict.parse(res.text)"
   ]
  },
  {
   "cell_type": "code",
   "execution_count": 9,
   "metadata": {},
   "outputs": [
    {
     "data": {
      "text/html": [
       "<div>\n",
       "<style scoped>\n",
       "    .dataframe tbody tr th:only-of-type {\n",
       "        vertical-align: middle;\n",
       "    }\n",
       "\n",
       "    .dataframe tbody tr th {\n",
       "        vertical-align: top;\n",
       "    }\n",
       "\n",
       "    .dataframe thead th {\n",
       "        text-align: right;\n",
       "    }\n",
       "</style>\n",
       "<table border=\"1\" class=\"dataframe\">\n",
       "  <thead>\n",
       "    <tr style=\"text-align: right;\">\n",
       "      <th></th>\n",
       "      <th>header</th>\n",
       "      <th>body</th>\n",
       "    </tr>\n",
       "  </thead>\n",
       "  <tbody>\n",
       "    <tr>\n",
       "      <th>resultCode</th>\n",
       "      <td>00</td>\n",
       "      <td>NaN</td>\n",
       "    </tr>\n",
       "    <tr>\n",
       "      <th>resultMsg</th>\n",
       "      <td>NORMAL SERVICE.</td>\n",
       "      <td>NaN</td>\n",
       "    </tr>\n",
       "    <tr>\n",
       "      <th>items</th>\n",
       "      <td>NaN</td>\n",
       "      <td>{'item': [{'amtOrd': '1', 'exaAmt': '0', 'meet...</td>\n",
       "    </tr>\n",
       "    <tr>\n",
       "      <th>numOfRows</th>\n",
       "      <td>NaN</td>\n",
       "      <td>60</td>\n",
       "    </tr>\n",
       "    <tr>\n",
       "      <th>pageNo</th>\n",
       "      <td>NaN</td>\n",
       "      <td>1</td>\n",
       "    </tr>\n",
       "    <tr>\n",
       "      <th>totalCount</th>\n",
       "      <td>NaN</td>\n",
       "      <td>500</td>\n",
       "    </tr>\n",
       "  </tbody>\n",
       "</table>\n",
       "</div>"
      ],
      "text/plain": [
       "                     header                                               body\n",
       "resultCode               00                                                NaN\n",
       "resultMsg   NORMAL SERVICE.                                                NaN\n",
       "items                   NaN  {'item': [{'amtOrd': '1', 'exaAmt': '0', 'meet...\n",
       "numOfRows               NaN                                                 60\n",
       "pageNo                  NaN                                                  1\n",
       "totalCount              NaN                                                500"
      ]
     },
     "execution_count": 9,
     "metadata": {},
     "output_type": "execute_result"
    }
   ],
   "source": [
    "# 판다스로 읽기\n",
    "pd.DataFrame(dictTemp['response'])"
   ]
  },
  {
   "cell_type": "code",
   "execution_count": 10,
   "metadata": {},
   "outputs": [],
   "source": [
    "# url 가져오는 함수 생성\n",
    "def getRequestUrl(url):\n",
    "    try:\n",
    "        res = requests.get(url, verify= False)\n",
    "        if res.status_code == 200:\n",
    "            return res.text\n",
    "    except Exception as e:\n",
    "        print(f'getRequestUrl() 함수 호출 예외 : {e}')\n",
    "        return None"
   ]
  },
  {
   "cell_type": "code",
   "execution_count": 11,
   "metadata": {},
   "outputs": [],
   "source": [
    "# 데이터 가져오는 함수 페이지 수를 통해서 가져올 범위 지정가능\n",
    "def getData(pageNo):\n",
    "    serviceKey = r'qD9EPBoeW3jjfktf3X%2Ftr3syHNjWfOzloUDZ5WfJwKtsyVCRzFy2v4OfNffjH5ulAtfuFrINMfhraiEFLeVmNQ%3D%3D'\n",
    "    baseUrl = 'http://apis.data.go.kr/B551015/API38_1/ticketSalesRanking_1?'\n",
    "    parameter = f'serviceKey={serviceKey}&pageNo={pageNo}&numOfRows=60'\n",
    "    \n",
    "    totalUrl = baseUrl + parameter\n",
    "    \n",
    "    result = getRequestUrl(totalUrl)\n",
    "    if result == None:\n",
    "        return None\n",
    "    else:\n",
    "        return result"
   ]
  },
  {
   "cell_type": "code",
   "execution_count": 14,
   "metadata": {},
   "outputs": [],
   "source": [
    "from tqdm import tqdm"
   ]
  },
  {
   "cell_type": "code",
   "execution_count": 15,
   "metadata": {},
   "outputs": [
    {
     "name": "stderr",
     "output_type": "stream",
     "text": [
      "100%|██████████| 10/10 [00:15<00:00,  1.51s/it]\n"
     ]
    }
   ],
   "source": [
    "# 함수를 통해 데이터 가져오고 정보 저장\n",
    "Datas = []\n",
    "\n",
    "for i in tqdm(range(1,11)):\n",
    "    pageNo = i\n",
    "    data = getData(pageNo)\n",
    "    if xmltodict.parse(data)['response']['body']['items'] == None:\n",
    "        resList = []\n",
    "    else:\n",
    "        resList = xmltodict.parse(data)['response']['body']['items']['item']\n",
    "\n",
    "    Datas = Datas+resList"
   ]
  },
  {
   "cell_type": "code",
   "execution_count": 102,
   "metadata": {},
   "outputs": [
    {
     "data": {
      "text/plain": [
       "500"
      ]
     },
     "execution_count": 102,
     "metadata": {},
     "output_type": "execute_result"
    }
   ],
   "source": [
    "# 가져온 데이터의 수\n",
    "len(Datas)"
   ]
  },
  {
   "cell_type": "code",
   "execution_count": 17,
   "metadata": {},
   "outputs": [],
   "source": [
    "# 판다스로 변경\n",
    "DatasList = pd.DataFrame(Datas)"
   ]
  },
  {
   "cell_type": "code",
   "execution_count": 105,
   "metadata": {},
   "outputs": [
    {
     "name": "stdout",
     "output_type": "stream",
     "text": [
      "<class 'pandas.core.frame.DataFrame'>\n",
      "RangeIndex: 500 entries, 0 to 499\n",
      "Data columns (total 12 columns):\n",
      " #   Column    Non-Null Count  Dtype \n",
      "---  ------    --------------  ----- \n",
      " 0   amtOrd    500 non-null    object\n",
      " 1   exaAmt    500 non-null    object\n",
      " 2   meet      500 non-null    object\n",
      " 3   plcAmt    500 non-null    object\n",
      " 4   qnlAmt    500 non-null    object\n",
      " 5   qplAmt    500 non-null    object\n",
      " 6   rcDate    500 non-null    object\n",
      " 7   rcNo      500 non-null    object\n",
      " 8   tlaAmt    500 non-null    object\n",
      " 9   totalAmt  500 non-null    object\n",
      " 10  triAmt    500 non-null    object\n",
      " 11  winAmt    500 non-null    object\n",
      "dtypes: object(12)\n",
      "memory usage: 47.0+ KB\n"
     ]
    }
   ],
   "source": [
    "# null값 확인\n",
    "DatasList.isnull().sum()\n",
    "DatasList.info()"
   ]
  },
  {
   "cell_type": "code",
   "execution_count": 18,
   "metadata": {},
   "outputs": [],
   "source": [
    "# 엑셀로 데이터 저장\n",
    "DatasList.to_excel('./data/경마매출순위.xlsx',index = False)"
   ]
  },
  {
   "cell_type": "code",
   "execution_count": 19,
   "metadata": {},
   "outputs": [],
   "source": [
    "# 다시 불러오기\n",
    "Datas1 = pd.read_excel('./data/경마매출순위.xlsx')"
   ]
  },
  {
   "cell_type": "code",
   "execution_count": 53,
   "metadata": {},
   "outputs": [
    {
     "name": "stdout",
     "output_type": "stream",
     "text": [
      "<class 'pandas.core.frame.DataFrame'>\n",
      "RangeIndex: 500 entries, 0 to 499\n",
      "Data columns (total 12 columns):\n",
      " #   Column    Non-Null Count  Dtype \n",
      "---  ------    --------------  ----- \n",
      " 0   amtOrd    500 non-null    int64 \n",
      " 1   exaAmt    500 non-null    int64 \n",
      " 2   meet      500 non-null    object\n",
      " 3   plcAmt    500 non-null    int64 \n",
      " 4   qnlAmt    500 non-null    int64 \n",
      " 5   qplAmt    500 non-null    int64 \n",
      " 6   rcDate    500 non-null    int64 \n",
      " 7   rcNo      500 non-null    int64 \n",
      " 8   tlaAmt    500 non-null    int64 \n",
      " 9   totalAmt  500 non-null    int64 \n",
      " 10  triAmt    500 non-null    int64 \n",
      " 11  winAmt    500 non-null    int64 \n",
      "dtypes: int64(11), object(1)\n",
      "memory usage: 47.0+ KB\n"
     ]
    }
   ],
   "source": [
    "# 데이터 타입이 변경된걸 확인\n",
    "Datas1.info()"
   ]
  },
  {
   "cell_type": "code",
   "execution_count": 20,
   "metadata": {},
   "outputs": [
    {
     "data": {
      "text/html": [
       "<div>\n",
       "<style scoped>\n",
       "    .dataframe tbody tr th:only-of-type {\n",
       "        vertical-align: middle;\n",
       "    }\n",
       "\n",
       "    .dataframe tbody tr th {\n",
       "        vertical-align: top;\n",
       "    }\n",
       "\n",
       "    .dataframe thead th {\n",
       "        text-align: right;\n",
       "    }\n",
       "</style>\n",
       "<table border=\"1\" class=\"dataframe\">\n",
       "  <thead>\n",
       "    <tr style=\"text-align: right;\">\n",
       "      <th></th>\n",
       "      <th>amtOrd</th>\n",
       "      <th>exaAmt</th>\n",
       "      <th>meet</th>\n",
       "      <th>plcAmt</th>\n",
       "      <th>qnlAmt</th>\n",
       "      <th>qplAmt</th>\n",
       "      <th>rcDate</th>\n",
       "      <th>rcNo</th>\n",
       "      <th>tlaAmt</th>\n",
       "      <th>totalAmt</th>\n",
       "      <th>triAmt</th>\n",
       "      <th>winAmt</th>\n",
       "    </tr>\n",
       "  </thead>\n",
       "  <tbody>\n",
       "    <tr>\n",
       "      <th>0</th>\n",
       "      <td>1</td>\n",
       "      <td>0</td>\n",
       "      <td>서울</td>\n",
       "      <td>279883200</td>\n",
       "      <td>10794303700</td>\n",
       "      <td>0</td>\n",
       "      <td>20020908</td>\n",
       "      <td>12</td>\n",
       "      <td>0</td>\n",
       "      <td>11156888600</td>\n",
       "      <td>0</td>\n",
       "      <td>82701700</td>\n",
       "    </tr>\n",
       "    <tr>\n",
       "      <th>1</th>\n",
       "      <td>2</td>\n",
       "      <td>0</td>\n",
       "      <td>서울</td>\n",
       "      <td>201144500</td>\n",
       "      <td>10764621900</td>\n",
       "      <td>0</td>\n",
       "      <td>20020407</td>\n",
       "      <td>12</td>\n",
       "      <td>0</td>\n",
       "      <td>11055846400</td>\n",
       "      <td>0</td>\n",
       "      <td>90080000</td>\n",
       "    </tr>\n",
       "    <tr>\n",
       "      <th>2</th>\n",
       "      <td>3</td>\n",
       "      <td>0</td>\n",
       "      <td>서울</td>\n",
       "      <td>289923400</td>\n",
       "      <td>10530159600</td>\n",
       "      <td>0</td>\n",
       "      <td>20020915</td>\n",
       "      <td>13</td>\n",
       "      <td>0</td>\n",
       "      <td>10918529500</td>\n",
       "      <td>0</td>\n",
       "      <td>98446500</td>\n",
       "    </tr>\n",
       "    <tr>\n",
       "      <th>3</th>\n",
       "      <td>4</td>\n",
       "      <td>0</td>\n",
       "      <td>서울</td>\n",
       "      <td>150472800</td>\n",
       "      <td>10600735200</td>\n",
       "      <td>0</td>\n",
       "      <td>20020526</td>\n",
       "      <td>12</td>\n",
       "      <td>0</td>\n",
       "      <td>10854858600</td>\n",
       "      <td>0</td>\n",
       "      <td>103650600</td>\n",
       "    </tr>\n",
       "    <tr>\n",
       "      <th>4</th>\n",
       "      <td>5</td>\n",
       "      <td>0</td>\n",
       "      <td>서울</td>\n",
       "      <td>193146800</td>\n",
       "      <td>10517902300</td>\n",
       "      <td>0</td>\n",
       "      <td>20020331</td>\n",
       "      <td>12</td>\n",
       "      <td>0</td>\n",
       "      <td>10829078000</td>\n",
       "      <td>0</td>\n",
       "      <td>118028900</td>\n",
       "    </tr>\n",
       "    <tr>\n",
       "      <th>...</th>\n",
       "      <td>...</td>\n",
       "      <td>...</td>\n",
       "      <td>...</td>\n",
       "      <td>...</td>\n",
       "      <td>...</td>\n",
       "      <td>...</td>\n",
       "      <td>...</td>\n",
       "      <td>...</td>\n",
       "      <td>...</td>\n",
       "      <td>...</td>\n",
       "      <td>...</td>\n",
       "      <td>...</td>\n",
       "    </tr>\n",
       "    <tr>\n",
       "      <th>495</th>\n",
       "      <td>496</td>\n",
       "      <td>1576939100</td>\n",
       "      <td>서울</td>\n",
       "      <td>81348800</td>\n",
       "      <td>5067093800</td>\n",
       "      <td>512258400</td>\n",
       "      <td>20070506</td>\n",
       "      <td>11</td>\n",
       "      <td>0</td>\n",
       "      <td>7278141000</td>\n",
       "      <td>0</td>\n",
       "      <td>40500900</td>\n",
       "    </tr>\n",
       "    <tr>\n",
       "      <th>496</th>\n",
       "      <td>497</td>\n",
       "      <td>1445420700</td>\n",
       "      <td>서울</td>\n",
       "      <td>53222700</td>\n",
       "      <td>3822258000</td>\n",
       "      <td>333654400</td>\n",
       "      <td>20120513</td>\n",
       "      <td>10</td>\n",
       "      <td>1567203500</td>\n",
       "      <td>7276109800</td>\n",
       "      <td>0</td>\n",
       "      <td>54350500</td>\n",
       "    </tr>\n",
       "    <tr>\n",
       "      <th>497</th>\n",
       "      <td>498</td>\n",
       "      <td>1459148900</td>\n",
       "      <td>서울</td>\n",
       "      <td>108058500</td>\n",
       "      <td>5646153600</td>\n",
       "      <td>0</td>\n",
       "      <td>20020519</td>\n",
       "      <td>7</td>\n",
       "      <td>0</td>\n",
       "      <td>7275995400</td>\n",
       "      <td>0</td>\n",
       "      <td>62634400</td>\n",
       "    </tr>\n",
       "    <tr>\n",
       "      <th>498</th>\n",
       "      <td>499</td>\n",
       "      <td>0</td>\n",
       "      <td>서울</td>\n",
       "      <td>268738500</td>\n",
       "      <td>6928995500</td>\n",
       "      <td>0</td>\n",
       "      <td>20030420</td>\n",
       "      <td>10</td>\n",
       "      <td>0</td>\n",
       "      <td>7273834900</td>\n",
       "      <td>0</td>\n",
       "      <td>76100900</td>\n",
       "    </tr>\n",
       "    <tr>\n",
       "      <th>499</th>\n",
       "      <td>500</td>\n",
       "      <td>1445652500</td>\n",
       "      <td>서울</td>\n",
       "      <td>65005400</td>\n",
       "      <td>5094043700</td>\n",
       "      <td>631277900</td>\n",
       "      <td>20090927</td>\n",
       "      <td>11</td>\n",
       "      <td>0</td>\n",
       "      <td>7273047800</td>\n",
       "      <td>0</td>\n",
       "      <td>37068300</td>\n",
       "    </tr>\n",
       "  </tbody>\n",
       "</table>\n",
       "<p>500 rows × 12 columns</p>\n",
       "</div>"
      ],
      "text/plain": [
       "     amtOrd      exaAmt meet     plcAmt       qnlAmt     qplAmt    rcDate  \\\n",
       "0         1           0   서울  279883200  10794303700          0  20020908   \n",
       "1         2           0   서울  201144500  10764621900          0  20020407   \n",
       "2         3           0   서울  289923400  10530159600          0  20020915   \n",
       "3         4           0   서울  150472800  10600735200          0  20020526   \n",
       "4         5           0   서울  193146800  10517902300          0  20020331   \n",
       "..      ...         ...  ...        ...          ...        ...       ...   \n",
       "495     496  1576939100   서울   81348800   5067093800  512258400  20070506   \n",
       "496     497  1445420700   서울   53222700   3822258000  333654400  20120513   \n",
       "497     498  1459148900   서울  108058500   5646153600          0  20020519   \n",
       "498     499           0   서울  268738500   6928995500          0  20030420   \n",
       "499     500  1445652500   서울   65005400   5094043700  631277900  20090927   \n",
       "\n",
       "     rcNo      tlaAmt     totalAmt  triAmt     winAmt  \n",
       "0      12           0  11156888600       0   82701700  \n",
       "1      12           0  11055846400       0   90080000  \n",
       "2      13           0  10918529500       0   98446500  \n",
       "3      12           0  10854858600       0  103650600  \n",
       "4      12           0  10829078000       0  118028900  \n",
       "..    ...         ...          ...     ...        ...  \n",
       "495    11           0   7278141000       0   40500900  \n",
       "496    10  1567203500   7276109800       0   54350500  \n",
       "497     7           0   7275995400       0   62634400  \n",
       "498    10           0   7273834900       0   76100900  \n",
       "499    11           0   7273047800       0   37068300  \n",
       "\n",
       "[500 rows x 12 columns]"
      ]
     },
     "execution_count": 20,
     "metadata": {},
     "output_type": "execute_result"
    }
   ],
   "source": [
    "# 가져온 데이터중 매출이 최종 매출이 가장 좋았던 날을 찾는다\n",
    "Datas1.sort_values(by=['totalAmt'],ascending=False)"
   ]
  },
  {
   "cell_type": "code",
   "execution_count": 21,
   "metadata": {},
   "outputs": [],
   "source": [
    "# 경주장소, 일자, 날짜, 총 매출액을 제외한 값 삭제\n",
    "Datas2 = Datas1.drop(Datas1.columns[[1,3,4,5,8,10,11]], axis=1)"
   ]
  },
  {
   "cell_type": "code",
   "execution_count": 23,
   "metadata": {},
   "outputs": [],
   "source": [
    "# 컬럼명 변경\n",
    "Datas2 = Datas2.rename(columns={'amtOrd':'매출순위','meet':'시행경마장명','rcDate':'경주일자','rcNo':'경주번호','totalAmt':'전체매출액'})"
   ]
  },
  {
   "cell_type": "code",
   "execution_count": 22,
   "metadata": {},
   "outputs": [],
   "source": [
    "# 콤마 찍기와 타입 변경을 위해서 따로 저장\n",
    "Datas3 = Datas2.rename(columns={'amtOrd':'매출순위','meet':'시행경마장명','rcDate':'경주일자','rcNo':'경주번호','totalAmt':'전체매출액'})"
   ]
  },
  {
   "cell_type": "code",
   "execution_count": 25,
   "metadata": {},
   "outputs": [],
   "source": [
    "# 천단위 콤마\n",
    "Datas3['전체매출액'] = Datas3['전체매출액'].apply(lambda int_num : '{:,}'.format(int_num))"
   ]
  },
  {
   "cell_type": "code",
   "execution_count": 26,
   "metadata": {},
   "outputs": [],
   "source": [
    "# 경주일자 타입 변경\n",
    "Datas3['경주일자'] = Datas3['경주일자'].astype('str')"
   ]
  },
  {
   "cell_type": "code",
   "execution_count": 27,
   "metadata": {},
   "outputs": [],
   "source": [
    "# 경주일자를 연년월로 나눔\n",
    "Datas3['경주일자'] = Datas3['경주일자'].apply(lambda _ : datetime.strptime(_,'%Y%m%d'))"
   ]
  },
  {
   "cell_type": "code",
   "execution_count": 28,
   "metadata": {},
   "outputs": [],
   "source": [
    "# 엑셀로 따로 저장\n",
    "Datas3.to_excel('./data/경마매출액_정렬.xlsx', index= False)"
   ]
  },
  {
   "cell_type": "code",
   "execution_count": 62,
   "metadata": {},
   "outputs": [],
   "source": [
    "# 불러오기\n",
    "Datas4 = pd.read_excel('./data/경마매출액_정렬.xlsx')"
   ]
  },
  {
   "cell_type": "code",
   "execution_count": 63,
   "metadata": {},
   "outputs": [],
   "source": [
    "# 매출액 TOP10\n",
    "DataTOP10 = Datas4.head(10)"
   ]
  },
  {
   "cell_type": "code",
   "execution_count": 67,
   "metadata": {},
   "outputs": [
    {
     "data": {
      "text/html": [
       "<div>\n",
       "<style scoped>\n",
       "    .dataframe tbody tr th:only-of-type {\n",
       "        vertical-align: middle;\n",
       "    }\n",
       "\n",
       "    .dataframe tbody tr th {\n",
       "        vertical-align: top;\n",
       "    }\n",
       "\n",
       "    .dataframe thead th {\n",
       "        text-align: right;\n",
       "    }\n",
       "</style>\n",
       "<table border=\"1\" class=\"dataframe\">\n",
       "  <thead>\n",
       "    <tr style=\"text-align: right;\">\n",
       "      <th></th>\n",
       "      <th>매출순위</th>\n",
       "      <th>시행경마장명</th>\n",
       "      <th>경주일자</th>\n",
       "      <th>경주번호</th>\n",
       "      <th>전체매출액</th>\n",
       "    </tr>\n",
       "  </thead>\n",
       "  <tbody>\n",
       "    <tr>\n",
       "      <th>0</th>\n",
       "      <td>1</td>\n",
       "      <td>서울</td>\n",
       "      <td>2002-09-08</td>\n",
       "      <td>12</td>\n",
       "      <td>11,156,888,600</td>\n",
       "    </tr>\n",
       "    <tr>\n",
       "      <th>1</th>\n",
       "      <td>2</td>\n",
       "      <td>서울</td>\n",
       "      <td>2002-04-07</td>\n",
       "      <td>12</td>\n",
       "      <td>11,055,846,400</td>\n",
       "    </tr>\n",
       "    <tr>\n",
       "      <th>2</th>\n",
       "      <td>3</td>\n",
       "      <td>서울</td>\n",
       "      <td>2002-09-15</td>\n",
       "      <td>13</td>\n",
       "      <td>10,918,529,500</td>\n",
       "    </tr>\n",
       "    <tr>\n",
       "      <th>3</th>\n",
       "      <td>4</td>\n",
       "      <td>서울</td>\n",
       "      <td>2002-05-26</td>\n",
       "      <td>12</td>\n",
       "      <td>10,854,858,600</td>\n",
       "    </tr>\n",
       "    <tr>\n",
       "      <th>4</th>\n",
       "      <td>5</td>\n",
       "      <td>서울</td>\n",
       "      <td>2002-03-31</td>\n",
       "      <td>12</td>\n",
       "      <td>10,829,078,000</td>\n",
       "    </tr>\n",
       "    <tr>\n",
       "      <th>5</th>\n",
       "      <td>6</td>\n",
       "      <td>서울</td>\n",
       "      <td>2002-03-17</td>\n",
       "      <td>12</td>\n",
       "      <td>10,752,341,600</td>\n",
       "    </tr>\n",
       "    <tr>\n",
       "      <th>6</th>\n",
       "      <td>7</td>\n",
       "      <td>서울</td>\n",
       "      <td>2002-03-10</td>\n",
       "      <td>12</td>\n",
       "      <td>10,693,804,100</td>\n",
       "    </tr>\n",
       "    <tr>\n",
       "      <th>7</th>\n",
       "      <td>8</td>\n",
       "      <td>서울</td>\n",
       "      <td>2002-07-14</td>\n",
       "      <td>12</td>\n",
       "      <td>10,586,176,300</td>\n",
       "    </tr>\n",
       "    <tr>\n",
       "      <th>8</th>\n",
       "      <td>9</td>\n",
       "      <td>서울</td>\n",
       "      <td>2002-05-12</td>\n",
       "      <td>12</td>\n",
       "      <td>10,475,395,300</td>\n",
       "    </tr>\n",
       "    <tr>\n",
       "      <th>9</th>\n",
       "      <td>10</td>\n",
       "      <td>서울</td>\n",
       "      <td>2001-12-23</td>\n",
       "      <td>11</td>\n",
       "      <td>10,460,011,400</td>\n",
       "    </tr>\n",
       "  </tbody>\n",
       "</table>\n",
       "</div>"
      ],
      "text/plain": [
       "   매출순위 시행경마장명       경주일자  경주번호           전체매출액\n",
       "0     1     서울 2002-09-08    12  11,156,888,600\n",
       "1     2     서울 2002-04-07    12  11,055,846,400\n",
       "2     3     서울 2002-09-15    13  10,918,529,500\n",
       "3     4     서울 2002-05-26    12  10,854,858,600\n",
       "4     5     서울 2002-03-31    12  10,829,078,000\n",
       "5     6     서울 2002-03-17    12  10,752,341,600\n",
       "6     7     서울 2002-03-10    12  10,693,804,100\n",
       "7     8     서울 2002-07-14    12  10,586,176,300\n",
       "8     9     서울 2002-05-12    12  10,475,395,300\n",
       "9    10     서울 2001-12-23    11  10,460,011,400"
      ]
     },
     "execution_count": 67,
     "metadata": {},
     "output_type": "execute_result"
    }
   ],
   "source": [
    "DataTOP10"
   ]
  },
  {
   "cell_type": "code",
   "execution_count": 117,
   "metadata": {},
   "outputs": [
    {
     "data": {
      "text/plain": [
       "경주번호\n",
       "11    148\n",
       "12    113\n",
       "10     84\n",
       "9      58\n",
       "8      42\n",
       "7      25\n",
       "6      11\n",
       "5       9\n",
       "13      7\n",
       "4       3\n",
       "Name: count, dtype: int64"
      ]
     },
     "execution_count": 117,
     "metadata": {},
     "output_type": "execute_result"
    }
   ],
   "source": [
    "# 경주 번호의 갯수 10,11,12에 사람들은 많은 투자를 한다\n",
    "Datas4['경주번호'].value_counts()"
   ]
  },
  {
   "cell_type": "markdown",
   "metadata": {},
   "source": [
    "##### 연도별로 전체 매출액 그래프로 시각화"
   ]
  },
  {
   "cell_type": "code",
   "execution_count": 95,
   "metadata": {},
   "outputs": [],
   "source": [
    "# 경주일로 데이터 정렬\n",
    "var1 = Datas2.sort_values(by=['경주일자'],ascending=False)"
   ]
  },
  {
   "cell_type": "code",
   "execution_count": 106,
   "metadata": {},
   "outputs": [],
   "source": [
    "# 전체매출액으로 데이터 정렬\n",
    "var2 = Datas2.sort_values(by=['전체매출액'],ascending=False)"
   ]
  },
  {
   "cell_type": "code",
   "execution_count": 113,
   "metadata": {},
   "outputs": [
    {
     "data": {
      "text/plain": [
       "8129575341.4"
      ]
     },
     "execution_count": 113,
     "metadata": {},
     "output_type": "execute_result"
    }
   ],
   "source": [
    "# 데이터의 평균\n",
    "var2['전체매출액'].mean()"
   ]
  },
  {
   "cell_type": "code",
   "execution_count": 259,
   "metadata": {},
   "outputs": [
    {
     "data": {
      "image/png": "[encoded data removed]",
      "text/plain": [
       "<Figure size 1500x500 with 1 Axes>"
      ]
     },
     "metadata": {},
     "output_type": "display_data"
    }
   ],
   "source": [
    "# 년도별 매출액\n",
    "plt.figure(figsize=(15,5))\n",
    "plt.plot(var1['경주일자'],var2['전체매출액'],label = '경마 전체매출액',color = 'g', marker='*')\n",
    "plt.title('경마 전체 매출액(2002~2012)')\n",
    "plt.xlabel('경주일자')\n",
    "plt.ylabel('전체매출액')\n",
    "plt.legend(loc='upper left')\n",
    "plt.show()"
   ]
  },
  {
   "cell_type": "code",
   "execution_count": 240,
   "metadata": {},
   "outputs": [],
   "source": [
    "var2TOP100 = var2.head(100)"
   ]
  },
  {
   "cell_type": "code",
   "execution_count": 260,
   "metadata": {},
   "outputs": [
    {
     "data": {
      "text/plain": [
       "경주번호\n",
       "12    47\n",
       "11    23\n",
       "10    13\n",
       "9     11\n",
       "13     4\n",
       "8      1\n",
       "7      1\n",
       "Name: count, dtype: int64"
      ]
     },
     "execution_count": 260,
     "metadata": {},
     "output_type": "execute_result"
    }
   ],
   "source": [
    "# 경주번호 분포 확인\n",
    "var2TOP100['경주번호'].value_counts()"
   ]
  },
  {
   "cell_type": "code",
   "execution_count": 242,
   "metadata": {},
   "outputs": [],
   "source": [
    "# 경주번호로 그룹\n",
    "va1 = var2TOP100.groupby('경주번호')"
   ]
  },
  {
   "cell_type": "code",
   "execution_count": 243,
   "metadata": {},
   "outputs": [],
   "source": [
    "# 경주번호별 전체매출 더하기\n",
    "va2 = va1['전체매출액'].sum()"
   ]
  },
  {
   "cell_type": "code",
   "execution_count": 250,
   "metadata": {},
   "outputs": [],
   "source": [
    "# 매출이 높은 순위로 정렬\n",
    "va4 = va2.sort_values(ascending=False)"
   ]
  },
  {
   "cell_type": "code",
   "execution_count": 244,
   "metadata": {},
   "outputs": [],
   "source": [
    "# 경주번호 중복 삭제후 저장\n",
    "va3 = var2TOP100['경주번호'].drop_duplicates()"
   ]
  },
  {
   "cell_type": "code",
   "execution_count": 258,
   "metadata": {},
   "outputs": [
    {
     "data": {
      "text/plain": [
       "Text(0, 0.5, '전체매출')"
      ]
     },
     "execution_count": 258,
     "metadata": {},
     "output_type": "execute_result"
    },
    {
     "data": {
      "image/png": "[encoded data removed]",
      "text/plain": [
       "<Figure size 640x480 with 1 Axes>"
      ]
     },
     "metadata": {},
     "output_type": "display_data"
    }
   ],
   "source": [
    "# 매출 순위 TOP100의 번호별 전체 매출 분포\n",
    "plt.bar(va3,va4)\n",
    "plt.title('경주번호별 TOP100 전체매출')\n",
    "plt.xlabel('경주번호')\n",
    "plt.ylabel('전체매출')\n"
   ]
  },
  {
   "cell_type": "markdown",
   "metadata": {},
   "source": [
    "##### 결론\n",
    "- 이 데이터를 활용할 일은 없어보인다.\n",
    "- 데이터상 가장 매출이 좋았던 날은 2012년이다\n",
    "- 매출은 꾸준히 상승하는편이다\n",
    "- 2002년에 매출의 평균이 유독 많이 모여있다\n",
    "- 그래프를 그릴때 데이터 타입을 잘 확인해야한다\n",
    "- 데이터에서 경주마의 이름과 1등이 많이 나오는 라인이 나오지 않아서 쓸모가없다"
   ]
  },
  {
   "cell_type": "markdown",
   "metadata": {},
   "source": [
    "##### 학습내용\n",
    "- OpenAPI 이용하여 데이터 가져오기\n",
    "- 함수를 만들어서 여러개의 데이터 가져오기\n",
    "- 판다스 이용하여 데이터 엑셀로 저장, 불러오기\n",
    "- 데이터를 정렬 기준을 정하고 정렬하기\n",
    "- 데이터 컬럼 삭제 및 이름 변경 해보기\n",
    "- 데이터 타입 변화해서 천단위 콤마찍어보기\n",
    "- 데이터에서 기준 정하고 TOP10 정하기\n",
    "- 그래프로 시각화 해보기(bar 차트)\n",
    "\n",
    "## 고생하셨습니다(__)"
   ]
  }
 ],
 "metadata": {
  "kernelspec": {
   "display_name": "Python 3",
   "language": "python",
   "name": "python3"
  },
  "language_info": {
   "codemirror_mode": {
    "name": "ipython",
    "version": 3
   },
   "file_extension": ".py",
   "mimetype": "text/x-python",
   "name": "python",
   "nbconvert_exporter": "python",
   "pygments_lexer": "ipython3",
   "version": "3.12.2"
  }
 },
 "nbformat": 4,
 "nbformat_minor": 2
}
