{
 "cells": [
  {
   "cell_type": "markdown",
   "metadata": {},
   "source": [
    "## 빅데이터 실습\n",
    "\n",
    "### 다나와 무선청소기 상품분석\n",
    "\n",
    "#### 데이터 수집\n",
    "\n",
    "##### OpenAPI\n",
    "- 한국관광공사 관광빅데이터 정보서비 GW\n",
    "  - 기본URL : http://apis.data.go.kr/B551011/DataLabService/metcoRegnVisitrDDList\n",
    "  - 서비스키 : qD9EPBoeW3jjfktf3X%2Ftr3syHNjWfOzloUDZ5WfJwKtsyVCRzFy2v4OfNffjH5ulAtfuFrINMfhraiEFLeVmNQ%3D%3D (encoding 키를 사용)\n",
    "  - 피라미터(?뒤)\n",
    "    - serviceKey = 본인서비스키\n",
    "    - numOfRows = 한페이지나타낼 결과수(10기본 60으로 하면 하루치 전부다 가져올 수 있음)\n",
    "    - pageNo = 페이지번호(1)\n",
    "    - MobileOs = IOS, AND, WIN, ETC(기타)\n",
    "    - MobileApp = AppTest(테스트)\n",
    "    - startYmd = 시작일자\n",
    "    - endYmd = 종료일자"
   ]
  },
  {
   "cell_type": "code",
   "execution_count": null,
   "metadata": {},
   "outputs": [],
   "source": [
    "import requests\n",
    "import json\n",
    "import xmltodict\n",
    "import pandas as pd"
   ]
  },
  {
   "cell_type": "markdown",
   "metadata": {},
   "source": [
    "##### 추가모듈\n",
    "- XML을 딕셔너리로 한번 바꿔주는 모듈\n",
    "- xmltodic\n",
    "- !pip install xmltodiict"
   ]
  },
  {
   "cell_type": "code",
   "execution_count": null,
   "metadata": {},
   "outputs": [],
   "source": [
    "!pip install xmltodict"
   ]
  },
  {
   "cell_type": "code",
   "execution_count": null,
   "metadata": {},
   "outputs": [],
   "source": [
    "serviceKey = r'qD9EPBoeW3jjfktf3X%2Ftr3syHNjWfOzloUDZ5WfJwKtsyVCRzFy2v4OfNffjH5ulAtfuFrINMfhraiEFLeVmNQ%3D%3D'"
   ]
  },
  {
   "cell_type": "code",
   "execution_count": null,
   "metadata": {},
   "outputs": [],
   "source": [
    "ymd = '20210202'"
   ]
  },
  {
   "cell_type": "code",
   "execution_count": null,
   "metadata": {},
   "outputs": [],
   "source": [
    "baseUrl = 'http://apis.data.go.kr/B551011/DataLabService/metcoRegnVisitrDDList?'\n",
    "parameter = f'serviceKey={serviceKey}&numOfRows=60&pageNo=1&MobileOS=ETC&MobileApp=AppTest&' + \\\n",
    "            f'startYmd={ymd}&endYmd={ymd}'\n",
    "totalUrl = baseUrl + parameter\n",
    "totalUrl"
   ]
  },
  {
   "cell_type": "code",
   "execution_count": null,
   "metadata": {},
   "outputs": [],
   "source": [
    "# 실행 테스트\n",
    "# res.status_code : 200(OK) or 404/500 | res.text(str) / res.content(byte)\n",
    "res = requests.get(totalUrl)\n",
    "res.status_code\n",
    "res.text"
   ]
  },
  {
   "cell_type": "code",
   "execution_count": null,
   "metadata": {},
   "outputs": [],
   "source": [
    "# openAPI로 넘어온 text(xml타입)\n",
    "## xmltodict.parse() xml문서를 파이썬 dictionary타입 변환\n",
    "## josn.dumps() dictionary를 json 타입으로 변환\n",
    "json.dumps(xmltodict.parse(res.text))\n",
    "\n",
    "dictTemp = xmltodict.parse(res.text)"
   ]
  },
  {
   "cell_type": "code",
   "execution_count": null,
   "metadata": {},
   "outputs": [],
   "source": [
    "# 필요한 값 추출\n",
    "pd.DataFrame(dictTemp['response'])"
   ]
  },
  {
   "cell_type": "code",
   "execution_count": null,
   "metadata": {},
   "outputs": [],
   "source": [
    "# 웹으로 OpenAPI url 호출하는 함수\n",
    "def getRequestUrl(url):\n",
    "    try:\n",
    "        res = requests.get(url, verify= False)\n",
    "        if res.status_code == 200: # 웹 URL 요청결과 OK\n",
    "            return res.text # 웹으로 전달될 때는 Url, utf-8로 인코딩, 돌려받을 때는 utf-8 디코딩\n",
    "    except Exception as e:\n",
    "        print(f'getRequestUrl() 함수 호출 예외 : {e}')\n",
    "        return None"
   ]
  },
  {
   "cell_type": "code",
   "execution_count": null,
   "metadata": {},
   "outputs": [],
   "source": [
    "# OpenAPI 호출함수\n",
    "def getTouristDataService(yymmdd):\n",
    "    serviceKey = r'qD9EPBoeW3jjfktf3X%2Ftr3syHNjWfOzloUDZ5WfJwKtsyVCRzFy2v4OfNffjH5ulAtfuFrINMfhraiEFLeVmNQ%3D%3D'\n",
    "    baseUrl = 'http://apis.data.go.kr/B551011/DataLabService/metcoRegnVisitrDDList?'\n",
    "    parameters = 'numOfRows=60&pageNo=1&MobileOS=ETC&MobileApp=AppTest&'+\\\n",
    "                f'serviceKey={serviceKey}&startYmd={yymmdd}&endYmd={yymmdd}'\n",
    "    \n",
    "    totalUrl = baseUrl + parameters\n",
    "    \n",
    "    result = getRequestUrl(totalUrl)\n",
    "    if result == None:\n",
    "        return None\n",
    "    else:\n",
    "        return result"
   ]
  },
  {
   "cell_type": "code",
   "execution_count": null,
   "metadata": {},
   "outputs": [],
   "source": [
    "# 실행테스트\n",
    "data = getTouristDataService('20231202')"
   ]
  },
  {
   "cell_type": "code",
   "execution_count": null,
   "metadata": {},
   "outputs": [],
   "source": [
    "# xml을 딕셔너리로 형변환후 필요한 데이터까지만 추출\n",
    "xmltodict.parse(data)['response']['body']['items']['item']"
   ]
  },
  {
   "cell_type": "code",
   "execution_count": null,
   "metadata": {},
   "outputs": [],
   "source": [
    "## 추가라이브러리 사용등록\n",
    "from tqdm import tqdm\n",
    "import time"
   ]
  },
  {
   "cell_type": "code",
   "execution_count": null,
   "metadata": {},
   "outputs": [],
   "source": [
    "## 반복문으로 처리\n",
    "touristDatas = []\n",
    "year =2023\n",
    "month = 12\n",
    "\n",
    "for day in tqdm(range(1,32)):\n",
    "    reqYmd = f'{year}{month}{day:02d}'\n",
    "    data = getTouristDataService(reqYmd)\n",
    "    if xmltodict.parse(data)['response']['body']['items'] == None:\n",
    "        resList = []\n",
    "    else:\n",
    "        resList = xmltodict.parse(data)['response']['body']['items']['item']\n",
    "\n",
    "    touristDatas = touristDatas+resList"
   ]
  },
  {
   "cell_type": "code",
   "execution_count": null,
   "metadata": {},
   "outputs": [],
   "source": [
    "len(touristDatas)"
   ]
  },
  {
   "cell_type": "code",
   "execution_count": null,
   "metadata": {},
   "outputs": [],
   "source": [
    "dfTourist = pd.DataFrame(touristDatas)"
   ]
  },
  {
   "cell_type": "code",
   "execution_count": 21,
   "metadata": {},
   "outputs": [],
   "source": [
    "dfTourist.to_excel('./data/Tourist_dataportal.xlsx',index=False)"
   ]
  }
 ],
 "metadata": {
  "kernelspec": {
   "display_name": "Python 3",
   "language": "python",
   "name": "python3"
  },
  "language_info": {
   "codemirror_mode": {
    "name": "ipython",
    "version": 3
   },
   "file_extension": ".py",
   "mimetype": "text/x-python",
   "name": "python",
   "nbconvert_exporter": "python",
   "pygments_lexer": "ipython3",
   "version": "3.12.2"
  }
 },
 "nbformat": 4,
 "nbformat_minor": 2
}
