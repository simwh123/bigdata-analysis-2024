{
 "cells": [
  {
   "cell_type": "markdown",
   "metadata": {},
   "source": [
    "## 빅데이터 실습\n",
    "\n",
    "### 다나와 무선청소기 상품분석\n",
    "\n",
    "#### 데이터 수집\n",
    "\n",
    "##### OpenAPI\n",
    "- 한국관광공사 관광빅데이터 정보서비 GW\n",
    "  - 기본URL : http://apis.data.go.kr/B551011/DataLabService/metcoRegnVisitrDDList\n",
    "  - 서비스키 : qD9EPBoeW3jjfktf3X%2Ftr3syHNjWfOzloUDZ5WfJwKtsyVCRzFy2v4OfNffjH5ulAtfuFrINMfhraiEFLeVmNQ%3D%3D\n",
    "  - 피라미터(?뒤)\n",
    "    - serviceKey = 본인서비스키\n",
    "    - numOfRows = 한페이지나타낼 결과수(10기본 60으로 하면 하루치 전부다 가져올 수 있음)\n",
    "    - pageNo = 페이지번호(1)\n",
    "    - MobileOs = IOS, AND, WIN, ETC(기타)\n",
    "    - MobileApp = AppTest(테스트)\n",
    "    - startYmd = 시작일자\n",
    "    - endYmd = 종료일자"
   ]
  },
  {
   "cell_type": "code",
   "execution_count": 24,
   "metadata": {},
   "outputs": [],
   "source": [
    "from urllib.request import Request,urlopen\n",
    "from datetime import datetime\n",
    "import ssl\n",
    "import json"
   ]
  },
  {
   "cell_type": "code",
   "execution_count": 3,
   "metadata": {},
   "outputs": [],
   "source": [
    "def getRequestUrl(url):\n",
    "    req = Request(url)\n",
    "    try:\n",
    "        res = urlopen(req)\n",
    "        if res.getcode() == 200: # 웹URL 요철결과 ok\n",
    "            print(f'[{datetime.now()}] Url 요청 성공!')\n",
    "            return res.read().decode('utf-8')   # 웹으로 전달될때는 URL, utf-8 인코딩, 돌려받을떄는 utf-8 디코딩\n",
    "    except Exception as e:\n",
    "        print(f'[{datetime.now()}]getRequestUrl() 호출 예외 : {e}')\n",
    "        return None"
   ]
  },
  {
   "cell_type": "code",
   "execution_count": 22,
   "metadata": {},
   "outputs": [],
   "source": [
    "# 파라미터를 변경하면서 OpenAPI 요청할 URL 만들어주는 함수\n",
    "# 만약 시작일자, 종료일자가 다르면 파라미터 두개 받아야함\n",
    "serviceKey = 'qD9EPBoeW3jjfktf3X%2Ftr3syHNjWfOzloUDZ5WfJwKtsyVCRzFy2v4OfNffjH5ulAtfuFrINMfhraiEFLeVmNQ%3D%3D'\n",
    "def getTouristDataService(yyyymmdd):\n",
    "    serviceUrl = 'http://apis.data.go.kr/B551011/DataLabService/metcoRegnVisitrDDList'\n",
    "    parameters = f'?serviceKey={serviceKey}'+ \\\n",
    "                 f'&numOfRows = 60' + \\\n",
    "                 '&pageNo = 1' + \\\n",
    "                 'MobileOS=ETC' + \\\n",
    "                 '&MobileApp = AppTest' + \\\n",
    "                 f'&startYmd = {yyyymmdd}' + \\\n",
    "                 f'&endYmd = {yyyymmdd}'\n",
    "    url = serviceUrl + parameters\n",
    "    print(url)\n",
    "    ssl._create_default_https_context = ssl._create_unverified_context\n",
    "    response = getRequestUrl(url) # OpenAPI URL로 실제 요청\n",
    "\n",
    "    if response == None:\n",
    "        return None\n",
    "    else:\n",
    "        return response"
   ]
  },
  {
   "cell_type": "code",
   "execution_count": 23,
   "metadata": {},
   "outputs": [
    {
     "name": "stdout",
     "output_type": "stream",
     "text": [
      "http://apis.data.go.kr/B551011/DataLabService/metcoRegnVisitrDDList?serviceKey=qD9EPBoeW3jjfktf3X%2Ftr3syHNjWfOzloUDZ5WfJwKtsyVCRzFy2v4OfNffjH5ulAtfuFrINMfhraiEFLeVmNQ%3D%3D&numOfRows = 60&pageNo = 1MobileOS=ETC&MobileApp = AppTest&startYmd = 20231201&endYmd = 20231201\n",
      "[2024-03-20 12:19:33.410338]getRequestUrl() 호출 예외 : URL can't contain control characters. '/B551011/DataLabService/metcoRegnVisitrDDList?serviceKey=qD9EPBoeW3jjfktf3X%2Ftr3syHNjWfOzloUDZ5WfJwKtsyVCRzFy2v4OfNffjH5ulAtfuFrINMfhraiEFLeVmNQ%3D%3D&numOfRows = 60&pageNo = 1MobileOS=ETC&MobileApp = AppTest&startYmd = 20231201&endYmd = 20231201' (found at least ' ')\n"
     ]
    }
   ],
   "source": [
    "getTouristDataService('20231201')"
   ]
  }
 ],
 "metadata": {
  "kernelspec": {
   "display_name": "Python 3",
   "language": "python",
   "name": "python3"
  },
  "language_info": {
   "codemirror_mode": {
    "name": "ipython",
    "version": 3
   },
   "file_extension": ".py",
   "mimetype": "text/x-python",
   "name": "python",
   "nbconvert_exporter": "python",
   "pygments_lexer": "ipython3",
   "version": "3.12.2"
  }
 },
 "nbformat": 4,
 "nbformat_minor": 2
}
