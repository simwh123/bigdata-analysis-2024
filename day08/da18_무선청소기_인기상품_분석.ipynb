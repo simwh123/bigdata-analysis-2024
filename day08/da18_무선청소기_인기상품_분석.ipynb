{
 "cells": [
  {
   "cell_type": "markdown",
   "metadata": {},
   "source": [
    "## 빅데이터 실습\n",
    "\n",
    "### 다나와 무선청소기 상품분석\n",
    "\n",
    "#### 데이터 수집\n",
    "\n",
    "##### 셀레니움 사용"
   ]
  },
  {
   "cell_type": "code",
   "execution_count": null,
   "metadata": {},
   "outputs": [],
   "source": [
    "from selenium import webdriver\n",
    "import time\n",
    "from bs4 import BeautifulSoup\n",
    "import pandas as pd\n",
    "from urllib import parse # url encode\n",
    "from tqdm import tqdm, tqdm_notebook\n",
    "import random"
   ]
  },
  {
   "cell_type": "code",
   "execution_count": null,
   "metadata": {},
   "outputs": [],
   "source": [
    "driver = webdriver.Chrome()\n",
    "url = 'https://search.danawa.com/dsearch.php?k1=%EC%97%90%EC%96%B4%EB%A9%94%EC%9D%B4%EB%93%9C+%EC%8A%A4%EB%A7%88%ED%8A%B8%ED%83%80%EC%9B%8C&module=goods&act=dispMain'\n",
    "driver.get(url)\n",
    "time.sleep(5.0)"
   ]
  },
  {
   "cell_type": "code",
   "execution_count": null,
   "metadata": {},
   "outputs": [],
   "source": [
    "html = driver.page_source\n",
    "soup = BeautifulSoup(html,'html.parser')"
   ]
  },
  {
   "cell_type": "code",
   "execution_count": null,
   "metadata": {},
   "outputs": [],
   "source": [
    "prodItems = soup.select('ul.product_list>li.prod_item')"
   ]
  },
  {
   "cell_type": "code",
   "execution_count": null,
   "metadata": {},
   "outputs": [],
   "source": [
    "prodItems[0].select('p.prod_name > a')[0].text.strip()"
   ]
  },
  {
   "cell_type": "code",
   "execution_count": null,
   "metadata": {},
   "outputs": [],
   "source": [
    "prodItems[0].select('div.spec_list')[0].text.strip().replace('\\t','')"
   ]
  },
  {
   "cell_type": "code",
   "execution_count": null,
   "metadata": {},
   "outputs": [],
   "source": [
    "# isdecimal 숫자가아니면 False 반환\n",
    "prodItems[0].select('input')[1].get('value').isdecimal()"
   ]
  },
  {
   "cell_type": "markdown",
   "metadata": {},
   "source": [
    "##### 다나와 무선청소기 웹크롤링 수정\n",
    "- 가격 외에는 안들어오도록 변환"
   ]
  },
  {
   "cell_type": "code",
   "execution_count": null,
   "metadata": {},
   "outputs": [],
   "source": [
    "## 검색어, 페이지를 변경하면서 URL 생성함수\n",
    "def getSearchPageUrl(keyword, page):\n",
    "    ecKeyword = parse.quote(keyword)\n",
    "    url = f'https://search.danawa.com/dsearch.php?query={ecKeyword}&originalQuery={ecKeyword}&previousKeyword={ecKeyword}&checkedInfo=N&volumeType=allvs&' + \\\n",
    "          f'page={page}&limit=120&sort=saveDESC&list=list&boost=true&tab=goods&addDelivery=N&coupangMemberSort=N&mode=simple&isInitTireSmartFinder=N&' + \\\n",
    "            'recommendedSort=N&defaultUICategoryCode=10325109&defaultPhysicsCategoryCode=72%7C80%7C81%7C0&defaultVmTab=3138&defaultVaTab=1098867&isZeroPrice=Y&' + \\\n",
    "            'quickProductYN=N&priceUnitSort=N&priceUnitSortOrder=A'\n",
    "    return url"
   ]
  },
  {
   "cell_type": "code",
   "execution_count": null,
   "metadata": {},
   "outputs": [],
   "source": [
    "def getProdItems(prodItems):\n",
    "    prodData = []\n",
    "    for prodItem in prodItems:\n",
    "        try:\n",
    "            product_name = prodItem.select('p.prod_name >a')[0].text.strip()\n",
    "            product_spec = prodItem.select('div.spec_list')[0].text.strip().replace('\\t','')\n",
    "            if prodItem.select('input')[1].get('value').isdecimal() == True:\n",
    "                product_price = prodItem.select('input')[1].get('value')\n",
    "            else:\n",
    "                product_price = 0\n",
    "            product_reg_mon = prodItem.select('div.prod_sub_meta> dl>dd')[0].text.strip()\n",
    "            prodData.append([product_name,product_spec,product_price,product_reg_mon])\n",
    "        except:\n",
    "            pass\n",
    "    return prodData"
   ]
  },
  {
   "cell_type": "code",
   "execution_count": null,
   "metadata": {},
   "outputs": [],
   "source": [
    "# 여러페이지 검색후 크롤링하는 작업\n",
    "\n",
    "driver = webdriver.Chrome()\n",
    "\n",
    "# 암묵적으로 맵 자원 로드를 위해서 3초 정도 대기한다.\n",
    "driver.implicitly_wait(3)\n",
    "\n",
    "keyword = '무선청소기'\n",
    "startPage = 1\n",
    "totalPage = 20\n",
    "# 최종 저장 리스트\n",
    "prodDataTotal = []\n",
    "\n",
    "for page in tqdm(range(startPage,totalPage+1)):\n",
    "    url = getSearchPageUrl(keyword,page)\n",
    "    driver.get(url)\n",
    "    #페이지 로딩이 완료될 때 까지 5초 대기\n",
    "    time.sleep(5)\n",
    "    \n",
    "    # 상품 정보 추출\n",
    "    html = driver.page_source\n",
    "    soup = BeautifulSoup(html,'html.parser')\n",
    "    prodItems = soup.select('ul.product_list > li.prod_item')\n",
    "    prodItemList = getProdItems(prodItems)\n",
    "\n",
    "    prodDataTotal += prodItemList\n"
   ]
  },
  {
   "cell_type": "code",
   "execution_count": null,
   "metadata": {},
   "outputs": [],
   "source": [
    "len(prodDataTotal)"
   ]
  },
  {
   "cell_type": "code",
   "execution_count": null,
   "metadata": {},
   "outputs": [],
   "source": [
    "dfprodDataTotal = pd.DataFrame(prodDataTotal)"
   ]
  },
  {
   "cell_type": "code",
   "execution_count": null,
   "metadata": {},
   "outputs": [],
   "source": [
    "dfprodDataTotal.columns=['제품명','제품스펙','최저가','날짜']"
   ]
  },
  {
   "cell_type": "code",
   "execution_count": null,
   "metadata": {},
   "outputs": [],
   "source": [
    "dfprodDataTotal.to_excel('./data/다나와_무선청소기_결과.xlsx',index= False)"
   ]
  },
  {
   "cell_type": "markdown",
   "metadata": {},
   "source": [
    "##### 크롤링 데이터 전처리"
   ]
  },
  {
   "cell_type": "code",
   "execution_count": null,
   "metadata": {},
   "outputs": [],
   "source": [
    "# 저장한 엑셀을 재로드\n",
    "dfprodDanawa = pd.read_excel('./data/다나와_무선청소기_결과.xlsx')\n",
    "dfprodDanawa.tail()"
   ]
  },
  {
   "cell_type": "code",
   "execution_count": null,
   "metadata": {},
   "outputs": [],
   "source": [
    "dfprodDanawa.info()"
   ]
  },
  {
   "cell_type": "code",
   "execution_count": null,
   "metadata": {},
   "outputs": [],
   "source": [
    "# 결측치 검색\n",
    "condition = dfprodDanawa['제품스펙'].isnull() == True\n",
    "dfprodDanawa[condition]"
   ]
  },
  {
   "cell_type": "code",
   "execution_count": null,
   "metadata": {},
   "outputs": [],
   "source": [
    "# 결측치가 있는 행을 삭제   *axis = 1(열), 0(행)\n",
    "dfprodDanawa = dfprodDanawa.dropna(axis=0)"
   ]
  },
  {
   "cell_type": "code",
   "execution_count": null,
   "metadata": {},
   "outputs": [],
   "source": [
    "dfprodDanawa"
   ]
  },
  {
   "cell_type": "code",
   "execution_count": null,
   "metadata": {},
   "outputs": [],
   "source": [
    "condition = dfprodDanawa['최저가'] == 0"
   ]
  },
  {
   "cell_type": "code",
   "execution_count": null,
   "metadata": {},
   "outputs": [],
   "source": [
    "dfprodDanawa = dfprodDanawa[condition == 0]"
   ]
  },
  {
   "cell_type": "code",
   "execution_count": null,
   "metadata": {},
   "outputs": [],
   "source": [
    "# 행을 삭제하면 인데스가 꼬임. 인덱스 초기화\n",
    "dfprodDanawa.reset_index(drop=True, inplace=True)"
   ]
  },
  {
   "cell_type": "code",
   "execution_count": null,
   "metadata": {},
   "outputs": [],
   "source": [
    "dfprodDanawa.info()"
   ]
  },
  {
   "cell_type": "code",
   "execution_count": null,
   "metadata": {},
   "outputs": [],
   "source": [
    "# 회사명, 제품명 분리 split (''.n)  n = 자를 공백의 번호\n",
    "dfprodDanawa['제품명'].head()[0].split(' ',1)"
   ]
  },
  {
   "cell_type": "code",
   "execution_count": null,
   "metadata": {},
   "outputs": [],
   "source": [
    "# 회사명, 모델명 분리\n",
    "compList = []\n",
    "modelList = []\n",
    "count = 0\n",
    "\n",
    "for temp in dfprodDanawa['제품명']:\n",
    "    titles = temp.split(' ',1)  # 길이가 2 배열 생성\n",
    "    if (len(titles)) > 1 :\n",
    "        compList.append(titles[0])\n",
    "        modelList.append(titles[1])\n",
    "    else:\n",
    "        compList.append('')\n",
    "        modelList.append(titles[0])\n",
    "    count += 1\n",
    "    "
   ]
  },
  {
   "cell_type": "code",
   "execution_count": null,
   "metadata": {},
   "outputs": [],
   "source": [
    "# modelList 와 compList 는 서로 같은 len 값을 가져야한다\n",
    "len(modelList)\n",
    "len(compList)"
   ]
  },
  {
   "cell_type": "code",
   "execution_count": null,
   "metadata": {},
   "outputs": [],
   "source": [
    "# 스펙목록 데이터\n",
    "specList = dfprodDanawa.loc[0,'제품스펙'].split(' / ')"
   ]
  },
  {
   "cell_type": "code",
   "execution_count": null,
   "metadata": {},
   "outputs": [],
   "source": [
    "useTime = []\n",
    "suctionPow = []\n",
    "for spec in specList:\n",
    "    if '사용시간' in spec:\n",
    "        useTime = spec\n",
    "    elif '흡입력' in spec:\n",
    "        suctionPow = spec\n",
    "useTime.split(':')[1].strip()\n",
    "suctionPow.split(':')[1].strip()"
   ]
  },
  {
   "cell_type": "code",
   "execution_count": null,
   "metadata": {},
   "outputs": [],
   "source": [
    "# 카테고리, 사용시간, 흡입력 추출\n",
    "CateList = []\n",
    "useTimeList = []\n",
    "suctionPowList = []\n",
    "\n",
    "for spec in dfprodDanawa['제품스펙']:\n",
    "    specList = spec.split(' / ')\n",
    "    category = specList[0]\n",
    "    CateList.append(category)\n",
    "    useTimeVal = None\n",
    "    suctionPowVal = None\n",
    "    for temp in specList:\n",
    "        if '사용시간' in temp.replace('[배터리] ',''):\n",
    "            useTimeVal = temp\n",
    "        elif '흡입력' in temp:\n",
    "            suctionPowVal = temp\n",
    "\n",
    "    if useTimeVal != None:\n",
    "        useTime = useTimeVal.split(' ')[1].strip().replace('(최대)','')\n",
    "\n",
    "    else:\n",
    "        useTime =''\n",
    "\n",
    "    if suctionPowVal != None:\n",
    "        suctionPow = suctionPowVal.split(' ')[1].strip()\n",
    "    else:\n",
    "        suctionPow =''\n",
    "    if useTime == '사용시간:':\n",
    "        useTime = useTimeVal.split(' ')[2].strip().replace('(최대)','')\n",
    "    useTimeList.append(useTime)\n",
    "    suctionPowList.append(suctionPow)\n"
   ]
  },
  {
   "cell_type": "code",
   "execution_count": null,
   "metadata": {},
   "outputs": [],
   "source": [
    "useTimeList"
   ]
  },
  {
   "cell_type": "code",
   "execution_count": null,
   "metadata": {},
   "outputs": [],
   "source": [
    "# 사용시간 단위를 통일\n",
    "def convertHourToMin(time):\n",
    "    try:\n",
    "        if'시간' in time:\n",
    "            hour = time.split('시간')[0]\n",
    "            if '분' in time:\n",
    "                minute = time.split('시간')[-1].split('분')[0]\n",
    "            else:\n",
    "                minute = 0\n",
    "        else:\n",
    "            hour = 0\n",
    "            minute = time.split('분')[0]\n",
    "        return int(hour)*60 + int(minute)\n",
    "    except:\n",
    "        pass"
   ]
  },
  {
   "cell_type": "code",
   "execution_count": null,
   "metadata": {},
   "outputs": [],
   "source": [
    "newUseTimeList = []\n",
    "for time in useTimeList :\n",
    "    value = convertHourToMin(time)\n",
    "    newUseTimeList.append(value)"
   ]
  },
  {
   "cell_type": "code",
   "execution_count": null,
   "metadata": {},
   "outputs": [],
   "source": [
    "# 흡입력 단위 통일 1W = 1AW = 100pa\n",
    "def convertPow(value):\n",
    "    try:\n",
    "        value = value.upper()\n",
    "        if 'AW' in value or 'W' in value:\n",
    "            result = value.replace('A','').replace('W','').replace(',','')\n",
    "            result = int(result)\n",
    "        elif 'PA' in value:\n",
    "            result = value.replace('PA','').replace(',','')\n",
    "            result = int(result)//100\n",
    "        else:\n",
    "            result = None\n",
    "        \n",
    "        return result\n",
    "    except:\n",
    "        return None"
   ]
  },
  {
   "cell_type": "code",
   "execution_count": null,
   "metadata": {},
   "outputs": [],
   "source": [
    "newSuctionList = []\n",
    "for power in suctionPowList:\n",
    "    value = convertPow(power)\n",
    "    newSuctionList.append(value)"
   ]
  },
  {
   "cell_type": "code",
   "execution_count": null,
   "metadata": {},
   "outputs": [],
   "source": [
    "dfLast = pd.DataFrame()\n",
    "dfLast['카테코리'] = CateList\n",
    "dfLast['회사명'] = compList\n",
    "dfLast['제품명'] = modelList\n",
    "dfLast['가격'] = dfprodDanawa['최저가']\n",
    "dfLast['사용시간(분)'] = newUseTimeList\n",
    "dfLast['흡입력'] = newSuctionList"
   ]
  },
  {
   "cell_type": "code",
   "execution_count": null,
   "metadata": {},
   "outputs": [],
   "source": [
    "dfLast.tail()"
   ]
  },
  {
   "cell_type": "code",
   "execution_count": null,
   "metadata": {},
   "outputs": [],
   "source": [
    "dfLast.to_excel('./data/무선청소기_최종.xlsx',index=False)"
   ]
  },
  {
   "cell_type": "code",
   "execution_count": null,
   "metadata": {},
   "outputs": [],
   "source": [
    "dfCleaner = pd.read_excel('./data/무선청소기_최종.xlsx')"
   ]
  },
  {
   "cell_type": "code",
   "execution_count": null,
   "metadata": {},
   "outputs": [],
   "source": [
    "# 결측치 검색\n",
    "dfCleaner.isnull().sum()"
   ]
  },
  {
   "cell_type": "code",
   "execution_count": null,
   "metadata": {},
   "outputs": [],
   "source": [
    "condition = dfCleaner['회사명'].isnull() ==True\n",
    "var1 = dfCleaner[condition]\n",
    "dfCleaner"
   ]
  },
  {
   "cell_type": "code",
   "execution_count": null,
   "metadata": {},
   "outputs": [],
   "source": [
    "dfCleaner['회사명'].fillna('무명',inplace=True)"
   ]
  },
  {
   "cell_type": "code",
   "execution_count": null,
   "metadata": {},
   "outputs": [],
   "source": [
    "dfCleaner[condition]"
   ]
  },
  {
   "cell_type": "code",
   "execution_count": null,
   "metadata": {},
   "outputs": [],
   "source": [
    "dfCleaner.info()"
   ]
  },
  {
   "cell_type": "code",
   "execution_count": null,
   "metadata": {},
   "outputs": [],
   "source": [
    "dfCleaner.fillna(0,inplace=True)"
   ]
  },
  {
   "cell_type": "code",
   "execution_count": null,
   "metadata": {},
   "outputs": [],
   "source": [
    "dfCleaner['카테코리'].value_counts()"
   ]
  },
  {
   "cell_type": "code",
   "execution_count": null,
   "metadata": {},
   "outputs": [],
   "source": [
    "condition = dfCleaner['카테코리'].isin(['핸디스틱청소기','핸디스틱청소기+로봇청소기','진공청소기'])\n",
    "dfDataFinal = dfCleaner[condition]"
   ]
  },
  {
   "cell_type": "code",
   "execution_count": null,
   "metadata": {},
   "outputs": [],
   "source": [
    "dfDataFinal.to_excel('./data/다나와_진짜최종.xlsx',index=False)"
   ]
  },
  {
   "cell_type": "code",
   "execution_count": null,
   "metadata": {},
   "outputs": [],
   "source": [
    "# 인덱스가 꼬였기때문에 재 호출\n",
    "dfDataFinal = pd.read_excel('./data/다나와_진짜최종.xlsx')"
   ]
  },
  {
   "cell_type": "code",
   "execution_count": null,
   "metadata": {},
   "outputs": [],
   "source": [
    "# 흡입력 기준으로 정렬\n",
    "suctionTopList = dfDataFinal.sort_values(['흡입력'],ascending = False)\n",
    "suctionTopList.head()"
   ]
  },
  {
   "cell_type": "code",
   "execution_count": null,
   "metadata": {},
   "outputs": [],
   "source": [
    "# 사용시간 기준으로 정렬\n",
    "useTimeTopList = dfDataFinal.sort_values(['사용시간(분)'],ascending = False)\n",
    "useTimeTopList.head()"
   ]
  },
  {
   "cell_type": "code",
   "execution_count": null,
   "metadata": {},
   "outputs": [],
   "source": [
    "#사용시간, 흡입력 기준으로 정렬\n",
    "topList = dfDataFinal.sort_values(['사용시간(분)','흡입력'],ascending = False)\n",
    "topList.head()"
   ]
  },
  {
   "cell_type": "code",
   "execution_count": null,
   "metadata": {},
   "outputs": [],
   "source": [
    "# 가성비 좋은 제품 찾기\n",
    "priceMean = dfDataFinal['가격'].mean()  #47만\n",
    "sucationMean = dfDataFinal['흡입력'].mean()    # 117W\n",
    "useTimeMean = dfDataFinal['사용시간(분)'].mean()  # 39분\n",
    "print(f'평균가격: {priceMean:,.1f}원, 평균흡입력: {sucationMean:,.2f}W, 평균사용시간: {useTimeMean:,.2f}분')"
   ]
  },
  {
   "cell_type": "code",
   "execution_count": null,
   "metadata": {},
   "outputs": [],
   "source": [
    "# 평균보다 좋은 제품들\n",
    "cond1 = dfDataFinal['가격'] <= priceMean\n",
    "cond2 = dfDataFinal['흡입력'] >= sucationMean\n",
    "cond3 = dfDataFinal['사용시간(분)'] >= useTimeMean"
   ]
  },
  {
   "cell_type": "code",
   "execution_count": null,
   "metadata": {},
   "outputs": [],
   "source": [
    "chartData = dfDataFinal[cond1 & cond2 & cond3]"
   ]
  },
  {
   "cell_type": "markdown",
   "metadata": {},
   "source": [
    "##### 데이터 시각화"
   ]
  },
  {
   "cell_type": "code",
   "execution_count": null,
   "metadata": {},
   "outputs": [],
   "source": [
    "import numpy as np\n",
    "import seaborn as sns\n",
    "import matplotlib.pyplot as plt"
   ]
  },
  {
   "cell_type": "code",
   "execution_count": null,
   "metadata": {},
   "outputs": [],
   "source": [
    "sns.set_style('darkgrid')"
   ]
  },
  {
   "cell_type": "code",
   "execution_count": null,
   "metadata": {},
   "outputs": [],
   "source": [
    "# 한글 깨짐 문제 해결\n",
    "from matplotlib import rcParams, font_manager, rc\n",
    "\n",
    "font_path = 'C:/Windows/Fonts/malgun.ttf'\n",
    "font = font_manager.FontProperties(fname=font_path).get_name()\n",
    "rc('font',family=font)\n",
    "rcParams['axes.unicode_minus'] = False"
   ]
  },
  {
   "cell_type": "code",
   "execution_count": null,
   "metadata": {},
   "outputs": [],
   "source": [
    "suctionMax = chartData['흡입력'].max()\n",
    "useTimeMax = chartData['사용시간(분)'].max()\n",
    "useTimeMean = chartData['사용시간(분)'].mean()\n",
    "sucationMean = chartData['흡입력'].mean()"
   ]
  },
  {
   "cell_type": "code",
   "execution_count": null,
   "metadata": {},
   "outputs": [],
   "source": [
    "plt.figure(figsize=(18,8))\n",
    "\n",
    "sns.scatterplot(data=chartData,x='흡입력',y='사용시간(분)',size = '가격',hue=chartData['카테코리'],legend=False)\n",
    "plt.plot([0,suctionMax],[useTimeMean,useTimeMean],'r--',lw =1)\n",
    "plt.plot([sucationMean,sucationMean],[0,useTimeMax],'b--',lw=1)\n",
    "\n",
    "plt.show()"
   ]
  },
  {
   "cell_type": "code",
   "execution_count": null,
   "metadata": {},
   "outputs": [],
   "source": [
    "# 인기제품 데이터 시각화\n",
    "chartDataTop = chartData[:20]"
   ]
  },
  {
   "cell_type": "code",
   "execution_count": null,
   "metadata": {},
   "outputs": [],
   "source": [
    "fig = plt.figure(figsize=(20,10))\n",
    "sns.scatterplot(data=chartDataTop,x='흡입력',y='사용시간(분)',size = '가격',sizes=(20,1000),hue = chartDataTop['회사명'])\n",
    "\n",
    "for index, row in chartDataTop.iterrows():\n",
    "    x = row['흡입력'] + random.randrange(-10,10)\n",
    "    y = row['사용시간(분)'] + random.randrange(-5,5)\n",
    "    s = row['제품명']\n",
    "    plt.text(x,y,s,size=10)\n",
    "plt.show()\n"
   ]
  },
  {
   "cell_type": "markdown",
   "metadata": {},
   "source": [
    "##### 결론\n",
    "데이터분석을 위한 전처리 과정 필수 *빈값이 많을수록 힘들다\n",
    "예상과 결과는 다르다"
   ]
  }
 ],
 "metadata": {
  "kernelspec": {
   "display_name": "Python 3",
   "language": "python",
   "name": "python3"
  },
  "language_info": {
   "codemirror_mode": {
    "name": "ipython",
    "version": 3
   },
   "file_extension": ".py",
   "mimetype": "text/x-python",
   "name": "python",
   "nbconvert_exporter": "python",
   "pygments_lexer": "ipython3",
   "version": "3.12.2"
  }
 },
 "nbformat": 4,
 "nbformat_minor": 2
}
