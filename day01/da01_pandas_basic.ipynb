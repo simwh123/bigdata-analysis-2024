{
 "cells": [
  {
   "cell_type": "markdown",
   "metadata": {},
   "source": [
    "### Pandas 학습\n",
    "\n",
    "#### 라이브러리 추가\n",
    "\n",
    "##### !pip install pandas\n",
    "- Successfully lnstalled ... 최초설치\n",
    "- Requiremnet already satisfued ... 이미 설치됨"
   ]
  },
  {
   "cell_type": "code",
   "execution_count": null,
   "metadata": {},
   "outputs": [],
   "source": [
    "\n",
    "!pip install pandas"
   ]
  },
  {
   "cell_type": "code",
   "execution_count": null,
   "metadata": {},
   "outputs": [],
   "source": [
    "!pip install openpyxl"
   ]
  },
  {
   "cell_type": "code",
   "execution_count": null,
   "metadata": {},
   "outputs": [],
   "source": [
    "!pip install xlrd"
   ]
  },
  {
   "cell_type": "code",
   "execution_count": null,
   "metadata": {},
   "outputs": [],
   "source": [
    "# 판다스 라이브러리 로딩\n",
    "import pandas as pd"
   ]
  },
  {
   "cell_type": "markdown",
   "metadata": {},
   "source": [
    "### 판다스 기본\n",
    "#### DateFrame 객체\n",
    "- 파이썬 2차원 리스트(배열)와 동일\n",
    "- 행(row) 각 하나의 유니크 데이터묶음\n",
    "- 열(column) 유니크 데이터의 하나하나 특성"
   ]
  },
  {
   "cell_type": "code",
   "execution_count": null,
   "metadata": {},
   "outputs": [],
   "source": [
    "#  딕셔너리로 DataFrame 객체 생성\n",
    "data = {'이름': ['성명건', '홍길동', '애슐리'], '나이': [47, 20, 40], '결혼': [True, False, True]}\n",
    "df = pd.DataFrame(data=data)\n",
    "df"
   ]
  },
  {
   "cell_type": "code",
   "execution_count": null,
   "metadata": {},
   "outputs": [],
   "source": [
    "## 2차원 리스트 생성\n",
    "data = [['성명건', 47, '부산', 'smg@naver.com', True], ['홍길동', 20, '서울', 'hgd@gmail.com', False],\n",
    "        ['애슐리', 40, '경기', 'ashley@nate.com', True], ['홍길순', 18, '서울', 'hgs@daum.net', False]]\n",
    "\n",
    "data"
   ]
  },
  {
   "cell_type": "code",
   "execution_count": null,
   "metadata": {},
   "outputs": [],
   "source": [
    "## 2차원 리스트로 DataFrame 객체 생성\n",
    "df = pd.DataFrame(data=data, columns=['이름', '나이', '주소', '이메일', '결혼'])\n",
    "df"
   ]
  },
  {
   "cell_type": "code",
   "execution_count": null,
   "metadata": {},
   "outputs": [],
   "source": [
    "## 데이터프레임에서 데이터 조회(열) - 리스트는 for문을 써야지 출력가능\n",
    "df['이름']"
   ]
  },
  {
   "cell_type": "code",
   "execution_count": null,
   "metadata": {},
   "outputs": [],
   "source": [
    "df['나이']"
   ]
  },
  {
   "cell_type": "code",
   "execution_count": null,
   "metadata": {},
   "outputs": [],
   "source": [
    "## 데이터프레임 조회(두개 열)\n",
    "df[['이름', '나이']]"
   ]
  },
  {
   "cell_type": "code",
   "execution_count": null,
   "metadata": {},
   "outputs": [],
   "source": [
    "## 데이터프레임 행으로 조회\n",
    "df.loc[0]"
   ]
  },
  {
   "cell_type": "code",
   "execution_count": null,
   "metadata": {},
   "outputs": [],
   "source": [
    "## 데이터프레임 조회(행)\n",
    "df.loc[[1, 3]]"
   ]
  },
  {
   "cell_type": "code",
   "execution_count": null,
   "metadata": {},
   "outputs": [],
   "source": [
    "## 데이터프레임 조회(행 연속)\n",
    "df.loc[0:3]"
   ]
  },
  {
   "cell_type": "code",
   "execution_count": null,
   "metadata": {},
   "outputs": [],
   "source": [
    "# 현재 데이터프레임 확인\n",
    "df"
   ]
  },
  {
   "cell_type": "code",
   "execution_count": null,
   "metadata": {},
   "outputs": [],
   "source": [
    "## 새 컬럼 추가\n",
    "df['전번'] = ['010', '011', '017', '019']"
   ]
  },
  {
   "cell_type": "code",
   "execution_count": null,
   "metadata": {},
   "outputs": [],
   "source": [
    "# 추가된 데이터프레임 확인\n",
    "df"
   ]
  },
  {
   "cell_type": "code",
   "execution_count": null,
   "metadata": {},
   "outputs": [],
   "source": [
    "## 열 삭제, axis=0(행), 1(열)\n",
    "df.drop('결혼', axis=1)"
   ]
  },
  {
   "cell_type": "code",
   "execution_count": null,
   "metadata": {},
   "outputs": [],
   "source": [
    "## drop()은 삭제하고 출력만해줌. 완전히 삭제하려면 inplace 옵션을 사용\n",
    "# inplace를 화면에 출력안됨\n",
    "df.drop('결혼', axis=1, inplace=True) # 열로 삭제하려면 axis=1만 사용"
   ]
  },
  {
   "cell_type": "code",
   "execution_count": null,
   "metadata": {},
   "outputs": [],
   "source": [
    "# 삭제를 확인\n",
    "df"
   ]
  },
  {
   "cell_type": "code",
   "execution_count": null,
   "metadata": {},
   "outputs": [],
   "source": [
    "## 행추가\n",
    "df.loc[4] = ['손흥민', 32, '런던', 'shm@gmail.com', '020']"
   ]
  },
  {
   "cell_type": "code",
   "execution_count": null,
   "metadata": {},
   "outputs": [],
   "source": [
    "df"
   ]
  },
  {
   "cell_type": "code",
   "execution_count": null,
   "metadata": {},
   "outputs": [],
   "source": [
    "## 행삭제, 완전히 삭제할려면 inplace쓰거나 아니면 변수에 재할당\n",
    "df2 = df.drop(3)"
   ]
  },
  {
   "cell_type": "code",
   "execution_count": null,
   "metadata": {},
   "outputs": [],
   "source": [
    "df2"
   ]
  },
  {
   "cell_type": "code",
   "execution_count": null,
   "metadata": {},
   "outputs": [],
   "source": [
    "## 행삭제 inplace, 행삭제 시는 axis=0만 사용 또는 생략\n",
    "df.drop(2, axis=0, inplace=True)"
   ]
  },
  {
   "cell_type": "code",
   "execution_count": null,
   "metadata": {},
   "outputs": [],
   "source": [
    "df"
   ]
  },
  {
   "cell_type": "code",
   "execution_count": null,
   "metadata": {},
   "outputs": [],
   "source": [
    "## 열 이름을 변경\n",
    "df.rename(columns={'전번':'휴대폰'}, inplace=True)"
   ]
  },
  {
   "cell_type": "code",
   "execution_count": null,
   "metadata": {},
   "outputs": [],
   "source": [
    "df"
   ]
  },
  {
   "cell_type": "markdown",
   "metadata": {},
   "source": [
    "- 데이터프레임은 파이썬의 2차원 리스트와 동일하지만, 좀더 사용하기 쉽도록 만든 클래스\n",
    "### 시리즈 객체\n",
    "- 파이썬에서 1차원 리스트(배열)\n",
    "- 시리즈들 그루핑한게 데이터프레임\n",
    "- 가장 최소단위"
   ]
  },
  {
   "cell_type": "code",
   "execution_count": null,
   "metadata": {},
   "outputs": [],
   "source": [
    "data = [47, 20, 40, 18, 32]\n",
    "srs = pd.Series(data=data)\n",
    "srs"
   ]
  },
  {
   "cell_type": "code",
   "execution_count": null,
   "metadata": {},
   "outputs": [],
   "source": [
    "## 데이터프레임의 한 열을 가지고온 자료구조와 시리즈는 동일\n",
    "type(df['나이'])"
   ]
  },
  {
   "cell_type": "code",
   "execution_count": null,
   "metadata": {},
   "outputs": [],
   "source": [
    "type(srs)"
   ]
  },
  {
   "cell_type": "code",
   "execution_count": null,
   "metadata": {},
   "outputs": [],
   "source": [
    "srs = pd.Series(data=data, index=['성명건', '홍길동', '애슐리', '홍길순', '손흥민'])\n",
    "srs"
   ]
  },
  {
   "cell_type": "code",
   "execution_count": null,
   "metadata": {},
   "outputs": [],
   "source": [
    "## 조회\n",
    "srs['손흥민']"
   ]
  },
  {
   "cell_type": "code",
   "execution_count": null,
   "metadata": {},
   "outputs": [],
   "source": [
    "## 값 변경\n",
    "srs['성명건'] = 48"
   ]
  },
  {
   "cell_type": "code",
   "execution_count": null,
   "metadata": {},
   "outputs": [],
   "source": [
    "srs"
   ]
  },
  {
   "cell_type": "code",
   "execution_count": null,
   "metadata": {},
   "outputs": [],
   "source": [
    "## 데이터프레임에서 한 행을 가져와도 시리즈.\n",
    "df.loc[1]"
   ]
  },
  {
   "cell_type": "markdown",
   "metadata": {},
   "source": [
    "### 데이터프레임 사용하기\n",
    "- CSV, 엑셀파일 로드\n",
    "\n",
    "- V S Code 플러그인, GrapeCity의 Excel Viewer를 설치\n",
    "\n",
    "- 엑셀파일 로드할 때는 openpyxl 라이브러리를 추가 설치\n",
    "\n",
    ">!pip install openpyxl"
   ]
  },
  {
   "cell_type": "code",
   "execution_count": null,
   "metadata": {},
   "outputs": [],
   "source": [
    "## CSV 로드\n",
    "df_csv = pd.read_csv('./data/sample_1.csv', encoding='utf-8', header=1, skipfooter=2, engine='python', usecols=[0, 1, 2])\n",
    "df_csv"
   ]
  },
  {
   "cell_type": "code",
   "execution_count": null,
   "metadata": {},
   "outputs": [],
   "source": [
    "## 엑셀 로드\n",
    "df_xls = pd.read_excel('./data/sample_1.xlsx', header=1, skipfooter=2, usecols='A:C', sheet_name='Sheet1')\n",
    "df_xls"
   ]
  },
  {
   "cell_type": "markdown",
   "metadata": {},
   "source": [
    "- 엑셀, csv는 동일한 데이터라면 csv가 훨씬 용량이 적다"
   ]
  },
  {
   "cell_type": "code",
   "execution_count": null,
   "metadata": {},
   "outputs": [],
   "source": [
    "## DF 정보확인\n",
    "df_csv.info()"
   ]
  },
  {
   "cell_type": "code",
   "execution_count": null,
   "metadata": {},
   "outputs": [],
   "source": [
    "## 데이터 일부 보기(위에서 부터 n=5 기본)\n",
    "df_csv.head(n=3)"
   ]
  },
  {
   "cell_type": "code",
   "execution_count": null,
   "metadata": {},
   "outputs": [],
   "source": [
    "## 데이터 일부 보기(아래에서부터 n=5)\n",
    "df_csv.tail(n=3)"
   ]
  },
  {
   "cell_type": "code",
   "execution_count": null,
   "metadata": {},
   "outputs": [],
   "source": [
    "## 통계량 요약보기\n",
    "df_csv.describe()"
   ]
  },
  {
   "cell_type": "code",
   "execution_count": null,
   "metadata": {},
   "outputs": [],
   "source": [
    "# 모두 다른 데이터를 할당가능\n",
    "df_csv['기준년월'] = ['2023-10', '2023-11', '2023-12', '2024-01', '2024-02', '2024-03']"
   ]
  },
  {
   "cell_type": "code",
   "execution_count": null,
   "metadata": {},
   "outputs": [],
   "source": [
    "df_csv"
   ]
  },
  {
   "cell_type": "code",
   "execution_count": null,
   "metadata": {},
   "outputs": [],
   "source": [
    "## 하나의 데이터로 \n",
    "df_csv['기준년월'] = '2023-12'"
   ]
  },
  {
   "cell_type": "code",
   "execution_count": null,
   "metadata": {},
   "outputs": [],
   "source": [
    "df_csv"
   ]
  },
  {
   "cell_type": "code",
   "execution_count": null,
   "metadata": {},
   "outputs": [],
   "source": [
    "df_csv.loc[0] # 시리즈 "
   ]
  },
  {
   "cell_type": "code",
   "execution_count": null,
   "metadata": {},
   "outputs": [],
   "source": [
    "df_csv.loc[[0]] # 데이터프레임"
   ]
  },
  {
   "cell_type": "code",
   "execution_count": null,
   "metadata": {},
   "outputs": [],
   "source": [
    "df_csv.loc[0:4]"
   ]
  },
  {
   "cell_type": "code",
   "execution_count": null,
   "metadata": {},
   "outputs": [],
   "source": [
    "## 필터링\n",
    "condition = (df_csv['국적코드'] == 'A31')\n",
    "condition"
   ]
  },
  {
   "cell_type": "code",
   "execution_count": null,
   "metadata": {},
   "outputs": [],
   "source": [
    "# '국적코드가 A31인 행만 보여줘' 필터링\n",
    "df_csv[condition]"
   ]
  },
  {
   "cell_type": "code",
   "execution_count": null,
   "metadata": {},
   "outputs": [],
   "source": [
    "## 상단의 condition 변수만드는 부분과 사용하는 부분을 합칠수 있음\n",
    "df_csv[df_csv['성별'] == '여성'"
   ]
  },
  {
   "cell_type": "code",
   "execution_count": null,
   "metadata": {},
   "outputs": [],
   "source": [
    "## 입국객수가 20만 이상인 보여줘\n",
    "df_csv[df_csv['입국객수'] >= 200_000]"
   ]
  },
  {
   "cell_type": "code",
   "execution_count": null,
   "metadata": {},
   "outputs": [],
   "source": [
    "## 여러조건을 같이 필터링\n",
    "df_csv[(df_csv['성별'] == '남성') & (df_csv['입국객수'] >= 150_000)]"
   ]
  },
  {
   "cell_type": "code",
   "execution_count": null,
   "metadata": {},
   "outputs": [],
   "source": [
    "## 한 열에 여러값으로 필터링\n",
    "df_csv[ df_csv['국적코드'].isin(['A01', 'A31']) == True ]"
   ]
  },
  {
   "cell_type": "code",
   "execution_count": null,
   "metadata": {},
   "outputs": [],
   "source": [
    "\n",
    "df_csv[ df_csv['국적코드'].isin(['A01', 'A31']) == False ]"
   ]
  },
  {
   "cell_type": "code",
   "execution_count": null,
   "metadata": {},
   "outputs": [],
   "source": [
    "# DF에 새 컬럼 생성\n",
    "df_csv['국적명'] = ['일본', '일본', '괌', '괌', '중국', '중국']\n",
    "df_csv"
   ]
  },
  {
   "cell_type": "code",
   "execution_count": null,
   "metadata": {},
   "outputs": [],
   "source": [
    "## DF에 인덱스를 변경\n",
    "df_csv = df_csv.set_index(keys='국적명')"
   ]
  },
  {
   "cell_type": "code",
   "execution_count": null,
   "metadata": {},
   "outputs": [],
   "source": [
    "df_csv"
   ]
  },
  {
   "cell_type": "code",
   "execution_count": null,
   "metadata": {},
   "outputs": [],
   "source": [
    "df_csv = df_csv.reset_index()\n",
    "df_csv"
   ]
  },
  {
   "cell_type": "code",
   "execution_count": null,
   "metadata": {},
   "outputs": [],
   "source": [
    "df_csv.drop('index', axis=1, inplace=True)"
   ]
  },
  {
   "cell_type": "code",
   "execution_count": null,
   "metadata": {},
   "outputs": [],
   "source": [
    "df_csv.info()"
   ]
  },
  {
   "cell_type": "code",
   "execution_count": null,
   "metadata": {},
   "outputs": [],
   "source": [
    "df_csv.describe()"
   ]
  },
  {
   "cell_type": "code",
   "execution_count": null,
   "metadata": {},
   "outputs": [],
   "source": [
    "## 그룹화는 groupby() 함수만으로 사용X\n",
    "## 여러 함수를 같이 사용해야 DF으로 출력됨\n",
    "df_csv.groupby('국적명').count()"
   ]
  },
  {
   "cell_type": "code",
   "execution_count": null,
   "metadata": {},
   "outputs": [],
   "source": [
    "## 나머지 컬럼은 sum() 합산할 의미가 없음\n",
    "## DF에서 Dtype이 int나 float같은 수치형만 통계내는 의미가 있음.\n",
    "df_csv.groupby('국적명').sum('입국객수')"
   ]
  },
  {
   "cell_type": "code",
   "execution_count": null,
   "metadata": {},
   "outputs": [],
   "source": [
    "## 그룹화 후 통계함수 사용시 동일하게 적용\n",
    "## median(중앙값), min(최소값), max(최대값), std(표준편자), var(분산) 등등\n",
    "df_csv.groupby('국적명').mean('입국객수')"
   ]
  },
  {
   "cell_type": "code",
   "execution_count": null,
   "metadata": {},
   "outputs": [],
   "source": [
    "## 오름차순 정렬\n",
    "df_csv.sort_values('입국객수')"
   ]
  },
  {
   "cell_type": "code",
   "execution_count": null,
   "metadata": {},
   "outputs": [],
   "source": [
    "# 내림차순 정렬\n",
    "df_csv.sort_values('입국객수', ascending=False)"
   ]
  }
 ],
 "metadata": {
  "kernelspec": {
   "display_name": "Python 3",
   "language": "python",
   "name": "python3"
  },
  "language_info": {
   "codemirror_mode": {
    "name": "ipython",
    "version": 3
   },
   "file_extension": ".py",
   "mimetype": "text/x-python",
   "name": "python",
   "nbconvert_exporter": "python",
   "pygments_lexer": "ipython3",
   "version": "3.12.2"
  }
 },
 "nbformat": 4,
 "nbformat_minor": 2
}
