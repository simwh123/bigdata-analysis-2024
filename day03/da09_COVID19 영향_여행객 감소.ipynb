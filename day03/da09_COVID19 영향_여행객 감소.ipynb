{
 "cells": [
  {
   "cell_type": "markdown",
   "metadata": {},
   "source": [
    "## 빅데이터 실습\n",
    "\n",
    "### COVID19, 코로나 바이러스의 영향으로 중국인 관광객 얼마나 줄었을까?\n",
    "\n",
    "#### 데이터 수집\n",
    "- 한국관광고사, [한국관광 데이터랩](https://datalab.visitkorea.or.kr/datalab/portal/main/getMainForm.do)\n",
    "\n",
    "#### 데이터 로드 및 전처리\n",
    "- 분석적 중요한 단계\n",
    "- Data Preprocessing : 분석에 적합하도록 원하는 형태로 데이터를 가공과정\n",
    "  - 결측치 처리(None, Null, Nan) 처리, 이상치 처리, 변수 정규화, 파생변수 생성\n",
    "\n",
    "#### 엑셀파일 로드\n"
   ]
  },
  {
   "cell_type": "code",
   "execution_count": null,
   "metadata": {},
   "outputs": [],
   "source": [
    "import pandas as pd"
   ]
  },
  {
   "cell_type": "code",
   "execution_count": null,
   "metadata": {},
   "outputs": [],
   "source": [
    "kto_201901 = pd.read_excel('./data/kto_201901.xlsx',header=1, usecols='A:G', skipfooter=4)\n",
    "kto_201901"
   ]
  },
  {
   "cell_type": "code",
   "execution_count": null,
   "metadata": {},
   "outputs": [],
   "source": [
    "kto_201901.head()"
   ]
  },
  {
   "cell_type": "code",
   "execution_count": null,
   "metadata": {},
   "outputs": [],
   "source": [
    "kto_201901.tail()"
   ]
  },
  {
   "cell_type": "code",
   "execution_count": null,
   "metadata": {},
   "outputs": [],
   "source": [
    "# DF 각 정보개요\n",
    "kto_201901.info()"
   ]
  },
  {
   "cell_type": "code",
   "execution_count": null,
   "metadata": {},
   "outputs": [],
   "source": [
    "# DF의 각 통계치\n",
    "kto_201901.describe()"
   ]
  },
  {
   "cell_type": "code",
   "execution_count": null,
   "metadata": {},
   "outputs": [],
   "source": [
    "# 한번도 한국에 방문학적이 없는 대륙, 나라(목적별)\n",
    "condition = (kto_201901['관광']==0) | (kto_201901['상용']==0 )| (kto_201901['공용']==0)| (kto_201901['유학/연수']==0)|(kto_201901['기타']==0)\n",
    "condition"
   ]
  },
  {
   "cell_type": "code",
   "execution_count": null,
   "metadata": {},
   "outputs": [],
   "source": [
    "kto_201901[condition]"
   ]
  },
  {
   "cell_type": "code",
   "execution_count": null,
   "metadata": {},
   "outputs": [],
   "source": [
    "## cmap 판다스  DF 컬러맵\n",
    "'''\n",
    "'Accent', 'Accent_r', 'Blues', 'Blues_r', \n",
    "'BrBG', 'BrBG_r', 'BuGn', 'BuGn_r', 'BuPu', 'BuPu_r', \n",
    "'CMRmap', 'CMRmap_r', 'Dark2', 'Dark2_r', 'GnBu', 'GnBu_r', \n",
    "'Grays', 'Greens', 'Greens_r', 'Greys', 'Greys_r', 'OrRd', 'OrRd_r', \n",
    "'Oranges', 'Oranges_r', 'PRGn', 'PRGn_r', 'Paired', 'Paired_r', \n",
    "'Pastel1', 'Pastel1_r', 'Pastel2', 'Pastel2_r', \n",
    "'PiYG', 'PiYG_r', 'PuBu', 'PuBuGn', 'PuBuGn_r', 'PuBu_r', \n",
    "'PuOr', 'PuOr_r', 'PuRd', 'PuRd_r', 'Purples', 'Purples_r', \n",
    "'RdBu', 'RdBu_r', 'RdGy', 'RdGy_r', 'RdPu', 'RdPu_r', \n",
    "'RdYlBu', 'RdYlBu_r', 'RdYlGn', 'RdYlGn_r', \n",
    "'Reds', 'Reds_r', 'Set1', 'Set1_r', 'Set2', 'Set2_r', 'Set3', 'Set3_r', \n",
    "'Spectral', 'Spectral_r', 'Wistia', 'Wistia_r', \n",
    "'YlGn', 'YlGnBu', 'YlGnBu_r', 'YlGn_r', 'YlOrBr', 'YlOrBr_r', 'YlOrRd', 'YlOrRd_r', \n",
    "'afmhot', 'afmhot_r', 'autumn', 'autumn_r', 'binary', 'binary_r', \n",
    "'bone', 'bone_r', 'brg', 'brg_r', 'bwr', 'bwr_r', 'cividis', 'cividis_r', \n",
    "'cool', 'cool_r', 'coolwarm', 'coolwarm_r', 'copper', 'copper_r', 'cubehelix', \n",
    "'cubehelix_r', 'flag', 'flag_r', 'gist_earth', 'gist_earth_r', \n",
    "'gist_gray', 'gist_gray_r', 'gist_grey', 'gist_heat', 'gist_heat_r', 'gist_ncar',\n",
    "'gist_ncar_r', 'gist_rainbow', 'gist_rainbow_r', 'gist_stern', 'gist_stern_r', \n",
    "'gist_yarg', 'gist_yarg_r', 'gist_yerg', 'gnuplot', 'gnuplot2', 'gnuplot2_r',\n",
    "'gnuplot_r', 'gray', 'gray_r', 'grey', 'hot', 'hot_r', 'hsv', 'hsv_r', \n",
    "'inferno', 'inferno_r', 'jet', 'jet_r', 'magma', 'magma_r', \n",
    "'nipy_spectral', 'nipy_spectral_r', 'ocean', 'ocean_r', \n",
    "'pink', 'pink_r', 'plasma', 'plasma_r', 'prism', 'prism_r', \n",
    "'rainbow', 'rainbow_r', 'seismic', 'seismic_r', 'spring', 'spring_r', \n",
    "'summer', 'summer_r', 'tab10', 'tab10_r', 'tab20', 'tab20_r', 'tab20b', 'tab20b_r', 'tab20c', 'tab20c_r', \n",
    "'terrain', 'terrain_r', 'turbo', 'turbo_r', \n",
    "'twilight', 'twilight_r', 'twilight_shifted', 'twilight_shifted_r', 'viridis', 'viridis_r', 'winter', 'winter_r'\n",
    "'''\n",
    "kto_201901[condition]\n",
    "kto_201901.style.background_gradient(axis=None, vmin=0, vmax=200_000,cmap='gray')"
   ]
  },
  {
   "cell_type": "code",
   "execution_count": null,
   "metadata": {},
   "outputs": [],
   "source": [
    "## 기준년월 추가\n",
    "kto_201901['기준년월'] = '2019-01'\n",
    "kto_201901"
   ]
  },
  {
   "cell_type": "code",
   "execution_count": null,
   "metadata": {},
   "outputs": [],
   "source": [
    "## 국적데이터만 추출\n",
    "kto_201901['국적'].unique()"
   ]
  },
  {
   "cell_type": "code",
   "execution_count": null,
   "metadata": {},
   "outputs": [],
   "source": [
    "## \n",
    "for item in kto_201901['국적']:\n",
    "    if item.strip()[-1] == '주':\n",
    "        print(item)"
   ]
  },
  {
   "cell_type": "code",
   "execution_count": null,
   "metadata": {},
   "outputs": [],
   "source": [
    "## 대륙 리스트\n",
    "continent_list = ['아시아주','미주','구주','대양주','아프리카주','기타대륙','교포소계']\n",
    "continent_list"
   ]
  },
  {
   "cell_type": "code",
   "execution_count": null,
   "metadata": {},
   "outputs": [],
   "source": [
    "## 대륙을 뺀 국적리스트\n",
    "condition=(kto_201901['국적'].isin(continent_list) == False)\n",
    "kto_201901_countries = kto_201901[condition]\n",
    "kto_201901_countries['국적'].unique()"
   ]
  },
  {
   "cell_type": "code",
   "execution_count": null,
   "metadata": {},
   "outputs": [],
   "source": [
    "## 중간 비는 인덱스없이 다시 시정, inplace=True 기존 데이터를 대체해줌\n",
    "kto_201901_countries.reset_index(drop=True, inplace=True)\n",
    "kto_201901_countries"
   ]
  },
  {
   "cell_type": "code",
   "execution_count": null,
   "metadata": {},
   "outputs": [],
   "source": [
    "## 년월별 데이터 전처리 함수\n",
    "def createKtoData(yyyy,mm):\n",
    "    #1. 엑셀파일 지정\n",
    "    filePath = f'./data/kto_{yyyy}{mm:02d}.xlsx'\n",
    "    #1. 엑셀파일 불러오기\n",
    "    df = pd.read_excel(filePath, header=1,usecols='A:G',skipfooter=4)\n",
    "    #2  기준년월 컬럼 추가\n",
    "    df['기준년월']= f'{yyyy}-{mm:02d}'\n",
    "    #3 국적컬럼 대륙제거 국가만\n",
    "    ignore_list = ['아시아주','미주','구주','대양주','아프리카주','기타대륙','교포소계']\n",
    "    #4 대륙제거\n",
    "    condition=(df['국적'].isin(ignore_list) == False)\n",
    "    df_countries = df[condition].reset_index(drop=True)\n",
    "    #5 대륙 칼럼 추가\n",
    "    continents = ['아시아']*25 + ['아메리카']*5 + ['유럽']*23 + ['오세아니아']*3 + ['아프리카']*2 + ['기타대륙'] + ['교포']\n",
    "    df_countries['대륙'] = continents\n",
    "    #6 국적별 관광객비율 컬럼추가\n",
    "    df_countries['관광객비율(%)'] = round(df_countries['관광']/df_countries['계']*100,1)\n",
    "    #7 전체비율 컬럼추가\n",
    "    totalSum = sum(df_countries['관광'])\n",
    "    df_countries['전체비율(%)'] =round(df_countries['관광']/totalSum*100,1)\n",
    "    #8 결과리턴\n",
    "    return(df_countries)"
   ]
  },
  {
   "cell_type": "code",
   "execution_count": null,
   "metadata": {},
   "outputs": [],
   "source": [
    "## 테스트\n",
    "df_test = createKtoData(2010,9)\n",
    "df_test"
   ]
  },
  {
   "cell_type": "markdown",
   "metadata": {},
   "source": [
    "#### tqdm 라이브러리\n",
    "\n",
    "##### 프로그레스바"
   ]
  },
  {
   "cell_type": "code",
   "execution_count": null,
   "metadata": {},
   "outputs": [],
   "source": [
    "from tqdm import tqdm\n",
    "import time"
   ]
  },
  {
   "cell_type": "code",
   "execution_count": null,
   "metadata": {},
   "outputs": [],
   "source": [
    "## 빈 DF\n",
    "df_total = pd.DataFrame()"
   ]
  },
  {
   "cell_type": "code",
   "execution_count": null,
   "metadata": {},
   "outputs": [],
   "source": [
    "for yyyy in tqdm(range(2010,2021)):\n",
    "    for mm in range(1,13):\n",
    "        try:\n",
    "            temp = createKtoData(yyyy, mm)\n",
    "            df_total = pd.concat([df_total, temp],ignore_index=True)\n",
    "        except:\n",
    "            pass"
   ]
  },
  {
   "cell_type": "code",
   "execution_count": null,
   "metadata": {},
   "outputs": [],
   "source": [
    "df_total.info()"
   ]
  },
  {
   "cell_type": "code",
   "execution_count": null,
   "metadata": {},
   "outputs": [],
   "source": [
    "## 파일저장\n",
    "df_total.to_excel('./data/kto_total.xlsx', index=False)"
   ]
  },
  {
   "cell_type": "code",
   "execution_count": null,
   "metadata": {},
   "outputs": [],
   "source": [
    "## 중국국적 데이터만 추출\n",
    "condition = df_total['국적'] == '중국'\n",
    "df_china=df_total[condition]\n",
    "df_china"
   ]
  },
  {
   "cell_type": "code",
   "execution_count": null,
   "metadata": {},
   "outputs": [],
   "source": [
    "df_china.info()"
   ]
  },
  {
   "cell_type": "markdown",
   "metadata": {},
   "source": [
    "#### 데이터 시각화/분석"
   ]
  },
  {
   "cell_type": "code",
   "execution_count": null,
   "metadata": {},
   "outputs": [],
   "source": [
    "df_china.reset_index(inplace = True)"
   ]
  },
  {
   "cell_type": "code",
   "execution_count": null,
   "metadata": {},
   "outputs": [],
   "source": [
    "df_china"
   ]
  },
  {
   "cell_type": "code",
   "execution_count": null,
   "metadata": {},
   "outputs": [],
   "source": [
    "import matplotlib.pyplot as plt\n",
    "import numpy as np\n",
    "import pandas as pd\n",
    "import seaborn as sns"
   ]
  },
  {
   "cell_type": "code",
   "execution_count": null,
   "metadata": {},
   "outputs": [],
   "source": [
    "from matplotlib import rcParams, font_manager, rc\n",
    "\n",
    "font_path = 'C:/Windows/Fonts/malgun.ttf'\n",
    "font = font_manager.FontProperties(fname=font_path).get_name()\n",
    "rc('font',family=font)\n",
    "rcParams['axes.unicode_minus'] = False"
   ]
  },
  {
   "cell_type": "code",
   "execution_count": null,
   "metadata": {},
   "outputs": [],
   "source": [
    "sns.set_style('darkgrid')"
   ]
  },
  {
   "cell_type": "code",
   "execution_count": null,
   "metadata": {},
   "outputs": [],
   "source": [
    "plt.plot(df_china['기준년월'],df_china['관광'])\n",
    "plt.show()"
   ]
  },
  {
   "cell_type": "code",
   "execution_count": null,
   "metadata": {},
   "outputs": [],
   "source": [
    "for i in range(2010,2021):\n",
    "    print(f'{i}-01')"
   ]
  },
  {
   "cell_type": "code",
   "execution_count": null,
   "metadata": {},
   "outputs": [],
   "source": [
    "# list\n",
    "var1 = [f'{i}-01' for i in range(2010,2021)]"
   ]
  },
  {
   "cell_type": "code",
   "execution_count": null,
   "metadata": {},
   "outputs": [],
   "source": [
    "import warnings\n",
    "warnings.filterwarnings(\"ignore\")\n"
   ]
  },
  {
   "cell_type": "code",
   "execution_count": null,
   "metadata": {},
   "outputs": [],
   "source": [
    "# 차트 크기 조절\n",
    "plt.figure(figsize=(12,4))\n",
    "# 그래프 내용\n",
    "plt.plot(df_china['기준년월'],df_china['관광'],label = '중국 관광객', color = 'g', marker = 'o')\n",
    "# 그래프 이름달기\n",
    "plt.title('중국 국적 관광객 추이(2010-01~2020-05)')\n",
    "plt.xlabel('기준년월')\n",
    "plt.ylabel('관광객수')\n",
    "plt.legend(loc='upper left')\n",
    "# x 축 눈금 값 설정\n",
    "plt.xticks(var1,rotation=45)\n",
    "# y 축 라벨 (1000단위마다 쉼표)\n",
    "plt.gca().set_yticklabels([f'{x:,.0f}'for x in plt.gca().get_yticks()])\n",
    "\n",
    "plt.show()"
   ]
  },
  {
   "cell_type": "code",
   "execution_count": null,
   "metadata": {},
   "outputs": [],
   "source": [
    "## 판다스 DF 을 자동으로 차트 만들어주는 것\n",
    "df_china.plot()\n",
    "plt.show()"
   ]
  }
 ],
 "metadata": {
  "kernelspec": {
   "display_name": "Python 3",
   "language": "python",
   "name": "python3"
  },
  "language_info": {
   "codemirror_mode": {
    "name": "ipython",
    "version": 3
   },
   "file_extension": ".py",
   "mimetype": "text/x-python",
   "name": "python",
   "nbconvert_exporter": "python",
   "pygments_lexer": "ipython3",
   "version": "3.12.2"
  }
 },
 "nbformat": 4,
 "nbformat_minor": 2
}
