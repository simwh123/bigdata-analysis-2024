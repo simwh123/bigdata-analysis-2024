{
 "cells": [
  {
   "cell_type": "markdown",
   "metadata": {},
   "source": [
    "## 빅데이터 실습\n",
    "\n",
    "### COVID19, 코로나 바이러스의 영향으로 중국인 관광객수 감소 분석\n",
    "\n"
   ]
  },
  {
   "cell_type": "code",
   "execution_count": null,
   "metadata": {},
   "outputs": [],
   "source": [
    "import matplotlib.pyplot as plt\n",
    "import numpy as np\n",
    "import pandas as pd\n",
    "import seaborn as sns"
   ]
  },
  {
   "cell_type": "code",
   "execution_count": null,
   "metadata": {},
   "outputs": [],
   "source": [
    "from matplotlib import rcParams, font_manager, rc\n",
    "\n",
    "font_path = 'C:/Windows/Fonts/malgun.ttf'\n",
    "font = font_manager.FontProperties(fname=font_path).get_name()\n",
    "rc('font',family=font)\n",
    "rcParams['axes.unicode_minus'] = False"
   ]
  },
  {
   "cell_type": "code",
   "execution_count": null,
   "metadata": {},
   "outputs": [],
   "source": [
    "df_total = pd.read_excel('../day03/data/kto_total.xlsx')\n"
   ]
  },
  {
   "cell_type": "code",
   "execution_count": null,
   "metadata": {},
   "outputs": [],
   "source": [
    "condition = df_total['국적'] == '중국'"
   ]
  },
  {
   "cell_type": "code",
   "execution_count": null,
   "metadata": {},
   "outputs": [],
   "source": [
    "df_china = df_total[condition]\n",
    "df_china.reset_index(inplace=True)\n",
    "df_china"
   ]
  },
  {
   "cell_type": "code",
   "execution_count": null,
   "metadata": {},
   "outputs": [],
   "source": [
    "day1 = [f'{i}-01' for i in range(2010,2021)]"
   ]
  },
  {
   "cell_type": "code",
   "execution_count": null,
   "metadata": {},
   "outputs": [],
   "source": [
    "plt.figure(figsize=(12,4))\n",
    "plt.plot(df_china['기준년월'],df_china['관광'],label = '중국 관광객', color ='b', marker='*')\n",
    "plt.title('중국 관광객 추이(2010-01~2020-05)')\n",
    "plt.xlabel('기준년월')\n",
    "plt.ylabel('관광객수')\n",
    "plt.legend(loc='upper left')\n",
    "plt.xticks(day1)\n",
    "plt.show()\n"
   ]
  },
  {
   "cell_type": "markdown",
   "metadata": {},
   "source": [
    "### 관광객수 top5 나라 시각화"
   ]
  },
  {
   "cell_type": "code",
   "execution_count": null,
   "metadata": {},
   "outputs": [],
   "source": [
    "con = ['중국','일본','대만','미국','홍콩']"
   ]
  },
  {
   "cell_type": "code",
   "execution_count": null,
   "metadata": {},
   "outputs": [],
   "source": [
    "for con in ['중국','일본','대만','미국','홍콩']:\n",
    "    condition = df_total['국적'] == con\n",
    "    df_filter = df_total[condition]\n",
    "\n",
    "    plt.figure(figsize=(18,5))\n",
    "    plt.plot(df_filter['기준년월'],df_filter['관광'],label = f'{con}관광객', color ='b', marker='o')\n",
    "    plt.title(f'{con} 관광객 추이(2010-01~2020-05)')\n",
    "    plt.xlabel('기준년월')\n",
    "    plt.ylabel('관광객수')\n",
    "    plt.legend(loc='upper left')\n",
    "    plt.xticks(day1)\n",
    "    plt.show()"
   ]
  },
  {
   "cell_type": "code",
   "execution_count": null,
   "metadata": {},
   "outputs": [],
   "source": [
    "import warnings\n",
    "warnings.filterwarnings(\"ignore\")"
   ]
  },
  {
   "cell_type": "code",
   "execution_count": null,
   "metadata": {},
   "outputs": [],
   "source": [
    "# 관광객수 TOP 5\n",
    "var2 = df_total.sort_values(by='관광', ascending= False)\n",
    "var2.drop_duplicates(['국적']).head(5)\n",
    "# .drop_duplicates(['']) 인덱스 중복 제외"
   ]
  },
  {
   "cell_type": "code",
   "execution_count": null,
   "metadata": {},
   "outputs": [],
   "source": [
    "plt.figure(figsize=(18,5))\n",
    "for con in ['중국','일본','대만','미국','홍콩']:\n",
    "    condition = df_total['국적'] == con\n",
    "    df_filter = df_total[condition]\n",
    "\n",
    "    \n",
    "    plt.plot(df_filter['기준년월'],df_filter['관광'],label = f'{con}관광객', marker='o')\n",
    "    plt.xlabel('기준년월')\n",
    "    plt.ylabel('관광객수')\n",
    "    plt.legend(loc='upper left')\n",
    "    plt.xticks(day1)\n",
    "    \n",
    "plt.gca().set_yticklabels([f'{x:,.0f}'for x in plt.gca().get_yticks()])\n",
    "plt.title(f'TOP 5 국가별 관광객 추이(2010-01 ~ 2020-01)')\n",
    "plt.show()"
   ]
  },
  {
   "cell_type": "markdown",
   "metadata": {},
   "source": [
    "### 히트맵\n",
    "\n",
    "년도와 월을 하나의 컬럼에서 분리"
   ]
  },
  {
   "cell_type": "code",
   "execution_count": null,
   "metadata": {},
   "outputs": [],
   "source": [
    "## 년도, 월 분리\n",
    "df_total['년도'] = df_total['기준년월'].str.slice(0,4)\n",
    "df_total['월'] = df_total['기준년월'].str.slice(5,7)\n",
    "df_total.drop(labels='기준년월',axis=1)"
   ]
  },
  {
   "cell_type": "code",
   "execution_count": null,
   "metadata": {},
   "outputs": [],
   "source": [
    "condition = df_total['국적'] == '중국'\n",
    "df_china = df_total[condition]"
   ]
  },
  {
   "cell_type": "code",
   "execution_count": null,
   "metadata": {},
   "outputs": [],
   "source": [
    "# 피벗테이블로 구성\n",
    "df_chinaPivot = df_china.pivot_table(values=['관광'],index=['년도'], columns=['월'], aggfunc='sum')"
   ]
  },
  {
   "cell_type": "code",
   "execution_count": null,
   "metadata": {},
   "outputs": [],
   "source": [
    "# 히트맵\n",
    "plt.figure(figsize=(12,5))\n",
    "ax = sns.heatmap(df_chinaPivot, annot=True, fmt='.0f',cmap='BrBG')\n",
    "plt.title('중국 관광객 히트맵')\n",
    "\n",
    "for t in ax.texts:  # 1000 단위마다 쉼표\n",
    "    t.set_text(f'{int(t.get_text()):,d}')   \n",
    "plt.show()"
   ]
  },
  {
   "cell_type": "code",
   "execution_count": null,
   "metadata": {},
   "outputs": [],
   "source": [
    "for con in ['중국','일본','대만','미국','홍콩']:\n",
    "    condition = df_total['국적'] == con\n",
    "    df_filter = df_total[condition]\n",
    "\n",
    "    plt.figure(figsize=(18,5))\n",
    "    df_pivoit = df_filter.pivot_table(values='관광', index='년도', columns='월',aggfunc='sum')\n",
    "\n",
    "    ax=sns.heatmap(df_pivoit, annot=True, fmt='.0f', cmap='Greens')\n",
    "    plt.title(f'{con} 관광객 히트맵')\n",
    "\n",
    "    for t in ax.texts:\n",
    "        t.set_text(f'{int(t.get_text()):,d}')\n",
    "\n",
    "plt.show()"
   ]
  },
  {
   "cell_type": "markdown",
   "metadata": {},
   "source": [
    "##### 시각화 차트, 히트맵으로 분석\n",
    "\n",
    "- 2010년 이후로 꾸준히 증가\n",
    "- 2017년 초 큰폭으로 감소\n",
    "- 여름에 관광객이 몰림, 하지만 2015년 관광객 크게 감소\n",
    "- 2020년 초 관광객 0에 가깝게 떨어짐\n",
    "\n",
    "##### 이벤트 발생이유 검색\n",
    "- 2015년 메르스 관광객 감소\n",
    "- 2016년 중국인방문의해 크게 증가\n",
    "- 2017년 사드보복 중국인 관광객 크게 감소\n",
    "- 2020년 코로나 창궐 > 모든나라 동일 관광객 감소"
   ]
  }
 ],
 "metadata": {
  "kernelspec": {
   "display_name": "Python 3",
   "language": "python",
   "name": "python3"
  },
  "language_info": {
   "codemirror_mode": {
    "name": "ipython",
    "version": 3
   },
   "file_extension": ".py",
   "mimetype": "text/x-python",
   "name": "python",
   "nbconvert_exporter": "python",
   "pygments_lexer": "ipython3",
   "version": "3.12.2"
  }
 },
 "nbformat": 4,
 "nbformat_minor": 2
}
