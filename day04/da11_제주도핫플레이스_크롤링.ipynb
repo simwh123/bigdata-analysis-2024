{
 "cells": [
  {
   "cell_type": "markdown",
   "metadata": {},
   "source": [
    "## 빅데이터 실습\n",
    "\n",
    "### 제주도 핫플레이스 웹크롤링\n",
    "\n",
    "#### 셀레니움 사용"
   ]
  },
  {
   "cell_type": "code",
   "execution_count": null,
   "metadata": {},
   "outputs": [],
   "source": [
    "import matplotlib.pyplot as plt\n",
    "import numpy as np\n",
    "import pandas as pd\n",
    "import seaborn as sns\n",
    "from selenium import webdriver\n",
    "from selenium.webdriver.common.by import By\n",
    "from bs4 import BeautifulSoup\n",
    "import unicodedata  # 유니코드 데이터 처리 모듈\n",
    "import re   # 정규식 처리 모듈\n",
    "import time\n",
    "from PIL import Image,ImageOps"
   ]
  },
  {
   "cell_type": "code",
   "execution_count": null,
   "metadata": {},
   "outputs": [],
   "source": [
    "from matplotlib import rcParams, font_manager, rc\n",
    "\n",
    "font_path = 'C:/Windows/Fonts/malgun.ttf'\n",
    "font = font_manager.FontProperties(fname=font_path).get_name()\n",
    "rc('font',family=font)\n",
    "rcParams['axes.unicode_minus'] = False"
   ]
  },
  {
   "cell_type": "markdown",
   "metadata": {},
   "source": [
    "##### 크롬 실행"
   ]
  },
  {
   "cell_type": "code",
   "execution_count": null,
   "metadata": {},
   "outputs": [],
   "source": [
    "driver = webdriver.Chrome()"
   ]
  },
  {
   "cell_type": "markdown",
   "metadata": {},
   "source": [
    "##### 인스타그램 접속"
   ]
  },
  {
   "cell_type": "code",
   "execution_count": null,
   "metadata": {},
   "outputs": [],
   "source": [
    "driver.get('https://www.instagram.com')\n",
    "time.sleep(2.0)"
   ]
  },
  {
   "cell_type": "markdown",
   "metadata": {},
   "source": [
    "### 자동로그인처리"
   ]
  },
  {
   "cell_type": "code",
   "execution_count": null,
   "metadata": {},
   "outputs": [],
   "source": [
    "# 인스타그램 사용자 이름(이메일) 정보 입력\n",
    "email = 'personar95@gmail.com'\n",
    "input_id = driver.find_element(By.NAME,'username')\n",
    "input_id.clear()\n",
    "input_id.send_keys(email)\n",
    "\n",
    "# 인스타그램 비밀번호 입력\n",
    "password = '!@#580923%^&'\n",
    "input_pw = driver.find_element(By.NAME,'password')\n",
    "input_pw.clear()\n",
    "input_pw.send_keys(password)\n",
    "input_pw.submit()\n",
    "time.sleep(2.0)"
   ]
  },
  {
   "cell_type": "code",
   "execution_count": null,
   "metadata": {},
   "outputs": [],
   "source": [
    "## 검색결과 URL 함수\n",
    "def searchInstargram(word):\n",
    "    url = f'https://www.instagram.com/explore/tags/{word}'\n",
    "    return url"
   ]
  },
  {
   "cell_type": "markdown",
   "metadata": {},
   "source": [
    "##### 태그로 검색시 30개 이사 검색안됨\n",
    "- 한 그룹의 게시물로 검색"
   ]
  },
  {
   "cell_type": "code",
   "execution_count": null,
   "metadata": {},
   "outputs": [],
   "source": [
    "driver.get(searchInstargram('제주도맛집'))"
   ]
  },
  {
   "cell_type": "code",
   "execution_count": null,
   "metadata": {},
   "outputs": [],
   "source": [
    "driver.get('https://www.instagram.com/jeju__nadri')"
   ]
  },
  {
   "cell_type": "markdown",
   "metadata": {},
   "source": [
    "##### 게시글 클릭 후 게시글 정보 가져오기"
   ]
  },
  {
   "cell_type": "code",
   "execution_count": null,
   "metadata": {},
   "outputs": [],
   "source": [
    "# 첫번째 게시글 클릭\n",
    "first = driver.find_elements(By.CLASS_NAME,'_aagw')[0]\n",
    "first.click()\n",
    "time.sleep(2.0)"
   ]
  },
  {
   "cell_type": "code",
   "execution_count": null,
   "metadata": {},
   "outputs": [],
   "source": [
    "## 게시글 정보 가져오기\n",
    "def getContent(driver):\n",
    "    pass"
   ]
  },
  {
   "cell_type": "code",
   "execution_count": null,
   "metadata": {},
   "outputs": [],
   "source": [
    "## 게시글 가져오기 로직\n",
    "## 1. HTML 코드 가져오기\n",
    "html = driver.page_source\n",
    "soup = BeautifulSoup(html,'html.parser')\n",
    "\n",
    "\n",
    "\n",
    "## 2-1. 팝업 본문내용 가져오기\n",
    "#content = soup.select('div._a9zr')[0].text\n",
    "\n",
    "#content.split('📍')[1]\n",
    "\n",
    "## 2-2. 팝업 본문내용 가게명 가져오기\n",
    "content = soup.select('div._a9zr>div>h1')[0].text\n",
    "\n",
    "firstIndex = str(soup.select('div._a9zr>div>h1')[0]).index('>')\n",
    "lastIndex = str(soup.select('div._a9zr>div>h1')[0]).index('<br/>')\n",
    "shopName = str(soup.select('div._a9zr>div>h1')[0])[firstIndex+1:lastIndex]\n",
    "\n",
    "\n",
    "## 3. 본문내용에서 해시태그 가져오기(정규식활용)\n",
    "tags = re.findall(r'#[^\\s#,\\\\]+', content)\n",
    "\n",
    "## 4. 포스터 작성일자\n",
    "date = soup.select('time.x1p4m5qa')[0]['datetime'][:10]\n",
    "\n",
    "## 5. 좋아요 수 가져오기\n",
    "like = soup.select('span.xdj266r.x11i5rnm.x1vvkbs')[3].text\n",
    "\n",
    "## 6. 위치정보\n",
    "\n"
   ]
  },
  {
   "cell_type": "markdown",
   "metadata": {},
   "source": [
    "### 워드 클라우드(Word Cloud)\n",
    "- 태그 중에서 빈도수가 높은 태그는 글자를 크게, 빈도수가 낮은 태그는 작게 표현해서 마치 구름처럼 나타내는 방법"
   ]
  },
  {
   "cell_type": "code",
   "execution_count": null,
   "metadata": {},
   "outputs": [],
   "source": [
    "raw_total = pd.read_excel('./data/1_crawling_raw.xlsx')\n",
    "raw_total['tags']"
   ]
  },
  {
   "cell_type": "code",
   "execution_count": null,
   "metadata": {},
   "outputs": [],
   "source": [
    "##\n",
    "raw_total['tags'][31][2:-2].split(\"', '\")[1]"
   ]
  },
  {
   "cell_type": "code",
   "execution_count": null,
   "metadata": {},
   "outputs": [],
   "source": [
    "from tqdm import tqdm"
   ]
  },
  {
   "cell_type": "code",
   "execution_count": null,
   "metadata": {},
   "outputs": [],
   "source": [
    "tagAllList=[]\n",
    "\n",
    "for tags in tqdm(raw_total['tags']):\n",
    "    taglist=tags[2:-2].split(\"', '\")\n",
    "    for tag in taglist:\n",
    "        tagAllList.append(tag)\n"
   ]
  },
  {
   "cell_type": "code",
   "execution_count": null,
   "metadata": {},
   "outputs": [],
   "source": [
    "## 해시태그 출현 빈도 집계\n",
    "from collections import Counter"
   ]
  },
  {
   "cell_type": "code",
   "execution_count": null,
   "metadata": {},
   "outputs": [],
   "source": [
    "tagcounts = Counter(tagAllList)\n",
    "tagcounts.most_common(50)"
   ]
  },
  {
   "cell_type": "code",
   "execution_count": null,
   "metadata": {},
   "outputs": [],
   "source": [
    "## 맛집 이외의 해시태그는 제외\n",
    "STOPWORDS = ['#제주도', '#제주', '#jeju', '#제주시', '#일상', '#제주도민', '#반영구', '#눈썹문신', \n",
    "             '#제주자연눈썹', '#제주속눈썹', '', '#서귀포', '#제주도그램', '#선팔', '#제주살이', '#여행스타그램',\n",
    "             '#제주반영구', '#제주눈썹문신', '#서귀포눈썹문신', '#서귀포남자눈썹문신', '#서귀포자연눈썹',\n",
    "             '#제주남자눈썹문신', '#서귀포속눈썹', '#서귀포반영구', '#제주스타그램', '#소통', '#맞팔', '#제주메이크업',\n",
    "             '#daily', '#가족여행', '#jejuisland', '#제주속눈썹연장', '#제주해안도로', '#셀카', '#제주공항',\n",
    "             '#서귀포문신', '#데일리', '#제주문신']\n",
    "\n",
    "tagFilterList = []\n",
    "for tag in tagAllList:\n",
    "    if tag not in  STOPWORDS:\n",
    "        tagFilterList.append(tag)\n"
   ]
  },
  {
   "cell_type": "code",
   "execution_count": null,
   "metadata": {},
   "outputs": [],
   "source": [
    "import warnings\n",
    "warnings.filterwarnings('ignore')"
   ]
  },
  {
   "cell_type": "code",
   "execution_count": null,
   "metadata": {},
   "outputs": [],
   "source": [
    "tagFilterListcounter = Counter(tagFilterList)\n",
    "tagFilterListcounter.most_common(50)"
   ]
  },
  {
   "cell_type": "code",
   "execution_count": null,
   "metadata": {},
   "outputs": [],
   "source": [
    "sns.set_style('darkgrid')"
   ]
  },
  {
   "cell_type": "code",
   "execution_count": null,
   "metadata": {},
   "outputs": [],
   "source": [
    "dfTagCounts = pd.DataFrame(tagFilterListcounter.most_common(30))"
   ]
  },
  {
   "cell_type": "code",
   "execution_count": null,
   "metadata": {},
   "outputs": [],
   "source": [
    "dfTagCounts.columns = ['tag','counts']"
   ]
  },
  {
   "cell_type": "code",
   "execution_count": null,
   "metadata": {},
   "outputs": [],
   "source": [
    "## 막대차트\n",
    "plt.figure(figsize=(10,10))\n",
    "## palette 종류: pastel, husl, hls, Set2, paired, rocket, mako\n",
    "sns.barplot(x='counts', y= 'tag',data=dfTagCounts,palette='rocket')\n",
    "plt.show()"
   ]
  },
  {
   "cell_type": "markdown",
   "metadata": {},
   "source": [
    "### 워드클라우드 설치\n",
    "#### !pip install wordcloud"
   ]
  },
  {
   "cell_type": "code",
   "execution_count": null,
   "metadata": {},
   "outputs": [],
   "source": [
    "# 워드 클라우드 라이브러리 사용등록\n",
    "from wordcloud import WordCloud"
   ]
  },
  {
   "cell_type": "code",
   "execution_count": null,
   "metadata": {},
   "outputs": [],
   "source": [
    "import platform\n",
    "if platform.system() == 'Windows':\n",
    "    fontpath = 'C:/Windows/Fonts/Hancom HMJE_V.ttf'\n",
    "elif platform.system() == 'Darwin':\n",
    "    fontpath = '/Users/$USER/Library/Fonts/AppleGothic.ttf'"
   ]
  },
  {
   "cell_type": "code",
   "execution_count": null,
   "metadata": {},
   "outputs": [],
   "source": [
    "# 워드 클라우드 만들기\n",
    "tagsLast = dict(tagcounts.most_common(50))\n",
    "wc = WordCloud(font_path=fontpath, colormap='inferno', background_color='white',\n",
    "               relative_scaling=0.4, width=1000, height=600,\n",
    "               max_words=100).generate_from_frequencies(tagsLast)\n",
    "\n",
    "plt.figure(figsize=(10,10))\n",
    "plt.imshow(wc)\n",
    "plt.axis('off')\n",
    "plt.show()"
   ]
  },
  {
   "cell_type": "markdown",
   "metadata": {},
   "source": [
    "##### 글자체 변경\n",
    "- [경기천년체](https://www.gg.go.kr/contents/contents.do?ciIdx=679&menuId=2457)"
   ]
  },
  {
   "cell_type": "code",
   "execution_count": null,
   "metadata": {},
   "outputs": [],
   "source": [
    "# 폰트경로변경\n",
    "if platform.system() == 'Windows':\n",
    "    fontpath = 'C:/Windows/Fonts/경기천년제목V_Bold.ttf'\n",
    "elif platform.system() == 'Darwin':\n",
    "    fontpath = '/Users/$USER/Library/Fonts/AppleGothic.ttf'"
   ]
  },
  {
   "cell_type": "code",
   "execution_count": null,
   "metadata": {},
   "outputs": [],
   "source": [
    "tagsLast = dict(tagFilterListcounter.most_common(50))\n",
    "\n",
    "mask = np.array(Image.open('./data/could.png'))\n",
    "mask[mask.sum(axis=2)==0] = 255 # 마스크 이미지를 여백이 255가 되도록 변환\n",
    "\n",
    "wc = WordCloud(font_path=fontpath, colormap='inferno', background_color='white', mask=mask,\n",
    "               relative_scaling=0.4, width=1000, height=600,\n",
    "               max_words=100).generate_from_frequencies(tagsLast)\n",
    "\n",
    "plt.figure(figsize=(10,10))\n",
    "plt.imshow(wc)\n",
    "plt.axis('off')\n",
    "plt.savefig('./data/제주맛집_워드클라우드.png')\n",
    "plt.show()"
   ]
  },
  {
   "cell_type": "markdown",
   "metadata": {},
   "source": [
    "#### 지도 시각화\n",
    "- Folium 사용\n",
    "\n",
    "##### 주소에 대한 위경도\n",
    "- [카카오 검색 API](https://developers.kakao.com/)"
   ]
  }
 ],
 "metadata": {
  "kernelspec": {
   "display_name": "Python 3",
   "language": "python",
   "name": "python3"
  },
  "language_info": {
   "codemirror_mode": {
    "name": "ipython",
    "version": 3
   },
   "file_extension": ".py",
   "mimetype": "text/x-python",
   "name": "python",
   "nbconvert_exporter": "python",
   "pygments_lexer": "ipython3",
   "version": "3.12.2"
  }
 },
 "nbformat": 4,
 "nbformat_minor": 2
}
