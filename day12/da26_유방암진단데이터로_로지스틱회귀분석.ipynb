{
 "cells": [
  {
   "cell_type": "markdown",
   "metadata": {},
   "source": [
    "## 머신러닝 실습\n",
    "\n",
    "### 로지스틱 회귀 분석\n",
    "\n",
    "#### 개념이해\n",
    "- 선형회귀로 구할 수 없는 분류\n",
    "- S자 함수 사용(참or거짓) 분류\n",
    " \n",
    "    <img src = \"https://raw.githubusercontent.com/simwh123/bigdata-analysis-2024/main/images/ba015.png\" width = \"600\">\n",
    "    <!-- ![로지스틱회귀](https://raw.githubusercontent.com/simwh123/bigdata-analysis-2024/main/images/ba015.png) -->\n",
    "\n",
    "##### 시그모이드(Sigmoid : S자형) 함수\n",
    "$$\n",
    "y = \\frac{1}{1 + e^{ax + b}}\n",
    "$$\n",
    "\n",
    "##### 로지스텍회귀모델의 성능평가표\n",
    "- 선형회귀 : MSE(평균제곱오류), RMSE(평균제곱의 제곱근 오류), R^2 score(분산비율)\n",
    "- 로지스틱회귀 : 오차행렬에 기반한 정밀도, 재현율, F1스코어, ROC_AUC스코어\n",
    " \n",
    "##### 오차행렬\n",
    "\n",
    "<img src = \"https://raw.githubusercontent.com/simwh123/bigdata-analysis-2024/main/images/ba016.png\" width = \"600\">\n",
    "\n",
    "- 정확도 : 정확하게 예측한 TN, TP를 전체 데이터로 나눈 값, accuracy_score, 오차행렬은 confusion_matrix 함수 사용\n",
    "\n",
    "    $$정확도 =\\frac {예측결과와 실제값이 동일한 건수}{전체데이터수} = \\frac {(TN+TP)}{(TN+FP+FN+TP)}$$\n",
    "\n",
    "- 정밀도 : 예측이 Positive값에서 참인 것(TP)의 비율, precision_score 함수\n",
    "\n",
    "    $$정밀도 = \\frac{TP}{(FP+TP)}$$\n",
    "\n",
    "- 재현율 : 실제값이 positive인 것중 참인 것(TP)의 비율, recall_score 함수 사용\n",
    "\n",
    "    $$재현율 = \\frac{TP}{(FN+TP)}$$\n",
    "\n",
    "- F1스코어 : 정밀도와 재현율을 결합한 평가지표, f1_score 함수\n",
    "\n",
    "    $$F1스코어 = \\frac{2}{\\frac{1}{재현율}+\\frac {1}{정밀도}} = 2\\times \\frac{정밀도*재현율}{정밀도+재현율}$$\n",
    "\n",
    "- ROC(수신자 운영 곡선)기반 AUC(곡선 아래 면적)스코어 : FPR(실제 N인 데이터를 P로 거짓으로 예측한 비율), TPR(실제 P인 데이터를 참으로 예측한 비율(재현율)), roc_auc_score 함수 제공\n",
    "\n",
    "    $$FPR = \\frac{FP}{(FP+TN)}$$"
   ]
  },
  {
   "cell_type": "markdown",
   "metadata": {},
   "source": [
    "## 분류분석\n",
    "\n",
    "### 로지스틱 회귀분석\n",
    "\n",
    "#### 데이터수집\n",
    "\n",
    "##### 사이킷런 제공 유방암 진단 데이터"
   ]
  },
  {
   "cell_type": "code",
   "execution_count": null,
   "metadata": {},
   "outputs": [],
   "source": [
    "## 필요 라이브러리 사용등록\n",
    "import pandas as pd\n",
    "import numpy as np\n",
    "import matplotlib.pyplot as plt\n",
    "import seaborn as sns\n",
    "# load_boston() 만 없어짐\n",
    "from sklearn.datasets import load_breast_cancer"
   ]
  },
  {
   "cell_type": "code",
   "execution_count": null,
   "metadata": {},
   "outputs": [],
   "source": [
    "# 데이터 준비\n",
    "bcancer = load_breast_cancer()"
   ]
  },
  {
   "cell_type": "code",
   "execution_count": null,
   "metadata": {},
   "outputs": [],
   "source": [
    "bcancer.feature_names"
   ]
  },
  {
   "cell_type": "code",
   "execution_count": null,
   "metadata": {},
   "outputs": [],
   "source": [
    "bcancer.data"
   ]
  },
  {
   "cell_type": "code",
   "execution_count": null,
   "metadata": {},
   "outputs": [],
   "source": [
    "bcancer.target"
   ]
  },
  {
   "cell_type": "code",
   "execution_count": null,
   "metadata": {},
   "outputs": [],
   "source": [
    "## DF 생성\n",
    "dfBrCanner = pd.DataFrame(bcancer.data, columns=bcancer.feature_names)"
   ]
  },
  {
   "cell_type": "code",
   "execution_count": null,
   "metadata": {},
   "outputs": [],
   "source": [
    "dfBrCanner"
   ]
  },
  {
   "cell_type": "code",
   "execution_count": null,
   "metadata": {},
   "outputs": [],
   "source": [
    "# 종속변수 암판단결과 추가\n",
    "dfBrCanner['result'] = bcancer.target"
   ]
  },
  {
   "cell_type": "code",
   "execution_count": null,
   "metadata": {},
   "outputs": [],
   "source": [
    "dfBrCanner"
   ]
  },
  {
   "cell_type": "code",
   "execution_count": null,
   "metadata": {},
   "outputs": [],
   "source": [
    "# null값 확인\n",
    "dfBrCanner.isnull().sum()"
   ]
  },
  {
   "cell_type": "code",
   "execution_count": null,
   "metadata": {},
   "outputs": [],
   "source": [
    "## 사이킷런 필요라이브러리 사용등록\n",
    "from sklearn.preprocessing import StandardScaler"
   ]
  },
  {
   "cell_type": "code",
   "execution_count": null,
   "metadata": {},
   "outputs": [],
   "source": [
    "scaler = StandardScaler()"
   ]
  },
  {
   "cell_type": "code",
   "execution_count": null,
   "metadata": {},
   "outputs": [],
   "source": [
    "## 특성으로 사용할 데이터의 평균이 0, 분산이 1이 되는 정규분포형태로 스케일링\n",
    "## 로지스틱 회귀 모델에서 X축으로 사용하기 위해서\n",
    "brCannerScaled = scaler.fit_transform(bcancer.data)"
   ]
  },
  {
   "cell_type": "markdown",
   "metadata": {},
   "source": [
    "##### 로지스틱 회귀로 분석모델 구축\n",
    "- LogisiticRegression"
   ]
  },
  {
   "cell_type": "code",
   "execution_count": null,
   "metadata": {},
   "outputs": [],
   "source": [
    "## 분석용 라이브러리 사용등록\n",
    "from sklearn.linear_model import LogisticRegression\n",
    "from sklearn.model_selection import train_test_split"
   ]
  },
  {
   "cell_type": "code",
   "execution_count": null,
   "metadata": {},
   "outputs": [],
   "source": [
    "## X(독립변수), Y(종속변수 / 악성|양성 결과값)\n",
    "y = dfBrCanner['result']\n",
    "X = brCannerScaled"
   ]
  },
  {
   "cell_type": "code",
   "execution_count": null,
   "metadata": {},
   "outputs": [],
   "source": [
    "# 훈련용데이터와 검증(평가)용 데이터로 분리\n",
    "X_train, X_test, y_train, y_test = train_test_split(X,y, test_size=0.3,random_state=0)"
   ]
  },
  {
   "cell_type": "code",
   "execution_count": null,
   "metadata": {},
   "outputs": [],
   "source": [
    "## 로지스틱 회귀 분석\n",
    "model = LogisticRegression()"
   ]
  },
  {
   "cell_type": "code",
   "execution_count": null,
   "metadata": {},
   "outputs": [],
   "source": [
    "model.fit(X_train, y_train)"
   ]
  },
  {
   "cell_type": "code",
   "execution_count": null,
   "metadata": {},
   "outputs": [],
   "source": [
    "# 예측 시작\n",
    "y_predict = model.predict(X_test)"
   ]
  },
  {
   "cell_type": "markdown",
   "metadata": {},
   "source": [
    "##### 분석평가지표로 실제결과/예측결과 비교\n",
    "- 정확도, 정밀도, 재현율, F1, ROC_AUC_Score"
   ]
  },
  {
   "cell_type": "code",
   "execution_count": null,
   "metadata": {},
   "outputs": [],
   "source": [
    "## 평가지표용 라이브러리 사용등록\n",
    "from  sklearn.metrics import confusion_matrix, accuracy_score, precision_score, recall_score, f1_score,roc_auc_score"
   ]
  },
  {
   "cell_type": "code",
   "execution_count": null,
   "metadata": {},
   "outputs": [],
   "source": [
    "## 1. 오차행렬(실제결과, 예측결과의 오차행렬을 결과)\n",
    "## 171개 확인결과 0을 0으로 예측한게 60건,\n",
    "## 0인데 1로 잘못예측한게 3건, 1을 1로 예측한게 107건\n",
    "confusion_matrix(y_test, y_predict)"
   ]
  },
  {
   "cell_type": "code",
   "execution_count": null,
   "metadata": {},
   "outputs": [],
   "source": [
    "## 정확도부터 ROC기반AUC스코어까지\n",
    "accuracy = accuracy_score(y_test, y_predict)\n",
    "precision = precision_score(y_test, y_predict)\n",
    "recall = recall_score(y_test, y_predict)\n",
    "f1 = f1_score(y_test, y_predict)\n",
    "roc_auc = roc_auc_score(y_test, y_predict)"
   ]
  },
  {
   "cell_type": "code",
   "execution_count": null,
   "metadata": {},
   "outputs": [],
   "source": [
    "f'정확도: {accuracy:.3f}, 정밀도: {precision:.3f}, 재현율: {recall:.3f}, F1:{f1:.3f}, ROC_AUC:{roc_auc:.3f}'"
   ]
  },
  {
   "cell_type": "markdown",
   "metadata": {},
   "source": [
    "##### 결론\n",
    "- 1/10으로 참, 거짓 등의 값을 판단할때는 로지스틱회귀를 사용할 것"
   ]
  }
 ],
 "metadata": {
  "kernelspec": {
   "display_name": "Python 3",
   "language": "python",
   "name": "python3"
  },
  "language_info": {
   "codemirror_mode": {
    "name": "ipython",
    "version": 3
   },
   "file_extension": ".py",
   "mimetype": "text/x-python",
   "name": "python",
   "nbconvert_exporter": "python",
   "pygments_lexer": "ipython3",
   "version": "3.12.2"
  }
 },
 "nbformat": 4,
 "nbformat_minor": 2
}
