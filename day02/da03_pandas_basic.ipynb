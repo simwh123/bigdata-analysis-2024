{
 "cells": [
  {
   "cell_type": "markdown",
   "metadata": {},
   "source": [
    "## Pandas 학습\n",
    "\n",
    "### 데이터 통합\n",
    "\n",
    "#### merge\n",
    "- 데이터를 합칠떄 컬럼을 옆으로 늘려서 합침\n",
    "- DataBase의 JOIN과 동일한 기능"
   ]
  },
  {
   "cell_type": "code",
   "execution_count": null,
   "metadata": {},
   "outputs": [],
   "source": [
    "import pandas as pd"
   ]
  },
  {
   "cell_type": "code",
   "execution_count": null,
   "metadata": {},
   "outputs": [],
   "source": [
    "# header 엑셀에서 필요없는 제목줄 등 없애기\n",
    "# skipfooter 아래쪽에 필요없는 행들을 삭제\n",
    "df_left = pd.read_excel('../day01/data/sample_1.xlsx', header=1, skipfooter=2, usecols='A:C')\n",
    "df_left"
   ]
  },
  {
   "cell_type": "code",
   "execution_count": null,
   "metadata": {},
   "outputs": [],
   "source": [
    "df_right = pd.read_excel('../day01/data/sample_codemaster.xlsx')\n",
    "df_right"
   ]
  },
  {
   "cell_type": "code",
   "execution_count": null,
   "metadata": {},
   "outputs": [],
   "source": [
    "## 병합\n",
    "df_total = pd.merge(left = df_left, right=df_right, how='left', left_on='국적코드',right_on='국적코드')\n",
    "df_total"
   ]
  },
  {
   "cell_type": "code",
   "execution_count": null,
   "metadata": {},
   "outputs": [],
   "source": [
    "## DB INNER JOIN과 동일\n",
    "df_total = pd.merge(left = df_left, right=df_right, how='inner', left_on='국적코드',right_on='국적코드')\n",
    "df_total    # 일치하지 않는 값을 생략(삭제)"
   ]
  },
  {
   "cell_type": "markdown",
   "metadata": {},
   "source": [
    "#### append\n",
    "- 데이터를 합칠때 데이터 수가 늘도록 합치는 방법\n",
    "- DB에 UNION 이라는 기능과 완전 동일"
   ]
  },
  {
   "cell_type": "code",
   "execution_count": null,
   "metadata": {},
   "outputs": [],
   "source": [
    "## append를 하기위한 데이터하나 더 생성\n",
    "df_letf2 = pd.read_excel('./data/sample_2.xlsx', header=1, skipfooter=2, usecols='A:D')\n",
    "df_letf2"
   ]
  },
  {
   "cell_type": "code",
   "execution_count": null,
   "metadata": {},
   "outputs": [],
   "source": [
    "## df_all = df_total + df_total2\n",
    "## pandas 2 버전 이상에서는 append() 함수가 없어짐\n",
    "## pd.concat()으로 변경\n",
    "# df_all = df_left.append(df_letf2)\n",
    "# df_all"
   ]
  },
  {
   "cell_type": "code",
   "execution_count": null,
   "metadata": {},
   "outputs": [],
   "source": [
    "## 이렇게 합칠시 오류발생\n",
    "pd.concat([df_left, df_letf2])"
   ]
  },
  {
   "cell_type": "code",
   "execution_count": null,
   "metadata": {},
   "outputs": [],
   "source": [
    "## df_left2를 가지고 df_total2를 만듬. 국적명을 제대로 받기 위해서\n",
    "df_total2 = pd.merge(left=df_letf2, right=df_right, how='left', left_on='국적코드', right_on='국적코드')\n",
    "df_total2"
   ]
  },
  {
   "cell_type": "code",
   "execution_count": null,
   "metadata": {},
   "outputs": [],
   "source": [
    "# ignore_index는 DF의 자체 인덱스를 무시하고 새로 인덱스를 생성\n",
    "df_all=pd.concat([df_total, df_total2], ignore_index=True)\n",
    "df_all"
   ]
  },
  {
   "cell_type": "code",
   "execution_count": null,
   "metadata": {},
   "outputs": [],
   "source": [
    "## DF 저장.pd.to_...\n",
    "# index=False DF가 만드는 임의의 인덱스는 저장안됨\n",
    "df_all.to_excel('./data/df_all.xlsx', index=False)"
   ]
  },
  {
   "cell_type": "code",
   "execution_count": null,
   "metadata": {},
   "outputs": [],
   "source": [
    "## 기준년월 확인\n",
    "df_total['기준년월']= '2019-11'\n",
    "df_total"
   ]
  },
  {
   "cell_type": "code",
   "execution_count": null,
   "metadata": {},
   "outputs": [],
   "source": [
    "df_total2['기준년월'] = '2019-12'\n",
    "df_total2"
   ]
  },
  {
   "cell_type": "code",
   "execution_count": null,
   "metadata": {},
   "outputs": [],
   "source": [
    "df_all = pd.concat([df_total,df_total2],ignore_index= True)\n",
    "df_all"
   ]
  },
  {
   "cell_type": "markdown",
   "metadata": {},
   "source": [
    "#### Pivot 테이블\n",
    "통계를 내면서 테이블을 세로로된 DF를 가로로 바꿔주는 기능\n",
    "DB에서 바로 피벗작업 힘듦. 파이썬에서 피벗하는게 훨씬 쉬움"
   ]
  },
  {
   "cell_type": "code",
   "execution_count": null,
   "metadata": {},
   "outputs": [],
   "source": [
    "## aggfunc => sum(총합), mean(평균), min, maxm median(중앙값), count(개수), nunique(중복제거개수)\n",
    "df_all.pivot_table(values='입국객수', index='국적코드', columns='기준년월', aggfunc='mean')"
   ]
  },
  {
   "cell_type": "code",
   "execution_count": null,
   "metadata": {},
   "outputs": [],
   "source": [
    "df_all.head()"
   ]
  }
 ],
 "metadata": {
  "kernelspec": {
   "display_name": "Python 3",
   "language": "python",
   "name": "python3"
  },
  "language_info": {
   "codemirror_mode": {
    "name": "ipython",
    "version": 3
   },
   "file_extension": ".py",
   "mimetype": "text/x-python",
   "name": "python",
   "nbconvert_exporter": "python",
   "pygments_lexer": "ipython3",
   "version": "3.12.2"
  }
 },
 "nbformat": 4,
 "nbformat_minor": 2
}
