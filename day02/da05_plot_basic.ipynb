{
 "cells": [
  {
   "cell_type": "markdown",
   "metadata": {},
   "source": [
    "## Matplotlib 학습\n",
    "\n",
    "### Matplotlib\n",
    "파이썬 시각화 라이브러리. 다양한 차트 생성가능\n",
    "\n",
    "### Matplo,lib 설치\n",
    "```python\n",
    "> !pip install matplotlib\n",
    "```"
   ]
  },
  {
   "cell_type": "code",
   "execution_count": null,
   "metadata": {},
   "outputs": [],
   "source": [
    "!pip install matplotlib"
   ]
  },
  {
   "cell_type": "markdown",
   "metadata": {},
   "source": [
    "#### Matplot.lib 사용\n",
    "```python\n",
    "import matplotlib.pyplot as plt\n",
    "```"
   ]
  },
  {
   "cell_type": "code",
   "execution_count": null,
   "metadata": {},
   "outputs": [],
   "source": [
    "import matplotlib.pyplot as plt\n",
    "import numpy as np"
   ]
  },
  {
   "cell_type": "code",
   "execution_count": null,
   "metadata": {},
   "outputs": [],
   "source": [
    "## 단일차트\n",
    "plt.plot([1,2,3,4,5])\n",
    "plt.show() #출력정보 생략"
   ]
  },
  {
   "cell_type": "code",
   "execution_count": null,
   "metadata": {},
   "outputs": [],
   "source": [
    "plt.plot(np.random.randn(50)) # np.random.randn(n) n개의 정수를 랜덤하게 만들어줌\n",
    "plt.show()"
   ]
  },
  {
   "cell_type": "code",
   "execution_count": null,
   "metadata": {},
   "outputs": [],
   "source": [
    "## 다중차트, figure() 사용 4개 이상 불가\n",
    "fig = plt.figure()\n",
    "plt1 = fig.add_subplot(3, 2, 1) # 1번 차트\n",
    "plt2 = fig.add_subplot(3, 2, 2) # 2번 차트\n",
    "plt3 = fig.add_subplot(3, 2, 3) # 3번 차트\n",
    "plt4 = fig.add_subplot(3, 2, 4) # 4번 차트\n",
    "\n",
    "plt1.plot(np.random.random(50))\n",
    "plt2.hist(np.random.random(100))\n",
    "plt3.scatter(np.arange(30), np.random.random(30))\n",
    "plt4.plot(np.random.random(30),'g') # 색상 'r','g','b','y'\n",
    "    \n",
    "plt.show()"
   ]
  },
  {
   "cell_type": "code",
   "execution_count": null,
   "metadata": {},
   "outputs": [],
   "source": [
    "## 다중차트 2번째, 4개 이상 가능\n",
    "# subplots() figsize로 차트 넓이 조정 가능\n",
    "fig, axes = plt.subplots(2,3,figsize=(10,6))\n",
    "axes[0][0].plot(np.random.random(50))\n",
    "axes[0][1].hist(np.random.random(100))\n",
    "axes[1][0].scatter(np.random.random(30),np.random.random(30))\n",
    "axes[1][1].plot(np.random.random(50),'violet')\n",
    "\n",
    "plt.show()"
   ]
  },
  {
   "cell_type": "markdown",
   "metadata": {},
   "source": [
    "#### 차트 스타일 지정 옵션\n",
    "- label, style, alpha, rot, xticks, yticks, xlim, ylim, color, marker, ..."
   ]
  },
  {
   "cell_type": "code",
   "execution_count": null,
   "metadata": {},
   "outputs": [],
   "source": [
    "fig, axes = plt.subplots(2,3,figsize=(18,6))\n",
    "# color ='k' 는 검정색,'crimson'핏빛, alpha = 0.0 완전투명 1.0투명도 없음\n",
    "axes[0][0].plot(np.random.random(50),color='gray', alpha=0.5)\n",
    "# bins는 그루핑 개수\n",
    "axes[0][1].hist(np.random.random(100),color='g', bins=30)\n",
    "# linestyle 선 종류 - , -- , -., : , dotted , solid , dashed, dashdot\n",
    "axes[0][2].plot(np.random.random(50),color='b', linestyle='--')\n",
    "# marker *,^,o\n",
    "axes[1][0].scatter(np.random.random(30),np.random.random(30), marker = '^')\n",
    "axes[1][1].plot(np.random.random(50),'violet')\n",
    "axes[1][2].plot(np.random.random(50),marker = '*')\n",
    "\n",
    "plt.show()"
   ]
  },
  {
   "cell_type": "code",
   "execution_count": null,
   "metadata": {},
   "outputs": [],
   "source": [
    "# cumsum() cumulative sum(누적합)\n",
    "# legend() 범례 표시함수\n",
    "plt.plot(np.random.randn(50).cumsum(),label='data1')\n",
    "plt.plot(np.random.randn(50).cumsum(),label='data2')\n",
    "plt.plot(np.random.randn(50).cumsum(),label='data3')\n",
    "# 위치 값 'best', 'upper right', 'upper left', 'lower left', 'lower right', 'right', 'center left', 'center right', 'lower center', 'upper center', 'center'\n",
    "plt.legend(loc='best')\n",
    "plt.show()"
   ]
  },
  {
   "cell_type": "code",
   "execution_count": null,
   "metadata": {},
   "outputs": [],
   "source": [
    "## x,y축 설정\n",
    "plt.figure(figsize=(18,5)) \n",
    "plt.plot(np.random.randn(1000))\n",
    "plt.xticks([0,250,500,750,1000], labels=['min','25%','median','75%','max'])\n",
    "plt.title('Stastics') # 한글은 기본적 지원 안함\n",
    "plt.show()"
   ]
  },
  {
   "cell_type": "code",
   "execution_count": null,
   "metadata": {},
   "outputs": [],
   "source": [
    "## Pandas DF, Series를 바로 MatplotLib와 연계 바로 차트를 그릴 수 있다\n",
    "import pandas as pd"
   ]
  },
  {
   "cell_type": "code",
   "execution_count": null,
   "metadata": {},
   "outputs": [],
   "source": [
    "df_all = pd.read_excel('./data/sample_2.xlsx')\n",
    "df_all"
   ]
  },
  {
   "cell_type": "code",
   "execution_count": null,
   "metadata": {},
   "outputs": [],
   "source": [
    "df_all.plot()"
   ]
  },
  {
   "cell_type": "markdown",
   "metadata": {},
   "source": [
    "### Matplotlib 한글 표시 문제\n",
    "기본적으로 한글을 지원. font_manager 객체 사용해서 한글을 쓸 수 있도록 변경\n",
    "\n",
    "- 한글을 기본으로 쓰기 떄문에 항상 이 아래부분은 노트북쓸때마다 복사해서 사용"
   ]
  },
  {
   "cell_type": "code",
   "execution_count": null,
   "metadata": {},
   "outputs": [],
   "source": [
    "from matplotlib import rcParams, font_manager, rc\n",
    "\n",
    "font_path = 'C:/Windows/Fonts/malgun.ttf'\n",
    "font = font_manager.FontProperties(fname=font_path).get_name()\n",
    "rc('font',family=font)\n",
    "rcParams['axes.unicode_minus'] = False"
   ]
  },
  {
   "cell_type": "markdown",
   "metadata": {},
   "source": [
    "### Seaborn 라이브러리\n",
    "- Matplotlib 서드파티(제3자) 라이브러리, 기본인 Matplotlib 만큼 많이 활용되는 라이브러리\n",
    "- 기본 보다 훨씬 더 미려하게 차트를 생성할수 있음"
   ]
  },
  {
   "cell_type": "code",
   "execution_count": null,
   "metadata": {},
   "outputs": [],
   "source": [
    "!pip install seaborn"
   ]
  },
  {
   "cell_type": "code",
   "execution_count": null,
   "metadata": {},
   "outputs": [],
   "source": [
    "import matplotlib.pyplot as plt\n",
    "import pandas as pd\n",
    "import seaborn as sns"
   ]
  },
  {
   "cell_type": "markdown",
   "metadata": {},
   "source": [
    "#### Seaborn 특징\n",
    "- 기본적으로 샘플 데이터도 제공\n",
    "- 손쉽게 샘플 차트를 생성 가능"
   ]
  },
  {
   "cell_type": "code",
   "execution_count": null,
   "metadata": {},
   "outputs": [],
   "source": [
    "## 내장 데이터셋 목록 확인\n",
    "sns.get_dataset_names()"
   ]
  },
  {
   "cell_type": "code",
   "execution_count": null,
   "metadata": {},
   "outputs": [],
   "source": [
    "# seaborn 스타일 지정 [\"white\", \"dark\", \"whitegrid\", \"darkgrid\", \"ticks\"]\n",
    "sns.set_style('dark')"
   ]
  },
  {
   "cell_type": "code",
   "execution_count": null,
   "metadata": {},
   "outputs": [],
   "source": [
    "# seborn 칼라코드\n",
    "sns.set_color_codes('dark')"
   ]
  },
  {
   "cell_type": "code",
   "execution_count": null,
   "metadata": {},
   "outputs": [],
   "source": [
    "flights = sns.load_dataset('flights') # iris 붗꼿 샘플 데이터, flights 1940~1960년 월별 비행기 승객수"
   ]
  },
  {
   "cell_type": "code",
   "execution_count": null,
   "metadata": {},
   "outputs": [],
   "source": [
    "flights[['month','passengers']].plot()"
   ]
  },
  {
   "cell_type": "code",
   "execution_count": null,
   "metadata": {},
   "outputs": [],
   "source": [
    "sns.barplot(data=flights, x='year', y='passengers')\n",
    "plt.show()"
   ]
  },
  {
   "cell_type": "code",
   "execution_count": null,
   "metadata": {},
   "outputs": [],
   "source": [
    "sns.boxplot(data=flights, x='year', y='passengers')\n",
    "plt.show()"
   ]
  },
  {
   "cell_type": "code",
   "execution_count": null,
   "metadata": {},
   "outputs": [],
   "source": [
    "sns.swarmplot(data=flights, x='year', y='passengers')\n",
    "plt.show()"
   ]
  },
  {
   "cell_type": "code",
   "execution_count": null,
   "metadata": {},
   "outputs": [],
   "source": [
    "sns.lineplot(data=flights, x='year', y='passengers')\n",
    "plt.show()"
   ]
  },
  {
   "cell_type": "code",
   "execution_count": null,
   "metadata": {},
   "outputs": [],
   "source": [
    "# 다음 버전 0.14.0에서 삭제될 예정\n",
    "sns.distplot(flights['passengers'])"
   ]
  },
  {
   "cell_type": "code",
   "execution_count": null,
   "metadata": {},
   "outputs": [],
   "source": [
    "flights['passengers'].hist()"
   ]
  },
  {
   "cell_type": "code",
   "execution_count": null,
   "metadata": {},
   "outputs": [],
   "source": [
    "titnics = sns.load_dataset('titanic')\n",
    "titnics"
   ]
  }
 ],
 "metadata": {
  "kernelspec": {
   "display_name": "Python 3",
   "language": "python",
   "name": "python3"
  },
  "language_info": {
   "codemirror_mode": {
    "name": "ipython",
    "version": 3
   },
   "file_extension": ".py",
   "mimetype": "text/x-python",
   "name": "python",
   "nbconvert_exporter": "python",
   "pygments_lexer": "ipython3",
   "version": "3.12.2"
  }
 },
 "nbformat": 4,
 "nbformat_minor": 2
}
