{
 "cells": [
  {
   "cell_type": "markdown",
   "metadata": {},
   "source": [
    "## 빅데이터 실습\n",
    "\n",
    "### 스타벅스매장 입지 분석\n",
    "\n",
    "#### 데이터 수집\n",
    "\n",
    "##### 데이터 전처리 마무리\n",
    "\n",
    "##### 스타벅스 분석 시각화"
   ]
  },
  {
   "cell_type": "code",
   "execution_count": null,
   "metadata": {},
   "outputs": [],
   "source": [
    "# 판다스\n",
    "import pandas as pd\n",
    "# 시각화 라이브러리\n",
    "import folium\n",
    "import json"
   ]
  },
  {
   "cell_type": "code",
   "execution_count": null,
   "metadata": {},
   "outputs": [],
   "source": [
    "# 스타벅스 서울시 매장정보 로드\n",
    "dfStarbucksSeoul = pd.read_excel('./data/starbucks_seoul_list.xlsx')"
   ]
  },
  {
   "cell_type": "code",
   "execution_count": null,
   "metadata": {},
   "outputs": [],
   "source": [
    "# 주소를 ' '로 자른다음(배열) 1번쨰 인덱스 값 구하기\n",
    "guName = []\n",
    "for address in dfStarbucksSeoul['주소']:\n",
    "    addr = address.split(' ')\n",
    "    guName.append(addr[1])\n",
    "\n",
    "dfStarbucksSeoul['구']= guName"
   ]
  },
  {
   "cell_type": "code",
   "execution_count": null,
   "metadata": {},
   "outputs": [],
   "source": [
    "dfStarbucksSeoul.to_excel('./data/최종_서울_스타벅스매장list.xlsx',index=False)"
   ]
  },
  {
   "cell_type": "code",
   "execution_count": null,
   "metadata": {},
   "outputs": [],
   "source": [
    "# 스타벅스 분석 데이터 만들기\n",
    "dfSeoulGuList = pd.read_excel('./data/서울_위경도.xlsx')\n",
    "dfSeoulGuList.tail()\n",
    "dfSeoulGuLast = dfSeoulGuList[['do','city','latitude','longitude']]\n",
    "dfSeoulGuLast.to_excel('./data/최종_서울_구리스트.xlsx',index=False)"
   ]
  },
  {
   "cell_type": "code",
   "execution_count": null,
   "metadata": {},
   "outputs": [],
   "source": [
    "# 각 칼럼의 영어이름은 한글 이름으로 변경\n",
    "dfSeoulGuLast.columns = ['시','구','위도','경도']\n",
    "dfSeoulGuLast.tail()\n",
    "dfSeoulGuLast.to_excel('./data/최종_서울_구리스트.xlsx',index=False)"
   ]
  },
  {
   "cell_type": "code",
   "execution_count": null,
   "metadata": {},
   "outputs": [],
   "source": [
    "# 스타벅스 매장에서 구로 그룹화, 매장명수 카운팅(pivot_table)\n",
    "starbucksSeoulCount = dfStarbucksSeoul.pivot_table(values='매장명',\n",
    "                             index='구',aggfunc='count').rename(columns={'매장명':'매장수'})\n",
    "starbucksSeoulCount.tail()"
   ]
  },
  {
   "cell_type": "code",
   "execution_count": null,
   "metadata": {},
   "outputs": [],
   "source": [
    "# 서울구 리스트에 스타벅스구별 매장수를 병합\n",
    "lastSbSeoulCount = pd.merge(left=dfSeoulGuLast,right=starbucksSeoulCount,how='left',on='구')"
   ]
  },
  {
   "cell_type": "code",
   "execution_count": null,
   "metadata": {},
   "outputs": [],
   "source": [
    "#서울시 구별 인구통계로드\n",
    "dfSeoulGuPop = pd.read_excel('./data/수정_서울_구별인구.xlsx')\n",
    "dfSeoulGuPop.tail()"
   ]
  },
  {
   "cell_type": "code",
   "execution_count": null,
   "metadata": {},
   "outputs": [],
   "source": [
    "lastSbSeoulCount = pd.merge(left=lastSbSeoulCount,right=dfSeoulGuPop[['구','성별소계']],how='left',on='구')\n",
    "lastSbSeoulCount.tail()"
   ]
  },
  {
   "cell_type": "code",
   "execution_count": null,
   "metadata": {},
   "outputs": [],
   "source": [
    "# 사업체 정보에 들어올 종사자수 컬럼이름이 '성별소계'로 동일, 컬럼이름 변경\n",
    "lastSbSeoulCount.columns = ['시','구','위도','경도','스타벅스매장수','주민등록인구']"
   ]
  },
  {
   "cell_type": "code",
   "execution_count": null,
   "metadata": {},
   "outputs": [],
   "source": [
    "# 사업체 정보 로드\n",
    "dfSeoulGuBiz = pd.read_excel('./data/수정_서울_구별_사업체현황.xlsx')"
   ]
  },
  {
   "cell_type": "code",
   "execution_count": null,
   "metadata": {},
   "outputs": [],
   "source": [
    "# 사업체정보에서 컬럼이름 부터 변경\n",
    "dfSeoulGuBiz = dfSeoulGuBiz[['구','소계','성별소계']]\n",
    "dfSeoulGuBiz.columns=['구','사업체수','종사가주']"
   ]
  },
  {
   "cell_type": "code",
   "execution_count": null,
   "metadata": {},
   "outputs": [],
   "source": [
    "# 사업체정보를 스타벅스 최종데이터 병합\n",
    "lastSbSeoulCount = pd.merge(left=lastSbSeoulCount,right=dfSeoulGuBiz,how='left',on='구')"
   ]
  },
  {
   "cell_type": "code",
   "execution_count": null,
   "metadata": {},
   "outputs": [],
   "source": [
    "lastSbSeoulCount.to_excel('./data/최종_서울_스타벅스매장_데이터.xlsx',index=False)"
   ]
  },
  {
   "cell_type": "markdown",
   "metadata": {},
   "source": [
    "### 시각화"
   ]
  },
  {
   "cell_type": "code",
   "execution_count": null,
   "metadata": {},
   "outputs": [],
   "source": [
    "# 서울시 스타벅스 매장위치 데이터 로드\n",
    "dfStarbucksSeoul = pd.read_excel('./data/최종_서울_스타벅스매장list.xlsx')"
   ]
  },
  {
   "cell_type": "code",
   "execution_count": null,
   "metadata": {},
   "outputs": [],
   "source": [
    "# 데이터 불러오기\n",
    "dfStarbucksSeoulCount = pd.read_excel('./data/최종_서울_스타벅스매장_데이터.xlsx')"
   ]
  },
  {
   "cell_type": "code",
   "execution_count": null,
   "metadata": {},
   "outputs": [],
   "source": [
    "# 서울시 지도 생성\n",
    "seoulLoc=[37.550800, 126.989857]\n",
    "sbMap = folium.Map(location=seoulLoc,zoom_start=11)\n",
    "\n",
    "# 각 매장 위치를 지도에 마커로 표시\n",
    "for idx in dfStarbucksSeoul.index:\n",
    "    lat = dfStarbucksSeoul.loc[idx,'위도']\n",
    "    lng = dfStarbucksSeoul.loc[idx,'경도']\n",
    "    storeType = dfStarbucksSeoul.loc[idx,'매장타입']\n",
    "    storName = dfStarbucksSeoul.loc[idx,'매장명']\n",
    "\n",
    "    # 매장타입별 색상\n",
    "    fillColor = ''\n",
    "    if storeType == 'general':\n",
    "        fillColor = 'darkgreen'\n",
    "        size = 2\n",
    "    elif storeType == 'reserve':\n",
    "        fillColor = 'black'\n",
    "        size = 5\n",
    "    elif storeType == 'generalDT':\n",
    "        fillColor = 'orange'\n",
    "        size = 3\n",
    "    elif storeType == 'generalWT':\n",
    "        fillColor = 'purple'\n",
    "        size = 3        \n",
    "    # 서클마커\n",
    "    folium.CircleMarker(location=[lat,lng],popup=storName,\n",
    "                        fill=True, fill_color=fillColor, fill_opacity=1,\n",
    "                        color = 'yellow',weight=1,radius=size).add_to(sbMap)\n",
    "\n",
    "sbMap"
   ]
  },
  {
   "cell_type": "code",
   "execution_count": null,
   "metadata": {},
   "outputs": [],
   "source": [
    "# 서울시 구별 스타벅스 매장수 시각화\n",
    "dfStarbucksSeoulCount.tail()"
   ]
  },
  {
   "cell_type": "code",
   "execution_count": null,
   "metadata": {},
   "outputs": [],
   "source": [
    "# 서울시 행정구역(구별) 경계지도 파일\n",
    "path = './data/seoul_municipalities_geo_simple.json'\n",
    "seoulGeoSimple = json.load(open(path, encoding = 'utf-8'))"
   ]
  },
  {
   "cell_type": "code",
   "execution_count": null,
   "metadata": {},
   "outputs": [],
   "source": [
    "seoulGeoSimple['features'][0]['properties']"
   ]
  },
  {
   "cell_type": "code",
   "execution_count": null,
   "metadata": {},
   "outputs": [],
   "source": [
    "def style_function(feature):\n",
    "    return{\n",
    "        'opacity' : 0.9,\n",
    "        'weight' : 2,\n",
    "        'color' : 'white',\n",
    "        'fillOpacity' : 0,\n",
    "        'dashArray' : '5,5'\n",
    "    }"
   ]
  },
  {
   "cell_type": "code",
   "execution_count": null,
   "metadata": {},
   "outputs": [],
   "source": [
    "## 지도생성\n",
    "sbCountMap = folium.Map(location=seoulLoc,zoom_start=11,tiles='CartoDB.dark_matter')\n",
    "folium.GeoJson(seoulGeoSimple,style_function=style_function).add_to(sbCountMap)\n",
    "sbCountMap"
   ]
  },
  {
   "cell_type": "code",
   "execution_count": null,
   "metadata": {},
   "outputs": [],
   "source": [
    "# 스타벅스 평균 매장수 계산\n",
    "sbMean = dfStarbucksSeoulCount['스타벅스매장수'].mean()\n",
    "sbMean"
   ]
  },
  {
   "cell_type": "code",
   "execution_count": null,
   "metadata": {},
   "outputs": [],
   "source": [
    "sbCountMap = folium.Map(location=seoulLoc,zoom_start=11,tiles='CartoDB.dark_matter')\n",
    "\n",
    "folium.GeoJson(seoulGeoSimple,style_function=style_function).add_to(sbCountMap)\n",
    "\n",
    "for idx in dfStarbucksSeoulCount.index:\n",
    "    lat = dfStarbucksSeoulCount.loc[idx,'위도']\n",
    "    lng = dfStarbucksSeoulCount.loc[idx,'경도']\n",
    "    count = dfStarbucksSeoulCount.loc[idx,'스타벅스매장수']\n",
    "    guName = dfStarbucksSeoulCount.loc[idx,'구']\n",
    "\n",
    "    if count > sbMean :\n",
    "        fillColor = 'red'\n",
    "    else:\n",
    "        fillColor = 'blue'\n",
    "\n",
    "    folium.CircleMarker(location=[lat,lng], popup = guName + '  ' + str(count),\n",
    "                        color = '#FFFF00', fill_color=fillColor, fill_opacity=0.7,\n",
    "                        weighht=2,radius=count/2).add_to(sbCountMap)\n",
    "\n",
    "sbCountMap"
   ]
  },
  {
   "cell_type": "code",
   "execution_count": null,
   "metadata": {},
   "outputs": [],
   "source": [
    "from folium.features import DivIcon"
   ]
  },
  {
   "cell_type": "code",
   "execution_count": null,
   "metadata": {},
   "outputs": [],
   "source": [
    "# 구별 스타벅스 매장수 시각화\n",
    "sbCountMap = folium.Map(location=seoulLoc,zoom_start=11)\n",
    "\n",
    "folium.GeoJson(seoulGeoSimple,style_function=style_function).add_to(sbCountMap)\n",
    "\n",
    "folium.Choropleth(geo_data=seoulGeoSimple, data=dfStarbucksSeoulCount, columns=['구','스타벅스매장수'],\n",
    "                  legend_name='구별 스타벅스매장수',\n",
    "                  fill_color='YlGn', fill_opacity=0.7, line_opacity=0.5, key_on='properties.name').add_to(sbCountMap)\n",
    "\n",
    "for idx in dfStarbucksSeoulCount.index:\n",
    "    lat = dfStarbucksSeoulCount.loc[idx,'위도']\n",
    "    lng = dfStarbucksSeoulCount.loc[idx,'경도']\n",
    "    count = dfStarbucksSeoulCount.loc[idx,'스타벅스매장수']\n",
    "    guName = dfStarbucksSeoulCount.loc[idx,'구']\n",
    "\n",
    "    folium.Marker(location=[lat,lng],icon=DivIcon(\n",
    "        icon_size=(150,60),\n",
    "        icon_anchor =(75,25),\n",
    "        html = f'''\n",
    "                <div style =\"font-size : 9pt; font-weight: bold, color : black; text-alignLcenter;\">\n",
    "                    {guName} / {count}\n",
    "                </div>  \n",
    "                '''\n",
    "    )).add_to(sbCountMap)\n",
    "sbCountMap"
   ]
  },
  {
   "cell_type": "code",
   "execution_count": null,
   "metadata": {},
   "outputs": [],
   "source": [
    "# 서울 구별 인구수 시각화\n",
    "sbCountMap = folium.Map(location=seoulLoc,zoom_start=11)\n",
    "\n",
    "folium.GeoJson(seoulGeoSimple,style_function=style_function).add_to(sbCountMap)\n",
    "\n",
    "folium.Choropleth(geo_data=seoulGeoSimple, data=dfStarbucksSeoulCount, columns=['구','주민등록인구'],\n",
    "                  legend_name='구별 인구분포',\n",
    "                  fill_color='YlOrRd', fill_opacity=0.7, line_opacity=0.5, key_on='properties.name').add_to(sbCountMap)\n",
    "\n",
    "for idx in dfStarbucksSeoulCount.index:\n",
    "    lat = dfStarbucksSeoulCount.loc[idx,'위도']\n",
    "    lng = dfStarbucksSeoulCount.loc[idx,'경도']\n",
    "    count = dfStarbucksSeoulCount.loc[idx,'주민등록인구']\n",
    "    guName = dfStarbucksSeoulCount.loc[idx,'구']\n",
    "\n",
    "    folium.Marker(location=[lat,lng],icon=DivIcon(\n",
    "        icon_size=(150,60),\n",
    "        icon_anchor =(75,25),\n",
    "        html = f'''\n",
    "                <div style =\"font-size : 9pt; font-weight: bold, color : black; text-alignLcenter;\">\n",
    "                    {guName} / {count}\n",
    "                </div>  \n",
    "                '''\n",
    "    )).add_to(sbCountMap)\n",
    "sbCountMap"
   ]
  },
  {
   "cell_type": "code",
   "execution_count": null,
   "metadata": {},
   "outputs": [],
   "source": [
    "sbCountMap = folium.Map(location=seoulLoc,zoom_start=11)\n",
    "\n",
    "folium.GeoJson(seoulGeoSimple,style_function=style_function).add_to(sbCountMap)\n",
    "\n",
    "folium.Choropleth(geo_data=seoulGeoSimple, data=dfStarbucksSeoulCount, columns=['구','사업체수'],\n",
    "                  legend_name='구별 사업체분포',\n",
    "                  fill_color='YlGn', fill_opacity=0.7, line_opacity=0.5, key_on='properties.name').add_to(sbCountMap)\n",
    "\n",
    "for idx in dfStarbucksSeoulCount.index:\n",
    "    lat = dfStarbucksSeoulCount.loc[idx,'위도']\n",
    "    lng = dfStarbucksSeoulCount.loc[idx,'경도']\n",
    "    count = dfStarbucksSeoulCount.loc[idx,'사업체수']\n",
    "    guName = dfStarbucksSeoulCount.loc[idx,'구']\n",
    "\n",
    "    folium.Marker(location=[lat,lng],icon=DivIcon(\n",
    "        icon_size=(150,60),\n",
    "        icon_anchor =(75,25),\n",
    "        html = f'''\n",
    "                <div style =\"font-size : 9pt; font-weight: bold, color : black; text-alignLcenter;\">\n",
    "                    {guName} / {count}\n",
    "                </div>  \n",
    "                '''\n",
    "    )).add_to(sbCountMap)\n",
    "\n",
    "sbCountMap"
   ]
  },
  {
   "cell_type": "markdown",
   "metadata": {},
   "source": [
    "##### 결론 : 스타벅스는 인구수보다 직장인이 많이 분포한 구에 매장을 많이 오픈한다"
   ]
  }
 ],
 "metadata": {
  "kernelspec": {
   "display_name": "Python 3",
   "language": "python",
   "name": "python3"
  },
  "language_info": {
   "codemirror_mode": {
    "name": "ipython",
    "version": 3
   },
   "file_extension": ".py",
   "mimetype": "text/x-python",
   "name": "python",
   "nbconvert_exporter": "python",
   "pygments_lexer": "ipython3",
   "version": "3.12.2"
  }
 },
 "nbformat": 4,
 "nbformat_minor": 2
}
