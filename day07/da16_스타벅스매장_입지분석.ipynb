{
 "cells": [
  {
   "cell_type": "markdown",
   "metadata": {},
   "source": [
    "## 빅데이터 실습\n",
    "\n",
    "### 스타벅스매장 입지 분석\n",
    "\n",
    "#### 데이터 수집\n",
    "\n",
    "##### 데이터 전처리 마무리\n",
    "\n",
    "##### 스타벅스 분석 시각화"
   ]
  },
  {
   "cell_type": "code",
   "execution_count": null,
   "metadata": {},
   "outputs": [],
   "source": [
    "# 판다스\n",
    "import pandas as pd\n",
    "# 시각화 라이브러리\n",
    "import folium\n",
    "import json"
   ]
  },
  {
   "cell_type": "code",
   "execution_count": null,
   "metadata": {},
   "outputs": [],
   "source": [
    "# 스타벅스 서울시 매장정보 로드\n",
    "dfStarbucksSeoul = pd.read_excel('./data/starbucks_seoul_list.xlsx')"
   ]
  },
  {
   "cell_type": "code",
   "execution_count": null,
   "metadata": {},
   "outputs": [],
   "source": [
    "# 주소를 ' '로 자른다음(배열) 1번쨰 인덱스 값 구하기\n",
    "guName = []\n",
    "for address in dfStarbucksSeoul['주소']:\n",
    "    addr = address.split(' ')\n",
    "    guName.append(addr[1])\n",
    "\n",
    "dfStarbucksSeoul['구']= guName"
   ]
  },
  {
   "cell_type": "code",
   "execution_count": null,
   "metadata": {},
   "outputs": [],
   "source": [
    "dfStarbucksSeoul.to_excel('./data/최종_서울_스타벅스매장list.xlsx',index=False)"
   ]
  },
  {
   "cell_type": "code",
   "execution_count": null,
   "metadata": {},
   "outputs": [],
   "source": [
    "# 스타벅스 분석 데이터 만들기\n",
    "dfSeoulGuList = pd.read_excel('./data/서울_위경도.xlsx')\n",
    "dfSeoulGuList.tail()\n",
    "dfSeoulGuLast = dfSeoulGuList[['do','city','latitude','longitude']]\n",
    "dfSeoulGuLast.to_excel('./data/최종_서울_구리스트.xlsx',index=False)"
   ]
  },
  {
   "cell_type": "code",
   "execution_count": null,
   "metadata": {},
   "outputs": [],
   "source": [
    "# 각 칼럼의 영어이름은 한글 이름으로 변경\n",
    "dfSeoulGuLast.columns = ['시','구','위도','경도']\n",
    "dfSeoulGuLast.tail()\n",
    "dfSeoulGuLast.to_excel('./data/최종_서울_구리스트.xlsx',index=False)"
   ]
  },
  {
   "cell_type": "code",
   "execution_count": null,
   "metadata": {},
   "outputs": [],
   "source": [
    "# 스타벅스 매장에서 구로 그룹화, 매장명수 카운팅(pivot_table)\n",
    "starbucksSeoulCount = dfStarbucksSeoul.pivot_table(values='매장명',\n",
    "                             index='구',aggfunc='count').rename(columns={'매장명':'매장수'})\n",
    "starbucksSeoulCount.tail()"
   ]
  },
  {
   "cell_type": "code",
   "execution_count": null,
   "metadata": {},
   "outputs": [],
   "source": [
    "# 서울구 리스트에 스타벅스구별 매장수를 병합\n",
    "lastSbSeoulCount = pd.merge(left=dfSeoulGuLast,right=starbucksSeoulCount,how='left',on='구')"
   ]
  },
  {
   "cell_type": "code",
   "execution_count": null,
   "metadata": {},
   "outputs": [],
   "source": [
    "#서울시 구별 인구통계로드\n",
    "dfSeoulGuPop = pd.read_excel('./data/수정_서울_구별인구.xlsx')\n",
    "dfSeoulGuPop.tail()"
   ]
  },
  {
   "cell_type": "code",
   "execution_count": null,
   "metadata": {},
   "outputs": [],
   "source": [
    "lastSbSeoulCount = pd.merge(left=lastSbSeoulCount,right=dfSeoulGuPop[['구','성별소계']],how='left',on='구')\n",
    "lastSbSeoulCount.tail()"
   ]
  },
  {
   "cell_type": "code",
   "execution_count": null,
   "metadata": {},
   "outputs": [],
   "source": [
    "# 사업체 정보에 들어올 종사자수 컬럼이름이 '성별소계'로 동일, 컬럼이름 변경\n",
    "lastSbSeoulCount.columns = ['시','구','위도','경도','스타벅스매장수','주민등록인구']"
   ]
  },
  {
   "cell_type": "code",
   "execution_count": null,
   "metadata": {},
   "outputs": [],
   "source": [
    "# 사업체 정보 로드\n",
    "dfSeoulGuBiz = pd.read_excel('./data/수정_서울_구별_사업체현황.xlsx')"
   ]
  },
  {
   "cell_type": "code",
   "execution_count": null,
   "metadata": {},
   "outputs": [],
   "source": [
    "# 사업체정보에서 컬럼이름 부터 변경\n",
    "dfSeoulGuBiz = dfSeoulGuBiz[['구','소계','성별소계']]\n",
    "dfSeoulGuBiz.columns=['구','사업체수','종사가주']"
   ]
  },
  {
   "cell_type": "code",
   "execution_count": null,
   "metadata": {},
   "outputs": [],
   "source": [
    "# 사업체정보를 스타벅스 최종데이터 병합\n",
    "lastSbSeoulCount = pd.merge(left=lastSbSeoulCount,right=dfSeoulGuBiz,how='left',on='구')"
   ]
  },
  {
   "cell_type": "code",
   "execution_count": null,
   "metadata": {},
   "outputs": [],
   "source": [
    "lastSbSeoulCount.to_excel('./data/최종_서울_스타벅스매장_데이터.xlsx',index=False)"
   ]
  },
  {
   "cell_type": "markdown",
   "metadata": {},
   "source": [
    "### 시각화"
   ]
  },
  {
   "cell_type": "code",
   "execution_count": null,
   "metadata": {},
   "outputs": [],
   "source": [
    "# 서울시 스타벅스 매장위치 데이터 로드\n",
    "dfStarbucksSeoul = pd.read_excel('./data/최종_서울_스타벅스매장list.xlsx')"
   ]
  },
  {
   "cell_type": "code",
   "execution_count": null,
   "metadata": {},
   "outputs": [],
   "source": [
    "# 데이터 불러오기\n",
    "dfStarbucksSeoulCount = pd.read_excel('./data/최종_서울_스타벅스매장_데이터.xlsx')"
   ]
  },
  {
   "cell_type": "code",
   "execution_count": null,
   "metadata": {},
   "outputs": [],
   "source": [
    "dfStarbucksSeoul['매장타입'].velue_counts()"
   ]
  },
  {
   "cell_type": "code",
   "execution_count": null,
   "metadata": {},
   "outputs": [],
   "source": [
    "# 서울시 지도 생성\n",
    "seoulLoc=[37.550800, 126.989857]\n",
    "sbMap = folium.Map(location=seoulLoc,zoom_start=11)\n",
    "\n",
    "# 각 매장 위치를 지도에 마커로 표시\n",
    "for idx in dfStarbucksSeoul.index:\n",
    "    lat = dfStarbucksSeoul.loc[idx,'위도']\n",
    "    lng = dfStarbucksSeoul.loc[idx,'경도']\n",
    "    \n",
    "    # 매장타입별 색상\n",
    "    \n",
    "    \n",
    "    # 서클마커\n",
    "    folium.CircleMarker(location=[lat,lng],fill=True,fill_color='green',fill_opacity=1,\n",
    "                        color = 'yellow',weight=1,radius=3).add_to(sbMap)\n",
    "\n",
    "sbMap"
   ]
  },
  {
   "cell_type": "code",
   "execution_count": null,
   "metadata": {},
   "outputs": [],
   "source": []
  }
 ],
 "metadata": {
  "kernelspec": {
   "display_name": "Python 3",
   "language": "python",
   "name": "python3"
  },
  "language_info": {
   "codemirror_mode": {
    "name": "ipython",
    "version": 3
   },
   "file_extension": ".py",
   "mimetype": "text/x-python",
   "name": "python",
   "nbconvert_exporter": "python",
   "pygments_lexer": "ipython3",
   "version": "3.12.2"
  }
 },
 "nbformat": 4,
 "nbformat_minor": 2
}
