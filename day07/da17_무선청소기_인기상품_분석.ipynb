{
 "cells": [
  {
   "cell_type": "markdown",
   "metadata": {},
   "source": [
    "## 빅데이터 실습\n",
    "\n",
    "### 다나와 무선청소기 상품분석\n",
    "\n",
    "#### 데이터 수집\n",
    "\n",
    "##### 셀레니움 사용"
   ]
  },
  {
   "cell_type": "code",
   "execution_count": null,
   "metadata": {},
   "outputs": [],
   "source": [
    "from selenium import webdriver\n",
    "import time\n",
    "from bs4 import BeautifulSoup\n",
    "import pandas as pd\n",
    "from urllib import parse # url encode\n",
    "from tqdm import tqdm, tqdm_notebook"
   ]
  },
  {
   "cell_type": "code",
   "execution_count": null,
   "metadata": {},
   "outputs": [],
   "source": [
    "driver = webdriver.Chrome()\n",
    "url = 'https://search.danawa.com/dsearch.php?query=무선청소기&page=1&limit=120&sort=saveDESC&list=list'\n",
    "driver.get(url)\n",
    "time.sleep(5.0)"
   ]
  },
  {
   "cell_type": "code",
   "execution_count": null,
   "metadata": {},
   "outputs": [],
   "source": [
    "html = driver.page_source\n",
    "soup = BeautifulSoup(html,'html.parser')"
   ]
  },
  {
   "cell_type": "code",
   "execution_count": null,
   "metadata": {},
   "outputs": [],
   "source": [
    "prodItems = soup.select('ul.product_list >li.prod_item')\n"
   ]
  },
  {
   "cell_type": "code",
   "execution_count": null,
   "metadata": {},
   "outputs": [],
   "source": [
    "# id = \"productItem19965230\" 식으로 전개되므로 productItem 이 아니면 패스.\n",
    "# 제품명 가져오기\n",
    "prodItems[0].select('p.prod_name > a')[0].text.strip()"
   ]
  },
  {
   "cell_type": "code",
   "execution_count": null,
   "metadata": {},
   "outputs": [],
   "source": [
    "# 제품스펙 가져오기\n",
    "prodItems[0].select('div.spec_list')[0].text.strip().replace('\\t','')"
   ]
  },
  {
   "cell_type": "code",
   "execution_count": null,
   "metadata": {},
   "outputs": [],
   "source": [
    "# 제품가격 가져오기\n",
    "# input 중 두번째 값에서 value값을 가져온다\n",
    "prodItems[0].select('input')[1].get('value')"
   ]
  },
  {
   "cell_type": "code",
   "execution_count": null,
   "metadata": {},
   "outputs": [],
   "source": [
    "# 제품 인트로\n",
    "prodItems[0].select('p.intro_text')[0].text"
   ]
  },
  {
   "cell_type": "markdown",
   "metadata": {},
   "source": [
    "##### 1번  페이지에서 상품 정보 추출"
   ]
  },
  {
   "cell_type": "code",
   "execution_count": null,
   "metadata": {},
   "outputs": [],
   "source": [
    "prodData = []\n",
    "for prodItem in prodItems:\n",
    "    try:\n",
    "        prodName = prodItem.select('p.prod_name > a')[0].text.strip()\n",
    "        specList = prodItem.select('div.spec_list')[0].text.strip().replace('\\t','')\n",
    "        price = prodItem.select('input')[1].get('value')\n",
    "        intro = prodItem.select('p.intro_text')[0].text\n",
    "        prodData.append([prodName,specList,price])\n",
    "    except:\n",
    "        pass\n"
   ]
  },
  {
   "cell_type": "code",
   "execution_count": null,
   "metadata": {},
   "outputs": [],
   "source": [
    "pd.DataFrame(prodData)"
   ]
  },
  {
   "cell_type": "markdown",
   "metadata": {},
   "source": [
    "##### 여러페이지 크롤링 하는 방법\n"
   ]
  },
  {
   "cell_type": "code",
   "execution_count": null,
   "metadata": {},
   "outputs": [],
   "source": [
    "## 검색어, 페이지를 변경하면서 URL 생성함수\n",
    "def getSearchPageUrl(keyword, page):\n",
    "    ecKeyword = parse.quote(keyword)\n",
    "    url = f'https://search.danawa.com/dsearch.php?query={ecKeyword}&originalQuery={ecKeyword}&previousKeyword={ecKeyword}&checkedInfo=N&volumeType=allvs&' + \\\n",
    "          f'page={page}&limit=120&sort=saveDESC&list=list&boost=true&tab=goods&addDelivery=N&coupangMemberSort=N&mode=simple&isInitTireSmartFinder=N&' + \\\n",
    "            'recommendedSort=N&defaultUICategoryCode=10325109&defaultPhysicsCategoryCode=72%7C80%7C81%7C0&defaultVmTab=3138&defaultVaTab=1098867&isZeroPrice=Y&' + \\\n",
    "            'quickProductYN=N&priceUnitSort=N&priceUnitSortOrder=A'\n",
    "    return url"
   ]
  },
  {
   "cell_type": "code",
   "execution_count": null,
   "metadata": {},
   "outputs": [],
   "source": [
    "def getProdItems(prodItems):\n",
    "    prodData = []\n",
    "    for product in prodItems:\n",
    "        try:\n",
    "            product_name = product.select('p.prod_name >a')[0].text.strip()\n",
    "            product_spec = product.select('div.spec_list')[0].text.strip().replace('\\t','')\n",
    "            product_price = product.select('input')[1].get('value')\n",
    "            product_reg_mon = product.select('div.prod_sub_meta> dl>dd')[0].text.strip()\n",
    "            prodData.append([product_name,product_spec,product_price,product_reg_mon])\n",
    "        except:\n",
    "            pass\n",
    "    return prodData"
   ]
  },
  {
   "cell_type": "code",
   "execution_count": null,
   "metadata": {},
   "outputs": [],
   "source": [
    "# 검색어에 공백이 있으면 URL에서 링크 클리이 안되는 문제 발생 --> urlEncode: parse.quote()를 통해서 문제 해결\n",
    "getSearchPageUrl('페브리즈air',1)"
   ]
  },
  {
   "cell_type": "code",
   "execution_count": null,
   "metadata": {},
   "outputs": [],
   "source": [
    "total_page = 10\n",
    "for page in tqdm(range(1,total_page+1)):\n",
    "    time.sleep(0.1)"
   ]
  },
  {
   "cell_type": "code",
   "execution_count": null,
   "metadata": {},
   "outputs": [],
   "source": [
    "# 여러페이지 검색후 크롤링하는 작업\n",
    "\n",
    "driver = webdriver.Chrome()\n",
    "\n",
    "# 암묵적으로 맵 자원 로드를 위해서 3초 정도 대기한다.\n",
    "driver.implicitly_wait(3)\n",
    "\n",
    "keyword = '무선청소기'\n",
    "totalPage = 20\n",
    "# 최종 저장 리스트\n",
    "prodDataTotal = []\n",
    "\n",
    "for page in tqdm(range(11,totalPage+1)):\n",
    "    url = getSearchPageUrl(keyword,page)\n",
    "    driver.get(url)\n",
    "    #페이지 로딩이 완료될 때 까지 5초 대기\n",
    "    time.sleep(5)\n",
    "    \n",
    "    # 상품 정보 추출\n",
    "    html = driver.page_source\n",
    "    soup = BeautifulSoup(html,'html.parser')\n",
    "    prodItems = soup.select('ul.product_list > li.prod_item')\n",
    "    prodItemList = getProdItems(prodItems)\n",
    "\n",
    "    prodDataTotal += prodItemList\n"
   ]
  },
  {
   "cell_type": "code",
   "execution_count": null,
   "metadata": {},
   "outputs": [],
   "source": [
    "var2 = pd.DataFrame(prodDataTotal)\n",
    "var2.to_excel('./data/다나와_무선청소기_11~20.xlsx')"
   ]
  }
 ],
 "metadata": {
  "kernelspec": {
   "display_name": "Python 3",
   "language": "python",
   "name": "python3"
  },
  "language_info": {
   "codemirror_mode": {
    "name": "ipython",
    "version": 3
   },
   "file_extension": ".py",
   "mimetype": "text/x-python",
   "name": "python",
   "nbconvert_exporter": "python",
   "pygments_lexer": "ipython3",
   "version": "3.12.2"
  }
 },
 "nbformat": 4,
 "nbformat_minor": 2
}
