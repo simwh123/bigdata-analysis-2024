{
 "cells": [
  {
   "cell_type": "markdown",
   "metadata": {},
   "source": [
    "# 빅데이터분석 복습"
   ]
  },
  {
   "cell_type": "code",
   "execution_count": null,
   "metadata": {},
   "outputs": [],
   "source": [
    "import pandas as pd"
   ]
  },
  {
   "cell_type": "code",
   "execution_count": null,
   "metadata": {},
   "outputs": [],
   "source": [
    "url = r'https://raw.githubusercontent.com/hugoMGSung/works-need-it-data-analysis/main/bigdata-python-2023/Day06/data/%EC%B6%A9%EC%B2%AD%EB%B6%81%EB%8F%84_%ED%91%B8%EB%93%9C%EB%B1%85%ED%81%AC%ED%98%84%ED%99%A9.csv'\n",
    "dfCbFoodBank = pd.read_csv(url)\n",
    "dfCbFoodBank.tail() # head 보다는 tail로 전체 갯수룰 확인"
   ]
  },
  {
   "cell_type": "code",
   "execution_count": null,
   "metadata": {},
   "outputs": [],
   "source": [
    "# 판다스로 샘플데이터 생성\n",
    "df = pd.DataFrame({'float': [1.0],\n",
    "                   'int' : [1],\n",
    "                   'datetime': [pd.Timestamp('20240315')],\n",
    "                   'string' : ['dummy'],\n",
    "                   'boolean':[True]})\n",
    "\n",
    "df"
   ]
  },
  {
   "cell_type": "code",
   "execution_count": null,
   "metadata": {},
   "outputs": [],
   "source": [
    "# 판다스 데이터타입과 파이썬 데이터타입은 다름\n",
    "# float -> float64, int -> int64, pd.Timestamp() -> datetime64, string, 'yyyy-mm-dd' -> obeject\n",
    "# boolean -> bool\n",
    "df.info()"
   ]
  },
  {
   "cell_type": "code",
   "execution_count": null,
   "metadata": {},
   "outputs": [],
   "source": [
    "df.dtypes"
   ]
  },
  {
   "cell_type": "code",
   "execution_count": null,
   "metadata": {},
   "outputs": [],
   "source": [
    "df = df.astype({'int':'int32'})"
   ]
  },
  {
   "cell_type": "code",
   "execution_count": null,
   "metadata": {},
   "outputs": [],
   "source": [
    "df.dtypes"
   ]
  },
  {
   "cell_type": "code",
   "execution_count": null,
   "metadata": {},
   "outputs": [],
   "source": [
    "df = df.astype({'float':'float32'})"
   ]
  },
  {
   "cell_type": "code",
   "execution_count": null,
   "metadata": {},
   "outputs": [],
   "source": [
    "df.dtypes"
   ]
  },
  {
   "cell_type": "code",
   "execution_count": null,
   "metadata": {},
   "outputs": [],
   "source": [
    "df.info()"
   ]
  },
  {
   "cell_type": "markdown",
   "metadata": {},
   "source": [
    "#### 판다스 데이터타입\n",
    "|dtype|설명|비고|\n",
    "|---|---|---|\n",
    "|**float64**|실수|기본값|\n",
    "|float32,16,8|실수(작은사이즈)|옵션(float64에서 변경 가능)|\n",
    "|**int64**|정수|기본값|\n",
    "|int32,16,8|정수(작은사이즈)|옵션|\n",
    "|datetime64|날짜| |\n",
    "|**object**|문자열 또는 복합형| |\n",
    "|bool|부울| |\n",
    "|category|카테고리| |\n"
   ]
  },
  {
   "cell_type": "code",
   "execution_count": null,
   "metadata": {},
   "outputs": [],
   "source": [
    "# 판다스 카테고리\n",
    "df = pd.DataFrame({'id':[1,2,3,4,5,6],\n",
    "                   'raw_grade': ['a','b','b','a','c','d']})"
   ]
  },
  {
   "cell_type": "code",
   "execution_count": null,
   "metadata": {},
   "outputs": [],
   "source": [
    "df"
   ]
  },
  {
   "cell_type": "code",
   "execution_count": null,
   "metadata": {},
   "outputs": [],
   "source": [
    "df['grade'] = df['raw_grade'].astype('category')"
   ]
  },
  {
   "cell_type": "code",
   "execution_count": null,
   "metadata": {},
   "outputs": [],
   "source": [
    "df.info()"
   ]
  },
  {
   "cell_type": "code",
   "execution_count": null,
   "metadata": {},
   "outputs": [],
   "source": [
    "# 카테고리만 출력\n",
    "df['grade']"
   ]
  },
  {
   "cell_type": "code",
   "execution_count": null,
   "metadata": {},
   "outputs": [],
   "source": [
    "# 카테고리 정렬\n",
    "df.sort_values(by='grade')"
   ]
  },
  {
   "cell_type": "code",
   "execution_count": null,
   "metadata": {},
   "outputs": [],
   "source": [
    "# 카테고리 갯수\n",
    "df.groupby('grade').size()"
   ]
  },
  {
   "cell_type": "code",
   "execution_count": null,
   "metadata": {},
   "outputs": [],
   "source": [
    "# 카테고리 이름 바꾸기\n",
    "df['grade'].cat.rename_categories(['Very good','good','bad','Very bad'])"
   ]
  },
  {
   "cell_type": "markdown",
   "metadata": {},
   "source": [
    "##### 전처리 중, 결측치, 이상치 제거\n",
    "캐글 또는 seaborn의 타이타닉 생존자 데이터로  결측치/이상치 검색, 처리\n"
   ]
  },
  {
   "cell_type": "code",
   "execution_count": null,
   "metadata": {},
   "outputs": [],
   "source": [
    "import seaborn as sns"
   ]
  },
  {
   "cell_type": "code",
   "execution_count": null,
   "metadata": {},
   "outputs": [],
   "source": [
    "dfTitatic = sns.load_dataset('titanic')\n",
    "dfTitatic.tail()"
   ]
  },
  {
   "cell_type": "code",
   "execution_count": null,
   "metadata": {},
   "outputs": [],
   "source": [
    "dfTitatic.info()"
   ]
  },
  {
   "cell_type": "markdown",
   "metadata": {},
   "source": [
    "##### 컬럼 설명\n",
    "|컬럼명|설명|\n",
    "|---|---|\n",
    "|survived|생존여부(1:생존)|\n",
    "|pclass|객실등급(1~3)|\n",
    "|sex|성별(male/female)|\n",
    "|age|나이|\n",
    "|sibsp|형제+배우자수|\n",
    "|parch|부모+자녀수|\n",
    "|fare|좌석요금|\n",
    "|embarked|탑승항구 이니셜(S, C, Q)|\n",
    "|who| 남자, 여자, 아이|\n",
    "|adult_male| 성인남자여부|\n",
    "|deck|배내부 데크|\n",
    "|embark_town|탑승항구(Southhampton, Cherbourg, Queenstown)|\n",
    "|alive|생존여부(yes/no)|\n",
    "|alone|혼자탑승여부|"
   ]
  },
  {
   "cell_type": "code",
   "execution_count": null,
   "metadata": {},
   "outputs": [],
   "source": [
    "# 복사본 만들기\n",
    "dfCopy = dfTitatic.copy()\n",
    "dfCopy"
   ]
  },
  {
   "cell_type": "code",
   "execution_count": null,
   "metadata": {},
   "outputs": [],
   "source": [
    "dfCopy[['survived','age','fare']].tail()"
   ]
  },
  {
   "cell_type": "code",
   "execution_count": null,
   "metadata": {},
   "outputs": [],
   "source": [
    "# 필요row만 가져올때 loc 속성 연속된 값을 가져올때(파이썬 리스트 slice와 유사)\n",
    "# 인덱스에 번호와 문자 둘다 사용가능\n",
    "dfCopy.loc[0:5]"
   ]
  },
  {
   "cell_type": "code",
   "execution_count": null,
   "metadata": {},
   "outputs": [],
   "source": [
    "# 필요한row를 따로 가져올때\n",
    "dfCopy.loc[[0,4,5]]"
   ]
  },
  {
   "cell_type": "code",
   "execution_count": null,
   "metadata": {},
   "outputs": [],
   "source": [
    "# 필요한 행번호로 row를 가져옴\n",
    "# 숫자 하나만 입력시 해당 인덱스의 정보를 출력 \n",
    "# 행과 열의 인덱스로만 조회\n",
    "dfCopy.iloc[0:,3]"
   ]
  },
  {
   "cell_type": "code",
   "execution_count": null,
   "metadata": {},
   "outputs": [],
   "source": [
    "# 결측치 검색 isnull() or isna() , 전체합계 sum()\n",
    "dfCopy.isnull().sum()\n"
   ]
  },
  {
   "cell_type": "code",
   "execution_count": null,
   "metadata": {},
   "outputs": [],
   "source": [
    "# 전체 결측치 갯수\n",
    "dfCopy.isna().sum().sum()"
   ]
  },
  {
   "cell_type": "code",
   "execution_count": null,
   "metadata": {},
   "outputs": [],
   "source": [
    "condition= dfCopy['age'].isnull()\n",
    "dfCopy[condition]"
   ]
  },
  {
   "cell_type": "code",
   "execution_count": null,
   "metadata": {},
   "outputs": [],
   "source": [
    "# 결측치 채워넣는 방법 fillna() NaN일정값으로 채워넣는것\n",
    "dfCopy['age'] = dfCopy['age'].fillna(200)"
   ]
  },
  {
   "cell_type": "code",
   "execution_count": null,
   "metadata": {},
   "outputs": [],
   "source": [
    "condition = dfCopy['age'] == 200\n",
    "dfCopy[condition]"
   ]
  }
 ],
 "metadata": {
  "kernelspec": {
   "display_name": "Python 3",
   "language": "python",
   "name": "python3"
  },
  "language_info": {
   "codemirror_mode": {
    "name": "ipython",
    "version": 3
   },
   "file_extension": ".py",
   "mimetype": "text/x-python",
   "name": "python",
   "nbconvert_exporter": "python",
   "pygments_lexer": "ipython3",
   "version": "3.12.2"
  }
 },
 "nbformat": 4,
 "nbformat_minor": 2
}
