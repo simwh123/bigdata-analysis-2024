{
 "cells": [
  {
   "cell_type": "markdown",
   "metadata": {},
   "source": [
    "## 빅데이터 실습\n",
    "\n",
    "### 스타벅스매장 입지 분석\n",
    "\n",
    "#### 데이터 수집\n",
    "\n",
    "##### 웹사이트 제공 엑셀파일 수정"
   ]
  },
  {
   "cell_type": "code",
   "execution_count": null,
   "metadata": {},
   "outputs": [],
   "source": [
    "import matplotlib.pyplot as plt\n",
    "import numpy as np\n",
    "import pandas as pd\n",
    "import seaborn as sns\n",
    "from selenium import webdriver\n",
    "from selenium.webdriver.common.by import By\n",
    "from bs4 import BeautifulSoup\n",
    "import unicodedata  # 유니코드 데이터 처리 모듈\n",
    "import re   # 정규식 처리 모듈\n",
    "import time\n",
    "from PIL import Image,ImageOps\n",
    "from tqdm import tqdm\n",
    "from collections import Counter\n",
    "from wordcloud import WordCloud\n",
    "import platform\n",
    "import folium\n",
    "from folium.plugins import MarkerCluster # 마커클러스터용 클래스 추가\n",
    "import requests # 인터넷에서 받아오는 라이브러리"
   ]
  },
  {
   "cell_type": "code",
   "execution_count": null,
   "metadata": {},
   "outputs": [],
   "source": [
    "# 한글 깨짐 문제 해결\n",
    "from matplotlib import rcParams, font_manager, rc\n",
    "\n",
    "font_path = 'C:/Windows/Fonts/malgun.ttf'\n",
    "font = font_manager.FontProperties(fname=font_path).get_name()\n",
    "rc('font',family=font)\n",
    "rcParams['axes.unicode_minus'] = False"
   ]
  },
  {
   "cell_type": "code",
   "execution_count": null,
   "metadata": {},
   "outputs": [],
   "source": [
    "#불필요한 경고메시지 제거\n",
    "import warnings\n",
    "warnings.filterwarnings('ignore')  "
   ]
  },
  {
   "cell_type": "code",
   "execution_count": null,
   "metadata": {},
   "outputs": [],
   "source": [
    "dfSeoulManicpality = pd.read_excel('./data/전국_시군구_위경도.xlsx')\n",
    "dfSeoulManicpality.tail()"
   ]
  },
  {
   "cell_type": "code",
   "execution_count": null,
   "metadata": {},
   "outputs": [],
   "source": [
    "# 서울 필터링\n",
    "condition = dfSeoulManicpality['do'] == '서울'\n",
    "dfSeoulGeo = dfSeoulManicpality[condition]\n",
    "dfSeoulGeo.info()"
   ]
  },
  {
   "cell_type": "code",
   "execution_count": null,
   "metadata": {},
   "outputs": [],
   "source": [
    "# 데이터 저장\n",
    "dfSeoulGeo.to_excel('./data/서울_위경도.xlsx',index=False)"
   ]
  },
  {
   "cell_type": "code",
   "execution_count": null,
   "metadata": {},
   "outputs": [],
   "source": [
    "## 서울시 구별 인구데이터 로드\n",
    "columns = ['구','세대소계','성별소계','남자','여자','한국인소계','남자','여자','등록외국인소계','남자','여자','세대당인구소계','65세 이상']\n",
    "dfSeoulPop = pd.read_excel('./data/서울시_구별_인구데이터.xlsx', header=2, usecols='B,O:Z')\n",
    "dfSeoulPop.columns = columns\n",
    "dfSeoulPop"
   ]
  },
  {
   "cell_type": "code",
   "execution_count": null,
   "metadata": {},
   "outputs": [],
   "source": [
    "## 서울시 인구데이터 저장\n",
    "dfSeoulPop.to_excel('./data/수정_서울_구별인구.xlsx',index=False)"
   ]
  },
  {
   "cell_type": "code",
   "execution_count": null,
   "metadata": {},
   "outputs": [],
   "source": [
    "## 서울시 구별 사업체 현황\n",
    "dfSeoulWork = pd.read_excel('./data/서울시_구별_사업체현황.xlsx',header=4,usecols='B:G')\n",
    "columns=['구','소계','여성대표자','성별소계','남자','여자']\n",
    "dfSeoulWork.columns=columns"
   ]
  },
  {
   "cell_type": "code",
   "execution_count": null,
   "metadata": {},
   "outputs": [],
   "source": [
    "dfSeoulWork.to_excel('./data/수정_서울_구별_사업체현황.xlsx')"
   ]
  }
 ],
 "metadata": {
  "kernelspec": {
   "display_name": "Python 3",
   "language": "python",
   "name": "python3"
  },
  "language_info": {
   "codemirror_mode": {
    "name": "ipython",
    "version": 3
   },
   "file_extension": ".py",
   "mimetype": "text/x-python",
   "name": "python",
   "nbconvert_exporter": "python",
   "pygments_lexer": "ipython3",
   "version": "3.12.2"
  }
 },
 "nbformat": 4,
 "nbformat_minor": 2
}
