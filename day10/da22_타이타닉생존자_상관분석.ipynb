{
 "cells": [
  {
   "cell_type": "markdown",
   "metadata": {},
   "source": [
    "## 빅데이터 실습\n",
    "### 타이타닉 생존자 상관분석\n",
    "- 상관계수로 두 변수간의 상관관계 유추\n",
    "  - correlation coefficient\n",
    "- 상관계수 값(-1~0~1) \n",
    "  - 음수면 서로간의 음의 상관관계(한쪽값이 올라가면, 다른값은 떨어짐)\n",
    "  - 양수면 서로간의 양의 상관관계(한쪽값이 올라가면, 다른값도 올라감)\n",
    "  - 0.0 ~ 0.2: 상관관계가 거의 없다\n",
    "  - 0.2 ~ 0.4: 약간 상관관계가 있다\n",
    "  - 0.4 ~ 0.6: 상관관계가 있다\n",
    "  - 0.6 ~ 0.8: 강한 상관관계가 있다\n",
    "  - 0.8 ~ 1.0: 서론간 매우 긴밀한 연관이 있다. 상관관계 최고\n",
    "### 데이터 수집\n",
    "#### Seaborn 테스트데이터"
   ]
  },
  {
   "cell_type": "code",
   "execution_count": null,
   "metadata": {},
   "outputs": [],
   "source": [
    "## 필수 라이브러리 사용등록\n",
    "import seaborn as sns\n",
    "import pandas as pd\n",
    "import matplotlib.pyplot as plt"
   ]
  },
  {
   "cell_type": "code",
   "execution_count": null,
   "metadata": {},
   "outputs": [],
   "source": [
    "# 한글 깨짐 문제 해결\n",
    "from matplotlib import rcParams, font_manager, rc\n",
    "\n",
    "font_path = 'C:/Windows/Fonts/NanumGothicCoding.ttf' # 나눔고딕코딩 사용, 나눔고딕에서 오류발생(!)\n",
    "font = font_manager.FontProperties(fname=font_path).get_name() # 실제 설치된 폰트 이름조회\n",
    "rc('font', family=font) # 한글깨짐현상 해결!!\n",
    "rcParams['axes.unicode_minus'] = False # 한글 사용시 마이너스 표시 깨짐 해결!"
   ]
  },
  {
   "cell_type": "code",
   "execution_count": null,
   "metadata": {},
   "outputs": [],
   "source": [
    "sns.set_style('darkgrid')"
   ]
  },
  {
   "cell_type": "code",
   "execution_count": null,
   "metadata": {},
   "outputs": [],
   "source": [
    "# seaborn 타이타닉 데이터 \n",
    "dfTitanic = sns.load_dataset('titanic')\n",
    "dfTitanic"
   ]
  },
  {
   "cell_type": "markdown",
   "metadata": {},
   "source": [
    "#### 타이타닉 생존자 데이터 문제\n",
    "- 결측치가 너무 많다 -> 결측치 제거 필요\n"
   ]
  },
  {
   "cell_type": "code",
   "execution_count": null,
   "metadata": {},
   "outputs": [],
   "source": [
    "dfTitanic.isnull().sum()"
   ]
  },
  {
   "cell_type": "code",
   "execution_count": null,
   "metadata": {},
   "outputs": [],
   "source": [
    "dfTitanic.info()"
   ]
  },
  {
   "cell_type": "code",
   "execution_count": null,
   "metadata": {},
   "outputs": [],
   "source": [
    "dfTitanic.describe()"
   ]
  },
  {
   "cell_type": "code",
   "execution_count": null,
   "metadata": {},
   "outputs": [],
   "source": [
    "# 조사결과 나이대는 20대 중후반이 가장 많음\n",
    "ageMedian = dfTitanic['age'].median()"
   ]
  },
  {
   "cell_type": "code",
   "execution_count": null,
   "metadata": {},
   "outputs": [],
   "source": [
    "# 나이에 빈값을 중앙값으로 채워넣음\n",
    "dfTitanic['age'] = dfTitanic['age'].fillna(ageMedian)"
   ]
  },
  {
   "cell_type": "code",
   "execution_count": null,
   "metadata": {},
   "outputs": [],
   "source": [
    "dfTitanic.info()"
   ]
  },
  {
   "cell_type": "code",
   "execution_count": null,
   "metadata": {},
   "outputs": [],
   "source": [
    "# 정박항 결측치 입력, 대부분 S(Southampton)에서 배를 탔음\n",
    "dfTitanic['embarked'].value_counts()"
   ]
  },
  {
   "cell_type": "code",
   "execution_count": null,
   "metadata": {},
   "outputs": [],
   "source": [
    "dfTitanic['embark_town'].value_counts()"
   ]
  },
  {
   "cell_type": "code",
   "execution_count": null,
   "metadata": {},
   "outputs": [],
   "source": [
    "dfTitanic['embarked'] = dfTitanic['embarked'].fillna('S')"
   ]
  },
  {
   "cell_type": "code",
   "execution_count": null,
   "metadata": {},
   "outputs": [],
   "source": [
    "dfTitanic['embark_town'] = dfTitanic['embark_town'].fillna('Southampton')"
   ]
  },
  {
   "cell_type": "code",
   "execution_count": null,
   "metadata": {},
   "outputs": [],
   "source": [
    "dfTitanic.info()"
   ]
  },
  {
   "cell_type": "code",
   "execution_count": null,
   "metadata": {},
   "outputs": [],
   "source": [
    "## 데크 결측치 제거\n",
    "dfTitanic['deck'].value_counts()"
   ]
  },
  {
   "cell_type": "code",
   "execution_count": null,
   "metadata": {},
   "outputs": [],
   "source": [
    "\n",
    "## 데크가 제일 많은 빈도로 나온것 C데크 \n",
    "## 각 데크별로 빈도의 차이가 별로 없기때문에 \n",
    "## C데크를 입력, 데크로 상관관계 비교는 지표에서는 사용하지 않는 것이 좋음\n",
    "dfTitanic['deck'] = dfTitanic['deck'].fillna('C')"
   ]
  },
  {
   "cell_type": "code",
   "execution_count": null,
   "metadata": {},
   "outputs": [],
   "source": [
    "dfTitanic.info()"
   ]
  },
  {
   "cell_type": "code",
   "execution_count": null,
   "metadata": {},
   "outputs": [],
   "source": [
    "\n",
    "dfTitanic.to_excel('./data/타이타닉생존자_전처리완.xlsx', index=False)"
   ]
  },
  {
   "cell_type": "code",
   "execution_count": null,
   "metadata": {},
   "outputs": [],
   "source": [
    "\n",
    "dfTitanic['survived'][dfTitanic['sex'] == 'male'].value_counts()"
   ]
  },
  {
   "cell_type": "code",
   "execution_count": null,
   "metadata": {},
   "outputs": [],
   "source": [
    "# 파이차트\n",
    "f, ax = plt.subplots(1, 2, figsize=(12, 6))\n",
    "\n",
    "# 판다스 DF, 시리즈는 matplotlib 차트로 그릴 수 있음\n",
    "maleLabels= ['사망', '생존']\n",
    "femaleLabels = ['생존', '사망']\n",
    "maleColors = ['gray', 'lightGreen']\n",
    "femaleColors = ['lightGreen', 'gray']\n",
    "wedgeProps = { 'width': 0.7, 'edgecolor': 'w', 'linewidth': 5 }\n",
    "\n",
    "dfTitanic['survived'][dfTitanic['sex'] == 'male'].value_counts().plot.pie(ax=ax[0], \n",
    "                                                    shadow=False, explode=[0, 0.01], autopct='%.1f%%',\n",
    "                                                    labels=maleLabels, colors=maleColors, wedgeprops=wedgeProps)\n",
    "dfTitanic['survived'][dfTitanic['sex'] == 'female'].value_counts().plot.pie(ax=ax[1], \n",
    "                                                    shadow=False, explode=[0, 0.01], autopct='%.1f%%',\n",
    "                                                    labels=femaleLabels, colors=femaleColors, wedgeprops=wedgeProps)\n",
    "\n",
    "ax[0].set_title('타이타닉 생존율(남성)')\n",
    "ax[1].set_title('타이타닉 생존율(여성)')\n",
    "ax[0].set_axis_off() # 축의 count 라벨 필요없음\n",
    "ax[1].set_axis_off() # 축의 count 라벨 필요없음\n",
    "\n",
    "plt.show()"
   ]
  },
  {
   "cell_type": "code",
   "execution_count": null,
   "metadata": {},
   "outputs": [],
   "source": [
    "## 등급(pclass) 생존자 수 바차트\n",
    "plt.figure(figsize=(10, 5))\n",
    "# stat= count, percent 등이 있음\n",
    "\n",
    "ax = sns.countplot(dfTitanic, x='pclass', hue='survived', stat='count')\n",
    "\n",
    "for p in ax.patches: # 바 갯수만큼 반복\n",
    "    height = p.get_height()\n",
    "    ax.text(p.get_x() + p.get_width() / 2., height+5, int(height), ha='center', size=10)\n",
    "\n",
    "plt.show()"
   ]
  },
  {
   "cell_type": "markdown",
   "metadata": {},
   "source": [
    "##### 데이터 속성(변수)간 상관관계\n",
    "- pandas DF에 corr()함수 사용"
   ]
  },
  {
   "cell_type": "code",
   "execution_count": null,
   "metadata": {},
   "outputs": [],
   "source": [
    "# 상관계수는 object, category는 적용불가\n",
    "dfTitanic.info()"
   ]
  },
  {
   "cell_type": "code",
   "execution_count": null,
   "metadata": {},
   "outputs": [],
   "source": [
    "dfTitanic.head()"
   ]
  },
  {
   "cell_type": "code",
   "execution_count": null,
   "metadata": {},
   "outputs": [],
   "source": [
    "# 상관계수 메서드: pearson, kendall, spearman\n",
    "# 상관관계를 모든 속성으로 다 집계\n",
    "dfTitanic[['survived', 'pclass', 'age', 'sibsp', 'parch', 'fare', 'adult_male', 'alone']].corr(method='pearson')"
   ]
  },
  {
   "cell_type": "code",
   "execution_count": null,
   "metadata": {},
   "outputs": [],
   "source": [
    "# 각 두가지 속성끼리 상관관계 도출\n",
    "dfTitanic['survived'].corr(dfTitanic['fare'])"
   ]
  },
  {
   "cell_type": "code",
   "execution_count": null,
   "metadata": {},
   "outputs": [],
   "source": [
    "sns.pairplot(dfTitanic, hue='survived')\n",
    "plt.show()"
   ]
  },
  {
   "cell_type": "code",
   "execution_count": null,
   "metadata": {},
   "outputs": [],
   "source": [
    "dfTitanic = pd.read_excel('./data/타이타닉생존자_전처리완.xlsx')"
   ]
  },
  {
   "cell_type": "code",
   "execution_count": null,
   "metadata": {},
   "outputs": [],
   "source": [
    "## 상관관계를 히트맵 시각화\n",
    "def categoryAge(x):\n",
    "    if x < 10: return 0\n",
    "    elif x < 20: return 1\n",
    "    elif x < 30: return 2\n",
    "    elif x < 40: return 3\n",
    "    elif x < 50: return 4\n",
    "    elif x < 60: return 5\n",
    "    elif x < 70: return 6\n",
    "    elif x < 80: return 7\n",
    "    else: return 8"
   ]
  },
  {
   "cell_type": "code",
   "execution_count": null,
   "metadata": {},
   "outputs": [],
   "source": [
    "# 히트맵에서 사용하기 위해서 컬럼 재생산\n",
    "dfTitanic['age2'] = dfTitanic['age'].apply(categoryAge) # 컬럼의 값을 함수를 적용해서 값을 낼 수 있음\n",
    "dfTitanic['sex'] = dfTitanic['sex'].map({'male':1, 'female':0}) # 여러번 수행하면 안됨\n",
    "dfTitanic['family'] = dfTitanic['sibsp'] + dfTitanic['parch'] + 1"
   ]
  },
  {
   "cell_type": "code",
   "execution_count": null,
   "metadata": {},
   "outputs": [],
   "source": [
    "dfTitanic.tail()"
   ]
  },
  {
   "cell_type": "code",
   "execution_count": null,
   "metadata": {},
   "outputs": [],
   "source": [
    "## 히트맵\n",
    "plt.figure(figsize=(12, 8)) # 차트 크기를 지정\n",
    "hData = dfTitanic[['survived', 'sex', 'age2', 'family', 'pclass', 'fare']]\n",
    "## 속성정리, square=각 히트탭 셀 정사각형\n",
    "## annot=True 값 화면표시\n",
    "sns.heatmap(hData.astype(float).corr(), linewidths=1.0, square=False, vmax=1.0, cmap='YlGn', linecolor='white', annot=True, annot_kws={'size': 10 })\n",
    "\n",
    "plt.title('타이타닉 속성별 상관관계 히트맵')\n",
    "plt.show()"
   ]
  },
  {
   "cell_type": "markdown",
   "metadata": {},
   "source": [
    "- 상관관계는 음의관계, 양의관계 모두 중요. 절대값 0.4~1.0 사이의 값에 대한 속성간의 분석을 시작하면 됨\n",
    "- 0.2 이하의 데이터는 분석대상에서 제외"
   ]
  }
 ],
 "metadata": {
  "kernelspec": {
   "display_name": "Python 3",
   "language": "python",
   "name": "python3"
  },
  "language_info": {
   "codemirror_mode": {
    "name": "ipython",
    "version": 3
   },
   "file_extension": ".py",
   "mimetype": "text/x-python",
   "name": "python",
   "nbconvert_exporter": "python",
   "pygments_lexer": "ipython3",
   "version": "3.12.2"
  }
 },
 "nbformat": 4,
 "nbformat_minor": 2
}
